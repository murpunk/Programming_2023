{
  "nbformat": 4,
  "nbformat_minor": 0,
  "metadata": {
    "colab": {
      "provenance": [],
      "authorship_tag": "ABX9TyMCpMB2qs5NhkKHAGnacGkI",
      "include_colab_link": true
    },
    "kernelspec": {
      "name": "python3",
      "display_name": "Python 3"
    },
    "language_info": {
      "name": "python"
    }
  },
  "cells": [
    {
      "cell_type": "markdown",
      "metadata": {
        "id": "view-in-github",
        "colab_type": "text"
      },
      "source": [
        "<a href=\"https://colab.research.google.com/github/murpunk/Programming_2023/blob/main/%D0%9F%D0%B0%D0%BD%D0%BA%D0%BE%D0%B2%D0%B0_2_%D0%A1%D1%82%D1%80%D0%BE%D0%BA%D0%B8_%D0%B7%D0%B0%D0%B4%D0%B0%D1%87%D0%B0_%D0%BF%D0%BE%D0%B8%D1%81%D0%BA%D0%B0_%D0%BD%D0%B0%D0%B8%D0%B2%D0%BD%D1%8B%D0%B9_%D0%B0%D0%BB%D0%B3%D0%BE%D1%80%D0%B8%D1%82%D0%BC.ipynb\" target=\"_parent\"><img src=\"https://colab.research.google.com/assets/colab-badge.svg\" alt=\"Open In Colab\"/></a>"
      ]
    },
    {
      "cell_type": "markdown",
      "source": [
        "## Реализовать 2 функции (со срезами и вложенным циклом), которые модифицируют разобранные на занятии так, чтобы вместо True/False возвращались индексы вхождений подстроки в строку"
      ],
      "metadata": {
        "id": "FcB08zEuTdv1"
      }
    },
    {
      "cell_type": "code",
      "source": [
        "s = \"My name is Alex. I want to study.\"\n",
        "p = \"Alex1. I\"\n",
        "\n",
        "pos_p__lst = [\n",
        "    \"My name \",\n",
        "    \"Alex. I\",\n",
        "    \"want to study\"\n",
        "]\n",
        "\n",
        "neg_p__lst = [\n",
        "    \"name are\",\n",
        "    \"i want to\"\n",
        "]\n",
        "\n",
        "\n",
        "def print_results_search_func(func):\n",
        "    print('Positive')\n",
        "    for pos_p in pos_p__lst:\n",
        "        print(f'{pos_p} | {func(s, pos_p)}')\n",
        "    print('-----------')\n",
        "    print('Negative')\n",
        "    for neg_p in neg_p__lst:\n",
        "        print(f'{neg_p} | {func(s, neg_p)}')"
      ],
      "metadata": {
        "id": "WcgvLDH5T3Od"
      },
      "execution_count": 3,
      "outputs": []
    },
    {
      "cell_type": "code",
      "execution_count": 9,
      "metadata": {
        "colab": {
          "base_uri": "https://localhost:8080/"
        },
        "id": "7YjetrN9TIZw",
        "outputId": "e2f92f8a-e1cf-4106-8f6c-5afb05c205c8"
      },
      "outputs": [
        {
          "output_type": "stream",
          "name": "stdout",
          "text": [
            "Positive\n",
            "My name  | (0, 8)\n",
            "Alex. I | (11, 18)\n",
            "want to study | (19, 32)\n",
            "-----------\n",
            "Negative\n",
            "name are | []\n",
            "i want to | []\n"
          ]
        }
      ],
      "source": [
        "# Homework - срезы\n",
        "def find_pattern(s, p):\n",
        "  \"\"\"Возвращает список пар (i_start, i_end), которые соответствуют подстроке. Если вхождений нет, верните []\"\"\"\n",
        "  n = len(s)\n",
        "  m = len(p)\n",
        "  for i_start in range(0, n - m):\n",
        "      i_end = i_start + m\n",
        "        current_s = s[i_start:i_end]\n",
        "        if current_s == p:\n",
        "            return i_start, i_end\n",
        "    return []\n",
        "\n",
        "print_results_search_func(find_pattern)"
      ]
    },
    {
      "cell_type": "code",
      "source": [
        "# Homework - флаги\n",
        "def find_all_patterns(s, p):\n",
        "  \"\"\"Возвращает список пар (i_start, i_end), которые соответствуют подстроке. Если вхождений нет, верните []\"\"\"\n",
        "  n = len(s)\n",
        "  m = len(p)\n",
        "  for i_start in range(0, n - m):\n",
        "    fl = True\n",
        "    for j in range(m):\n",
        "      i_end = i_start + j\n",
        "      if p[j] != s[i_end]:\n",
        "        fl = False\n",
        "        break\n",
        "      if fl:\n",
        "        return i_start, i_end\n",
        "  return []\n",
        "\n",
        "print_results_search_func(find_all_patterns)"
      ],
      "metadata": {
        "colab": {
          "base_uri": "https://localhost:8080/"
        },
        "id": "0QuFtcaPTpNr",
        "outputId": "971137fb-72b7-435e-8187-267ee2a75a05"
      },
      "execution_count": 12,
      "outputs": [
        {
          "output_type": "stream",
          "name": "stdout",
          "text": [
            "Positive\n",
            "My name  | (0, 0)\n",
            "Alex. I | (11, 11)\n",
            "want to study | (19, 19)\n",
            "-----------\n",
            "Negative\n",
            "name are | (3, 3)\n",
            "i want to | (8, 8)\n"
          ]
        }
      ]
    },
    {
      "cell_type": "code",
      "source": [],
      "metadata": {
        "id": "0fsyeNLITsxo"
      },
      "execution_count": null,
      "outputs": []
    }
  ]
}