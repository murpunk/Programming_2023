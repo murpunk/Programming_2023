{
  "nbformat": 4,
  "nbformat_minor": 0,
  "metadata": {
    "colab": {
      "provenance": [],
      "authorship_tag": "ABX9TyNkZkY5RvOWLZNvuaL+RFfJ",
      "include_colab_link": true
    },
    "kernelspec": {
      "name": "python3",
      "display_name": "Python 3"
    },
    "language_info": {
      "name": "python"
    }
  },
  "cells": [
    {
      "cell_type": "markdown",
      "metadata": {
        "id": "view-in-github",
        "colab_type": "text"
      },
      "source": [
        "<a href=\"https://colab.research.google.com/github/murpunk/Programming_2023/blob/main/24_04_23_Logistic_Regression.ipynb\" target=\"_parent\"><img src=\"https://colab.research.google.com/assets/colab-badge.svg\" alt=\"Open In Colab\"/></a>"
      ]
    },
    {
      "cell_type": "markdown",
      "source": [
        "# 0. Список литературы"
      ],
      "metadata": {
        "id": "2VUFXtA7N_rY"
      }
    },
    {
      "cell_type": "markdown",
      "source": [
        "1.  Рашка Себастьян, Мирджалили Вахид. Python и машинное обучение: машинное и глубокое обучение с использованием Python, scikit-learn и TensorFlow 2, 3-е изд.: Пер. с англ. СПб. : ООО \"Диалектика\", 2020. 848 с.\n",
        "2.  Жерон, Орельен. Прикладное машинное обучение с помощью Scikit-Learn и\n",
        "TensorFlow: концепции, инструменты и техники для создания интеллекту-\n",
        "альных систем. Пер. с англ. СпБ.: ООО Альфа-книга: 2018. 688 с.\n",
        "3.  К.В. Воронцов. Математические методы обучения по прецедентам (теория\n",
        "обучения машин). 141 с. (Voron-ML-1.pdf)\n",
        "4.  Крис Элбон. Машинное обучение с использованием Python. Сборник рецептов. Пер. с англ. СПб. : БХВ-Петербург, 2019. 384 с.\n",
        "\n"
      ],
      "metadata": {
        "id": "JPvQxBzHOhnl"
      }
    },
    {
      "cell_type": "markdown",
      "source": [
        "# I. Прочитайте пункт “Метод логистической регрессии” и рекомендуемую литературу и ответьте на вопросы\n"
      ],
      "metadata": {
        "id": "-ht3rY39PaFU"
      }
    },
    {
      "cell_type": "markdown",
      "source": [
        "###  1. Чем метод отличается от других линейных методов?"
      ],
      "metadata": {
        "id": "tbV2mXCCPnwC"
      }
    },
    {
      "cell_type": "markdown",
      "source": [
        "В отличие от обычной регрессии, где нужно предсказать, какое значение примет целевая переменная, в методе логистической регрессии подсчитывается вероятность того, что это значение принадлежит к какому-либо классу.\n",
        "\n",
        "Линейная регрессия использует метод наименьших квадратов, чтобы найти наиболее подходящее уравнение регрессии. Логистическая регрессия использует оценку максимального правдоподобия."
      ],
      "metadata": {
        "id": "lkEaGDYgP0Ft"
      }
    },
    {
      "cell_type": "markdown",
      "source": [
        "### 2.  По какой формуле при предсказании вычисляется вероятность?"
      ],
      "metadata": {
        "id": "8B48KSaBP1Yp"
      }
    },
    {
      "cell_type": "markdown",
      "source": [
        "Вероятность принадлежности точки $x$ к классу $y = 1$ вычисляется по формуле:\n",
        "$p(y = 1|x;w) = \\sigma(\\langle x, w\\rangle)$, где $\\sigma(t)$ -- это логистическая сигмоидальная функция:\n",
        "\n",
        "$\\sigma(t) = \\frac{1}{1 + e^{-t}}$"
      ],
      "metadata": {
        "id": "67VlU-_DP5YO"
      }
    },
    {
      "cell_type": "markdown",
      "source": [
        "Вероятность принадлежать точке $x$ к классу $y = 0$ вычисляется по формуле $p(y = 0|x;w) = 1 - p(y = 1|x;w) = 1 - \\sigma(\\langle x, w\\rangle) = \\sigma(-\\langle x, w\\rangle)$"
      ],
      "metadata": {
        "id": "jm47mEsSdR4G"
      }
    },
    {
      "cell_type": "markdown",
      "source": [
        "### 3.  Какие основные параметры метода в библиотеке Scikit-Learn?"
      ],
      "metadata": {
        "id": "q7kREcXCP7Ar"
      }
    },
    {
      "cell_type": "markdown",
      "source": [
        "В [документации](https://scikit-learn.org/stable/modules/generated/sklearn.linear_model.LogisticRegression.html#sklearn.linear_model.LogisticRegression) метода в библиотеке Scikit-Learn перечислены следующие параметры:\n",
        "\n",
        "\n",
        "*class sklearn.linear_model*.**LogisticRegression**(penalty='l2', *, dual=False, tol=0.0001, C=1.0, fit_intercept=True, intercept_scaling=1, class_weight=None, random_state=None, solver='lbfgs', max_iter=100, multi_class='auto', verbose=0, warm_start=False, n_jobs=None, l1_ratio=None)\n",
        "\n",
        "Основным параметром можно назвать solver. По умолчанию сейчас используется lbfgs -- это алгоритм оптимизации, позволяющий обрабатывать полиномиальные потери."
      ],
      "metadata": {
        "id": "1pYF0r9sP_o6"
      }
    },
    {
      "cell_type": "markdown",
      "source": [
        "### 4.  Какие преимущества и недостатки метода?"
      ],
      "metadata": {
        "id": "QoTGaDDoQA6j"
      }
    },
    {
      "cell_type": "markdown",
      "source": [
        "**Преимущества** логистической регрессии:\n",
        "*  даёт лучшие результаты по стравнению с некоторыми другими методами (линейный дискриминант Фишера, дельта-правило, правило Хэбба);\n",
        "*  есть возможность оценить апостериорные (полученные из опыта) вероятности и риски.\n",
        "\n",
        "**Недостатки** метода:\n",
        "*  оценки вероятностей и рисков могут оказаться неадекватными, если пренебречь некоторыми условиями;\n",
        "*  нужно использовать много настроек (эвристик), чтобы метод сошёлся."
      ],
      "metadata": {
        "id": "3NP2LUQbQEkG"
      }
    },
    {
      "cell_type": "markdown",
      "source": [
        "# II. Выполните задание из файла statement-logistic.pdf\n"
      ],
      "metadata": {
        "id": "wWfo09UsQGes"
      }
    },
    {
      "cell_type": "markdown",
      "source": [
        "### 1. Загрузите данные из файла data-logistic.csv. Это двумерная выборка, целевая переменная на которой принимает значения -1 или 1."
      ],
      "metadata": {
        "id": "j16opwXoQL59"
      }
    },
    {
      "cell_type": "code",
      "source": [
        "from google.colab import drive\n",
        "drive.mount(\"/content/drive\")"
      ],
      "metadata": {
        "colab": {
          "base_uri": "https://localhost:8080/"
        },
        "id": "GjB89IReSQUC",
        "outputId": "ebb7048d-e936-4616-ec54-473a12c8eabc"
      },
      "execution_count": 1,
      "outputs": [
        {
          "output_type": "stream",
          "name": "stdout",
          "text": [
            "Mounted at /content/drive\n"
          ]
        }
      ]
    },
    {
      "cell_type": "code",
      "source": [
        "import pandas as pd\n",
        "import numpy as np"
      ],
      "metadata": {
        "id": "dQ3iCwlOmsSD"
      },
      "execution_count": 2,
      "outputs": []
    },
    {
      "cell_type": "code",
      "source": [
        "data = pd.read_csv(\"/content/drive/MyDrive/Программирование/data-logistic.csv\", header = None)\n",
        "data"
      ],
      "metadata": {
        "id": "wsclkByBmxwj"
      },
      "execution_count": null,
      "outputs": []
    },
    {
      "cell_type": "code",
      "source": [
        "X_train = data[0]\n",
        "y_train = data.iloc[:,1:]"
      ],
      "metadata": {
        "id": "qcGANprlnnuk"
      },
      "execution_count": 11,
      "outputs": []
    },
    {
      "cell_type": "code",
      "source": [
        "y_train"
      ],
      "metadata": {
        "id": "HQVnt0nan2I7"
      },
      "execution_count": null,
      "outputs": []
    },
    {
      "cell_type": "markdown",
      "source": [
        "### 2. Убедитесь, что выше выписаны правильные формулы для градиентного спуска. Обратите внимание, что мы используем полноценный градиентный спуск, а не его стохастический вариант!"
      ],
      "metadata": {
        "id": "XCOqqMuWST3z"
      }
    },
    {
      "cell_type": "code",
      "source": [
        "???"
      ],
      "metadata": {
        "id": "UJH_uvmzSaQB"
      },
      "execution_count": null,
      "outputs": []
    },
    {
      "cell_type": "markdown",
      "source": [
        "### 3. Реализуйте градиентный спуск для обычной и L2-регуляризованной (с коэффициентом регуляризации 10) логистической регрессии. Используйте длину шага k=0.1. В качестве начального приближения используйте вектор (0, 0)."
      ],
      "metadata": {
        "id": "i7XaMIGnSbAf"
      }
    },
    {
      "cell_type": "code",
      "source": [
        "from sklearn.linear_model import LogisticRegression"
      ],
      "metadata": {
        "id": "IFpkfX36ShZF"
      },
      "execution_count": 15,
      "outputs": []
    },
    {
      "cell_type": "code",
      "source": [
        "clf_regular = LogisticRegression(random_state=0).fit(y_train, X_train)\n",
        "clf_L2 = LogisticRegression(random_state=0, C=10).fit(y_train, X_train)"
      ],
      "metadata": {
        "id": "x6KJbVSDr90i"
      },
      "execution_count": 20,
      "outputs": []
    },
    {
      "cell_type": "markdown",
      "source": [
        "### 4. Запустите градиентный спуск и доведите до сходимости (евклидово расстояние между векторами весов на соседних итерациях должно быть не больше 1e-5). Рекомендуется ограничить сверху число итераций десятью тысячами.\n"
      ],
      "metadata": {
        "id": "KtkxZwM8SiI1"
      }
    },
    {
      "cell_type": "code",
      "source": [],
      "metadata": {
        "id": "YA9-KUeuSo5j"
      },
      "execution_count": null,
      "outputs": []
    },
    {
      "cell_type": "markdown",
      "source": [
        "### 5. Какое значение принимает AUC-ROC на обучении без регуляризации и при ее использовании? Эти величины будут ответом на задание. В качестве ответа приведите два числа через пробел. Обратите внимание, что на вход функции roc_auc_score нужно подавать оценки вероятностей, подсчитанные обученным алгоритмом. Для этого воспользуйтесь сигмоидной функцией: $a(x) = 1/(1 + exp(−w1 x1 − w2x2))$\n"
      ],
      "metadata": {
        "id": "rVFccnRbSpWW"
      }
    },
    {
      "cell_type": "code",
      "source": [
        "from sklearn.metrics import roc_auc_score"
      ],
      "metadata": {
        "id": "qk8hiGnoTB4A"
      },
      "execution_count": 14,
      "outputs": []
    },
    {
      "cell_type": "markdown",
      "source": [
        "### 6. Попробуйте поменять длину шага. Будет ли сходиться алгоритм, если делать более длинные шаги? Как меняется число итераций при уменьшении длины шага?\n"
      ],
      "metadata": {
        "id": "vihGXtfcTExa"
      }
    },
    {
      "cell_type": "code",
      "source": [],
      "metadata": {
        "id": "RLCWBJ3sTHZR"
      },
      "execution_count": null,
      "outputs": []
    },
    {
      "cell_type": "markdown",
      "source": [
        "### 7. Попробуйте менять начальное приближение. Влияет ли оно на что-нибудь?\n"
      ],
      "metadata": {
        "id": "TLQCyStYTIHF"
      }
    },
    {
      "cell_type": "code",
      "source": [],
      "metadata": {
        "id": "iXYnIGOLTNWC"
      },
      "execution_count": null,
      "outputs": []
    }
  ]
}