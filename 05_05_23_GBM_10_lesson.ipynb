{
  "nbformat": 4,
  "nbformat_minor": 0,
  "metadata": {
    "colab": {
      "provenance": [],
      "authorship_tag": "ABX9TyOjrVIONMgXRofY9I4kXtGv",
      "include_colab_link": true
    },
    "kernelspec": {
      "name": "python3",
      "display_name": "Python 3"
    },
    "language_info": {
      "name": "python"
    }
  },
  "cells": [
    {
      "cell_type": "markdown",
      "metadata": {
        "id": "view-in-github",
        "colab_type": "text"
      },
      "source": [
        "<a href=\"https://colab.research.google.com/github/murpunk/Programming_2023/blob/main/05_05_23_GBM_10_lesson.ipynb\" target=\"_parent\"><img src=\"https://colab.research.google.com/assets/colab-badge.svg\" alt=\"Open In Colab\"/></a>"
      ]
    },
    {
      "cell_type": "markdown",
      "source": [
        "# 0. Список литературы"
      ],
      "metadata": {
        "id": "KxOfrHGej1r_"
      }
    },
    {
      "cell_type": "markdown",
      "source": [
        "1. Жерон, Орельен. Прикладное машинное обучение с помощью Scikit-Learn и TensorFlow: концепции, инструменты и техники для создания интеллектуальных систем. Пер. с англ. СпБ.: ООО Альфа-книга: 2018. С. 251—261.\n",
        "\n",
        "2. Андреас Мюллер, Сара Гвидо Введение в машинное обучение с помощью Python. Руководство для специалистов по работе с данными. С. 106—110.\n",
        "\n",
        "3. Рашка Себастьян, Мирджалили Вахид Python и машинное обучение: машинное и глубокое обучение с использованием Python, scikit-learn и TensorFlow 2, 3-е изд.: Пер. с англ. СПб. : ООО \"Диалектика\", 2020. С. 302-312.\n",
        "\n",
        "4. К.В. Воронцов Математические методы обучения по прецедентам (теория обучения машин). 141 с.\n",
        "\n",
        "5. Машинное обучение (курс лекций, К.В.Воронцов): Многомерная линейная регрессия (курс лекций, К.В.Воронцов)\n",
        "(machinelearning.ru) (лекция К.В. Воронцов “Линейные ансабли”: https://www.youtube.com/watch?v=-wa43XNJfVI)\n",
        "\n",
        "6. Крис Элбон Машинное обучение с использованием Python. Сборник рецептов. Пер. с англ. СПб. : БХВ-Петербург, 2019. 384 с."
      ],
      "metadata": {
        "id": "L3dgxNsvj5hc"
      }
    },
    {
      "cell_type": "markdown",
      "source": [
        "# I. Прочитайте рекомендованную литературу"
      ],
      "metadata": {
        "id": "61AgcM1RklOM"
      }
    },
    {
      "cell_type": "markdown",
      "source": [
        "# II. Выполните задание из файла statement-gbm.pdf"
      ],
      "metadata": {
        "id": "l1u_wHgFkr_0"
      }
    },
    {
      "cell_type": "markdown",
      "source": [
        "### 1.  Загрузите выборку из файла gbm-data.csv с помощью pandas и преобразуйте ее в массив numpy (параметр values у датафрейма)"
      ],
      "metadata": {
        "id": "nmYF5vXPlIXd"
      }
    },
    {
      "cell_type": "markdown",
      "source": [
        "В первой колонке файла с данными записано, была или нет реакция. Все остальные колонки (d1 - d1776) содержат различные характеристики молекулы, такие как размер, форма и т.д. Разбейте выборку на обучающую и тестовую, используя функцию train_test_split с параметрами test_size = 0.8 и random_state = 241.\n"
      ],
      "metadata": {
        "id": "X737xgUBlL2e"
      }
    },
    {
      "cell_type": "code",
      "execution_count": 2,
      "metadata": {
        "id": "gQjOyVlGiyMc"
      },
      "outputs": [],
      "source": [
        "import pandas as pd\n",
        "import numpy as np\n",
        "import matplotlib.pyplot as plt\n",
        "from sklearn.metrics import log_loss\n",
        "from sklearn.model_selection import train_test_split\n",
        "from sklearn.ensemble import GradientBoostingClassifier, RandomForestClassifier"
      ]
    },
    {
      "cell_type": "code",
      "source": [
        "from google.colab import drive\n",
        "drive.mount('/content/drive')"
      ],
      "metadata": {
        "colab": {
          "base_uri": "https://localhost:8080/"
        },
        "id": "nIuzD_Nqlzpa",
        "outputId": "ca85c185-9ae3-4892-825d-2a2b13140cf9"
      },
      "execution_count": 1,
      "outputs": [
        {
          "output_type": "stream",
          "name": "stdout",
          "text": [
            "Mounted at /content/drive\n"
          ]
        }
      ]
    },
    {
      "cell_type": "code",
      "source": [
        "df = pd.read_csv(\"/content/drive/MyDrive/Программирование/gbm-data.csv\")\n",
        "df"
      ],
      "metadata": {
        "id": "lMVMc2Y3mIZ5"
      },
      "execution_count": null,
      "outputs": []
    },
    {
      "cell_type": "code",
      "source": [
        "df = df.fillna(0)"
      ],
      "metadata": {
        "id": "OtQICNRNmfi1"
      },
      "execution_count": null,
      "outputs": []
    },
    {
      "cell_type": "code",
      "source": [
        "X = data.loc[:, \"D1\":\"D1776\"].values # признаки\n",
        "y = data[\"Activity\"].values # целевая переменная"
      ],
      "metadata": {
        "id": "7aTDhFaGmmOd"
      },
      "execution_count": null,
      "outputs": []
    },
    {
      "cell_type": "code",
      "source": [
        "X_train, X_test, y_train, y_test = train_test_split (X, y, test_size = 0.8, random_state = 241)"
      ],
      "metadata": {
        "id": "94qgmF4rmzpR"
      },
      "execution_count": null,
      "outputs": []
    }
  ]
}