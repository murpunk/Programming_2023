{
  "nbformat": 4,
  "nbformat_minor": 0,
  "metadata": {
    "colab": {
      "provenance": [],
      "authorship_tag": "ABX9TyNJ8GL89YNEQMv7CsBucO1P",
      "include_colab_link": true
    },
    "kernelspec": {
      "name": "python3",
      "display_name": "Python 3"
    },
    "language_info": {
      "name": "python"
    }
  },
  "cells": [
    {
      "cell_type": "markdown",
      "metadata": {
        "id": "view-in-github",
        "colab_type": "text"
      },
      "source": [
        "<a href=\"https://colab.research.google.com/github/murpunk/Programming_2023/blob/main/05_05_23_GBM_10_lesson.ipynb\" target=\"_parent\"><img src=\"https://colab.research.google.com/assets/colab-badge.svg\" alt=\"Open In Colab\"/></a>"
      ]
    },
    {
      "cell_type": "markdown",
      "source": [
        "# 0. Список литературы"
      ],
      "metadata": {
        "id": "KxOfrHGej1r_"
      }
    },
    {
      "cell_type": "markdown",
      "source": [
        "1. Жерон, Орельен. Прикладное машинное обучение с помощью Scikit-Learn и TensorFlow: концепции, инструменты и техники для создания интеллектуальных систем. Пер. с англ. СпБ.: ООО Альфа-книга: 2018. С. 251—261.\n",
        "\n",
        "2. Андреас Мюллер, Сара Гвидо Введение в машинное обучение с помощью Python. Руководство для специалистов по работе с данными. С. 106—110.\n",
        "\n",
        "3. Рашка Себастьян, Мирджалили Вахид Python и машинное обучение: машинное и глубокое обучение с использованием Python, scikit-learn и TensorFlow 2, 3-е изд.: Пер. с англ. СПб. : ООО \"Диалектика\", 2020. С. 302-312.\n",
        "\n",
        "4. К.В. Воронцов Математические методы обучения по прецедентам (теория обучения машин). 141 с.\n",
        "\n",
        "5. Машинное обучение (курс лекций, К.В.Воронцов): Многомерная линейная регрессия (курс лекций, К.В.Воронцов)\n",
        "(machinelearning.ru) (лекция К.В. Воронцов “Линейные ансабли”: https://www.youtube.com/watch?v=-wa43XNJfVI)\n",
        "\n",
        "6. Крис Элбон Машинное обучение с использованием Python. Сборник рецептов. Пер. с англ. СПб. : БХВ-Петербург, 2019. 384 с."
      ],
      "metadata": {
        "id": "L3dgxNsvj5hc"
      }
    },
    {
      "cell_type": "markdown",
      "source": [
        "# I. Прочитайте рекомендованную литературу"
      ],
      "metadata": {
        "id": "61AgcM1RklOM"
      }
    },
    {
      "cell_type": "markdown",
      "source": [
        "# II. Выполните задание из файла statement-gbm.pdf"
      ],
      "metadata": {
        "id": "l1u_wHgFkr_0"
      }
    },
    {
      "cell_type": "markdown",
      "source": [
        "### 1.  Загрузите выборку из файла gbm-data.csv с помощью pandas и преобразуйте ее в массив numpy (параметр values у датафрейма)"
      ],
      "metadata": {
        "id": "nmYF5vXPlIXd"
      }
    },
    {
      "cell_type": "markdown",
      "source": [
        "В первой колонке файла с данными записано, была или нет реакция. Все остальные колонки (d1 - d1776) содержат различные характеристики молекулы, такие как размер, форма и т.д. Разбейте выборку на обучающую и тестовую, используя функцию train_test_split с параметрами test_size = 0.8 и random_state = 241.\n"
      ],
      "metadata": {
        "id": "X737xgUBlL2e"
      }
    },
    {
      "cell_type": "code",
      "execution_count": 9,
      "metadata": {
        "id": "gQjOyVlGiyMc"
      },
      "outputs": [],
      "source": [
        "import pandas\n",
        "from sklearn.model_selection import train_test_split\n",
        "from sklearn.metrics import log_loss\n",
        "from sklearn.ensemble import GradientBoostingClassifier\n",
        "from sklearn.ensemble import RandomForestClassifier\n",
        "\n",
        "import matplotlib.pyplot as plt\n",
        "%matplotlib inline"
      ]
    },
    {
      "cell_type": "code",
      "source": [
        "from google.colab import drive\n",
        "drive.mount('/content/drive')"
      ],
      "metadata": {
        "colab": {
          "base_uri": "https://localhost:8080/"
        },
        "id": "nIuzD_Nqlzpa",
        "outputId": "ca85c185-9ae3-4892-825d-2a2b13140cf9"
      },
      "execution_count": 1,
      "outputs": [
        {
          "output_type": "stream",
          "name": "stdout",
          "text": [
            "Mounted at /content/drive\n"
          ]
        }
      ]
    },
    {
      "cell_type": "code",
      "source": [
        "df = pd.read_csv(\"/content/drive/MyDrive/Программирование/gbm-data.csv\")\n",
        "df.head()"
      ],
      "metadata": {
        "colab": {
          "base_uri": "https://localhost:8080/",
          "height": 299
        },
        "id": "lMVMc2Y3mIZ5",
        "outputId": "962aff4e-3a13-443a-b063-b31fdf5880f5"
      },
      "execution_count": 10,
      "outputs": [
        {
          "output_type": "execute_result",
          "data": {
            "text/plain": [
              "   Activity        D1        D2    D3   D4        D5        D6        D7  \\\n",
              "0         1  0.000000  0.497009  0.10  0.0  0.132956  0.678031  0.273166   \n",
              "1         1  0.366667  0.606291  0.05  0.0  0.111209  0.803455  0.106105   \n",
              "2         1  0.033300  0.480124  0.00  0.0  0.209791  0.610350  0.356453   \n",
              "3         1  0.000000  0.538825  0.00  0.5  0.196344  0.724230  0.235606   \n",
              "4         0  0.100000  0.517794  0.00  0.0  0.494734  0.781422  0.154361   \n",
              "\n",
              "         D8        D9  ...  D1767  D1768  D1769  D1770  D1771  D1772  D1773  \\\n",
              "0  0.585445  0.743663  ...      0      0      0      0      0      0      0   \n",
              "1  0.411754  0.836582  ...      1      1      1      1      0      1      0   \n",
              "2  0.517720  0.679051  ...      0      0      0      0      0      0      0   \n",
              "3  0.288764  0.805110  ...      0      0      0      0      0      0      0   \n",
              "4  0.303809  0.812646  ...      0      0      0      0      0      0      0   \n",
              "\n",
              "   D1774  D1775  D1776  \n",
              "0      0      0      0  \n",
              "1      0      1      0  \n",
              "2      0      0      0  \n",
              "3      0      0      0  \n",
              "4      0      0      0  \n",
              "\n",
              "[5 rows x 1777 columns]"
            ],
            "text/html": [
              "\n",
              "  <div id=\"df-e290c9b4-7195-40d9-b536-c1d83d795154\">\n",
              "    <div class=\"colab-df-container\">\n",
              "      <div>\n",
              "<style scoped>\n",
              "    .dataframe tbody tr th:only-of-type {\n",
              "        vertical-align: middle;\n",
              "    }\n",
              "\n",
              "    .dataframe tbody tr th {\n",
              "        vertical-align: top;\n",
              "    }\n",
              "\n",
              "    .dataframe thead th {\n",
              "        text-align: right;\n",
              "    }\n",
              "</style>\n",
              "<table border=\"1\" class=\"dataframe\">\n",
              "  <thead>\n",
              "    <tr style=\"text-align: right;\">\n",
              "      <th></th>\n",
              "      <th>Activity</th>\n",
              "      <th>D1</th>\n",
              "      <th>D2</th>\n",
              "      <th>D3</th>\n",
              "      <th>D4</th>\n",
              "      <th>D5</th>\n",
              "      <th>D6</th>\n",
              "      <th>D7</th>\n",
              "      <th>D8</th>\n",
              "      <th>D9</th>\n",
              "      <th>...</th>\n",
              "      <th>D1767</th>\n",
              "      <th>D1768</th>\n",
              "      <th>D1769</th>\n",
              "      <th>D1770</th>\n",
              "      <th>D1771</th>\n",
              "      <th>D1772</th>\n",
              "      <th>D1773</th>\n",
              "      <th>D1774</th>\n",
              "      <th>D1775</th>\n",
              "      <th>D1776</th>\n",
              "    </tr>\n",
              "  </thead>\n",
              "  <tbody>\n",
              "    <tr>\n",
              "      <th>0</th>\n",
              "      <td>1</td>\n",
              "      <td>0.000000</td>\n",
              "      <td>0.497009</td>\n",
              "      <td>0.10</td>\n",
              "      <td>0.0</td>\n",
              "      <td>0.132956</td>\n",
              "      <td>0.678031</td>\n",
              "      <td>0.273166</td>\n",
              "      <td>0.585445</td>\n",
              "      <td>0.743663</td>\n",
              "      <td>...</td>\n",
              "      <td>0</td>\n",
              "      <td>0</td>\n",
              "      <td>0</td>\n",
              "      <td>0</td>\n",
              "      <td>0</td>\n",
              "      <td>0</td>\n",
              "      <td>0</td>\n",
              "      <td>0</td>\n",
              "      <td>0</td>\n",
              "      <td>0</td>\n",
              "    </tr>\n",
              "    <tr>\n",
              "      <th>1</th>\n",
              "      <td>1</td>\n",
              "      <td>0.366667</td>\n",
              "      <td>0.606291</td>\n",
              "      <td>0.05</td>\n",
              "      <td>0.0</td>\n",
              "      <td>0.111209</td>\n",
              "      <td>0.803455</td>\n",
              "      <td>0.106105</td>\n",
              "      <td>0.411754</td>\n",
              "      <td>0.836582</td>\n",
              "      <td>...</td>\n",
              "      <td>1</td>\n",
              "      <td>1</td>\n",
              "      <td>1</td>\n",
              "      <td>1</td>\n",
              "      <td>0</td>\n",
              "      <td>1</td>\n",
              "      <td>0</td>\n",
              "      <td>0</td>\n",
              "      <td>1</td>\n",
              "      <td>0</td>\n",
              "    </tr>\n",
              "    <tr>\n",
              "      <th>2</th>\n",
              "      <td>1</td>\n",
              "      <td>0.033300</td>\n",
              "      <td>0.480124</td>\n",
              "      <td>0.00</td>\n",
              "      <td>0.0</td>\n",
              "      <td>0.209791</td>\n",
              "      <td>0.610350</td>\n",
              "      <td>0.356453</td>\n",
              "      <td>0.517720</td>\n",
              "      <td>0.679051</td>\n",
              "      <td>...</td>\n",
              "      <td>0</td>\n",
              "      <td>0</td>\n",
              "      <td>0</td>\n",
              "      <td>0</td>\n",
              "      <td>0</td>\n",
              "      <td>0</td>\n",
              "      <td>0</td>\n",
              "      <td>0</td>\n",
              "      <td>0</td>\n",
              "      <td>0</td>\n",
              "    </tr>\n",
              "    <tr>\n",
              "      <th>3</th>\n",
              "      <td>1</td>\n",
              "      <td>0.000000</td>\n",
              "      <td>0.538825</td>\n",
              "      <td>0.00</td>\n",
              "      <td>0.5</td>\n",
              "      <td>0.196344</td>\n",
              "      <td>0.724230</td>\n",
              "      <td>0.235606</td>\n",
              "      <td>0.288764</td>\n",
              "      <td>0.805110</td>\n",
              "      <td>...</td>\n",
              "      <td>0</td>\n",
              "      <td>0</td>\n",
              "      <td>0</td>\n",
              "      <td>0</td>\n",
              "      <td>0</td>\n",
              "      <td>0</td>\n",
              "      <td>0</td>\n",
              "      <td>0</td>\n",
              "      <td>0</td>\n",
              "      <td>0</td>\n",
              "    </tr>\n",
              "    <tr>\n",
              "      <th>4</th>\n",
              "      <td>0</td>\n",
              "      <td>0.100000</td>\n",
              "      <td>0.517794</td>\n",
              "      <td>0.00</td>\n",
              "      <td>0.0</td>\n",
              "      <td>0.494734</td>\n",
              "      <td>0.781422</td>\n",
              "      <td>0.154361</td>\n",
              "      <td>0.303809</td>\n",
              "      <td>0.812646</td>\n",
              "      <td>...</td>\n",
              "      <td>0</td>\n",
              "      <td>0</td>\n",
              "      <td>0</td>\n",
              "      <td>0</td>\n",
              "      <td>0</td>\n",
              "      <td>0</td>\n",
              "      <td>0</td>\n",
              "      <td>0</td>\n",
              "      <td>0</td>\n",
              "      <td>0</td>\n",
              "    </tr>\n",
              "  </tbody>\n",
              "</table>\n",
              "<p>5 rows × 1777 columns</p>\n",
              "</div>\n",
              "      <button class=\"colab-df-convert\" onclick=\"convertToInteractive('df-e290c9b4-7195-40d9-b536-c1d83d795154')\"\n",
              "              title=\"Convert this dataframe to an interactive table.\"\n",
              "              style=\"display:none;\">\n",
              "        \n",
              "  <svg xmlns=\"http://www.w3.org/2000/svg\" height=\"24px\"viewBox=\"0 0 24 24\"\n",
              "       width=\"24px\">\n",
              "    <path d=\"M0 0h24v24H0V0z\" fill=\"none\"/>\n",
              "    <path d=\"M18.56 5.44l.94 2.06.94-2.06 2.06-.94-2.06-.94-.94-2.06-.94 2.06-2.06.94zm-11 1L8.5 8.5l.94-2.06 2.06-.94-2.06-.94L8.5 2.5l-.94 2.06-2.06.94zm10 10l.94 2.06.94-2.06 2.06-.94-2.06-.94-.94-2.06-.94 2.06-2.06.94z\"/><path d=\"M17.41 7.96l-1.37-1.37c-.4-.4-.92-.59-1.43-.59-.52 0-1.04.2-1.43.59L10.3 9.45l-7.72 7.72c-.78.78-.78 2.05 0 2.83L4 21.41c.39.39.9.59 1.41.59.51 0 1.02-.2 1.41-.59l7.78-7.78 2.81-2.81c.8-.78.8-2.07 0-2.86zM5.41 20L4 18.59l7.72-7.72 1.47 1.35L5.41 20z\"/>\n",
              "  </svg>\n",
              "      </button>\n",
              "      \n",
              "  <style>\n",
              "    .colab-df-container {\n",
              "      display:flex;\n",
              "      flex-wrap:wrap;\n",
              "      gap: 12px;\n",
              "    }\n",
              "\n",
              "    .colab-df-convert {\n",
              "      background-color: #E8F0FE;\n",
              "      border: none;\n",
              "      border-radius: 50%;\n",
              "      cursor: pointer;\n",
              "      display: none;\n",
              "      fill: #1967D2;\n",
              "      height: 32px;\n",
              "      padding: 0 0 0 0;\n",
              "      width: 32px;\n",
              "    }\n",
              "\n",
              "    .colab-df-convert:hover {\n",
              "      background-color: #E2EBFA;\n",
              "      box-shadow: 0px 1px 2px rgba(60, 64, 67, 0.3), 0px 1px 3px 1px rgba(60, 64, 67, 0.15);\n",
              "      fill: #174EA6;\n",
              "    }\n",
              "\n",
              "    [theme=dark] .colab-df-convert {\n",
              "      background-color: #3B4455;\n",
              "      fill: #D2E3FC;\n",
              "    }\n",
              "\n",
              "    [theme=dark] .colab-df-convert:hover {\n",
              "      background-color: #434B5C;\n",
              "      box-shadow: 0px 1px 3px 1px rgba(0, 0, 0, 0.15);\n",
              "      filter: drop-shadow(0px 1px 2px rgba(0, 0, 0, 0.3));\n",
              "      fill: #FFFFFF;\n",
              "    }\n",
              "  </style>\n",
              "\n",
              "      <script>\n",
              "        const buttonEl =\n",
              "          document.querySelector('#df-e290c9b4-7195-40d9-b536-c1d83d795154 button.colab-df-convert');\n",
              "        buttonEl.style.display =\n",
              "          google.colab.kernel.accessAllowed ? 'block' : 'none';\n",
              "\n",
              "        async function convertToInteractive(key) {\n",
              "          const element = document.querySelector('#df-e290c9b4-7195-40d9-b536-c1d83d795154');\n",
              "          const dataTable =\n",
              "            await google.colab.kernel.invokeFunction('convertToInteractive',\n",
              "                                                     [key], {});\n",
              "          if (!dataTable) return;\n",
              "\n",
              "          const docLinkHtml = 'Like what you see? Visit the ' +\n",
              "            '<a target=\"_blank\" href=https://colab.research.google.com/notebooks/data_table.ipynb>data table notebook</a>'\n",
              "            + ' to learn more about interactive tables.';\n",
              "          element.innerHTML = '';\n",
              "          dataTable['output_type'] = 'display_data';\n",
              "          await google.colab.output.renderOutput(dataTable, element);\n",
              "          const docLink = document.createElement('div');\n",
              "          docLink.innerHTML = docLinkHtml;\n",
              "          element.appendChild(docLink);\n",
              "        }\n",
              "      </script>\n",
              "    </div>\n",
              "  </div>\n",
              "  "
            ]
          },
          "metadata": {},
          "execution_count": 10
        }
      ]
    },
    {
      "cell_type": "code",
      "source": [
        "df = df.fillna(0)"
      ],
      "metadata": {
        "id": "OtQICNRNmfi1"
      },
      "execution_count": null,
      "outputs": []
    },
    {
      "cell_type": "code",
      "source": [
        "X = df.loc[:, \"D1\":\"D1776\"].values # признаки\n",
        "y = df[\"Activity\"].values # целевая переменная"
      ],
      "metadata": {
        "id": "7aTDhFaGmmOd"
      },
      "execution_count": 11,
      "outputs": []
    },
    {
      "cell_type": "code",
      "source": [
        "X_train, X_test, y_train, y_test = train_test_split (X, y, test_size = 0.8, random_state = 241)"
      ],
      "metadata": {
        "id": "94qgmF4rmzpR"
      },
      "execution_count": 12,
      "outputs": []
    },
    {
      "cell_type": "markdown",
      "source": [
        "### 2. Обучите GradientBoostingClassifier"
      ],
      "metadata": {
        "id": "R_JMiFJ9wVE6"
      }
    },
    {
      "cell_type": "markdown",
      "source": [
        "Обучите GradientBoostingClassifier с параметрами n_estimators=250, verbose=True, random_state=241 и для каждого значения learning_rate из списка [1, 0.5, 0.3, 0.2, 0.1] проделайте следующее:\n"
      ],
      "metadata": {
        "id": "R4kG61pzwXuH"
      }
    },
    {
      "cell_type": "markdown",
      "source": [
        "* Используйте метод staged_decision_function для предсказания качества на обучающей и тестовой выборке на каждой\n",
        "итерации."
      ],
      "metadata": {
        "id": "9EQ5FNZNwi6i"
      }
    },
    {
      "cell_type": "markdown",
      "source": [
        "* Преобразуйте полученное предсказание по формуле $\\frac{1}{1+e^{-y_pred}}$, где y_pred — предсказанное значение.\n"
      ],
      "metadata": {
        "id": "pXVIu2CFxOzo"
      }
    },
    {
      "cell_type": "markdown",
      "source": [
        "* Вычислите и постройте график значений log-loss (которую можно посчитать с помощью функции sklearn.metrics.log_loss) на обучающей и тестовой выборках, а также найдите минимальное значение метрики и номер итерации, на которой оно достигается."
      ],
      "metadata": {
        "id": "jWqMIuhXy8p8"
      }
    },
    {
      "cell_type": "code",
      "source": [
        "import math"
      ],
      "metadata": {
        "id": "-220nHjY12OM"
      },
      "execution_count": 13,
      "outputs": []
    },
    {
      "cell_type": "code",
      "source": [
        "learning_rate = [1, 0.5, 0.3, 0.2, 0.1]\n",
        "for i in learning_rate:\n",
        "    model = GradientBoostingClassifier(learning_rate = i, n_estimators=250, verbose=False, random_state=241)\n",
        "    model.fit(X_train, y_train)\n",
        "\n",
        "    # Используйте метод staged_decision_function\n",
        "    # для предсказания качества на обучающей и тестовой выборке на каждой итерации.\n",
        "\n",
        "    # Преобразуйте полученное предсказание по формуле.\n",
        "    # Вычислить значений log-loss (которую можно посчитать с помощью функции\n",
        "    # sklearn.metrics.log_loss) на обучающей и тестовой выборках\n",
        "    for_train = []\n",
        "    for x in model.staged_decision_function(X_train):\n",
        "        for_train.append(log_loss(y_train, [1.0 / (1.0 + math.exp(-i)) for i in x]))\n",
        "    for_test = []\n",
        "    for x in model.staged_decision_function(X_test):\n",
        "        for_test.append(log_loss(y_test, [1.0 / (1.0 + math.exp(-i)) for i in x]))\n",
        "\n",
        "\n",
        "    # Вычислите и постройте график\n",
        "    plt.figure(figsize=(3, 3))\n",
        "    plt.plot(for_test, \"#2ca02c\")\n",
        "    plt.plot(for_train, \"#ff7f0e\")\n",
        "    plt.legend([\"for_test\", \"for_train\"], loc=\"best\")"
      ],
      "metadata": {
        "colab": {
          "base_uri": "https://localhost:8080/",
          "height": 1000
        },
        "id": "DWHYqyI7y8UE",
        "outputId": "127698ca-3eea-4b67-9c94-adbec76fe15f"
      },
      "execution_count": 18,
      "outputs": [
        {
          "output_type": "display_data",
          "data": {
            "text/plain": [
              "<Figure size 300x300 with 1 Axes>"
            ],
            "image/png": "[encoded data removed]"
          },
          "metadata": {}
        },
        {
          "output_type": "display_data",
          "data": {
            "text/plain": [
              "<Figure size 300x300 with 1 Axes>"
            ],
            "image/png": "[encoded data removed]"
          },
          "metadata": {}
        },
        {
          "output_type": "display_data",
          "data": {
            "text/plain": [
              "<Figure size 300x300 with 1 Axes>"
            ],
            "image/png": "[encoded data removed]"
          },
          "metadata": {}
        },
        {
          "output_type": "display_data",
          "data": {
            "text/plain": [
              "<Figure size 300x300 with 1 Axes>"
            ],
            "image/png": "[encoded data removed]"
          },
          "metadata": {}
        },
        {
          "output_type": "display_data",
          "data": {
            "text/plain": [
              "<Figure size 300x300 with 1 Axes>"
            ],
            "image/png": "[encoded data removed]"
          },
          "metadata": {}
        }
      ]
    },
    {
      "cell_type": "markdown",
      "source": [
        "Найдите минимальное значение метрики и номер итерации, на которой оно достигается."
      ],
      "metadata": {
        "id": "5qJCQHR-DXvj"
      }
    },
    {
      "cell_type": "code",
      "source": [
        "def formula(y_pred):\n",
        "    return 1. / (1 + math.e ** -y_pred)"
      ],
      "metadata": {
        "id": "qc4SKiUD9JGn"
      },
      "execution_count": 32,
      "outputs": []
    },
    {
      "cell_type": "code",
      "source": [
        "min_loss_metrics = {}\n",
        "for x in learning_rate:\n",
        "  print(f\"Коэффициент скорости обучения: {x}\")\n",
        "\n",
        "  model = GradientBoostingClassifier(learning_rate = x, n_estimators=250, verbose=False, random_state=241)\n",
        "  model.fit(X_train, y_train)\n",
        "\n",
        "  test_loss = [log_loss(y_test, formula(y_pred)) for y_pred in model.staged_decision_function(X_test)]\n",
        "#  train_loss = [log_loss(y_train, formula(y_pred)) for y_pred in model.staged_decision_function(X_train)]\n",
        "\n",
        "  min_loss_value = min(test_loss)\n",
        "  min_loss_index = test_loss.index(min_loss_value) + 1\n",
        "  min_loss_metrics[x] = min_loss_value, min_loss_index\n",
        "\n",
        "  print(f\"Минимальный loss: {round(min_loss_value, 2)} при итерации = {min_loss_index}\\n\")"
      ],
      "metadata": {
        "id": "qKGPoqyB7_Fl",
        "outputId": "b22153bc-9160-483e-bee2-ca5d10a97c60",
        "colab": {
          "base_uri": "https://localhost:8080/"
        }
      },
      "execution_count": 37,
      "outputs": [
        {
          "output_type": "stream",
          "name": "stdout",
          "text": [
            "Коэффициент скорости обучения: 1\n",
            "Минимальный loss: 0.58 при итерации = 1\n",
            "\n",
            "Коэффициент скорости обучения: 0.5\n",
            "Минимальный loss: 0.56 при итерации = 7\n",
            "\n",
            "Коэффициент скорости обучения: 0.3\n",
            "Минимальный loss: 0.54 при итерации = 11\n",
            "\n",
            "Коэффициент скорости обучения: 0.2\n",
            "Минимальный loss: 0.53 при итерации = 37\n",
            "\n",
            "Коэффициент скорости обучения: 0.1\n",
            "Минимальный loss: 0.53 при итерации = 52\n",
            "\n"
          ]
        }
      ]
    },
    {
      "cell_type": "markdown",
      "source": [
        "### 3. Как можно охарактеризовать график качества на тестовой выборке, начиная с некоторой итерации: переобучение (overfitting) или недообучение (underfitting)?"
      ],
      "metadata": {
        "id": "1fyIu2qyzXLU"
      }
    },
    {
      "cell_type": "code",
      "source": [
        "???"
      ],
      "metadata": {
        "id": "ctpB39IkzYWM"
      },
      "execution_count": null,
      "outputs": []
    },
    {
      "cell_type": "markdown",
      "source": [
        "### 4. Приведите минимальное значение log-loss на тестовой выборке и номер итерации, на котором оно достигается, при learning_rate = 0.2."
      ],
      "metadata": {
        "id": "eWQC24BXzY_k"
      }
    },
    {
      "cell_type": "code",
      "source": [
        "min_loss_value, min_loss_index = min_loss_results[0.2]\n",
        "print(f\"{min_loss_value:.2f} {min_loss_index}\")"
      ],
      "metadata": {
        "id": "c749Zj5pzh6Q"
      },
      "execution_count": null,
      "outputs": []
    },
    {
      "cell_type": "markdown",
      "source": [
        "### 5. На этих же данных обучите RandomForestClassifier"
      ],
      "metadata": {
        "id": "JfWgCjqwzilH"
      }
    },
    {
      "cell_type": "markdown",
      "source": [
        "с количеством деревьев, равным количеству итераций, на котором достигается наилучшее качество у градиентного бустинга из предыдущего пункта, c random_state=241 и остальными параметрами по умолчанию. Какое значение log-loss на тесте получается у этого случайного леса? (Не забывайте, что предсказания нужно получать с помощью функции predict_proba. В данном случае брать сигмоиду от оценки вероятности класса не нужно)."
      ],
      "metadata": {
        "id": "vLq6cjykzmza"
      }
    },
    {
      "cell_type": "code",
      "source": [
        "model = RandomForestClassifier(n_estimators=min_loss_index, random_state=241)\n",
        "model.fit(X_train, y_train)\n",
        "\n",
        "y_pred = model.predict_proba(X_test)[:, 1]\n",
        "test_loss = log_loss(y_test, y_pred)\n",
        "\n",
        "print_answer(3, f\"{test_loss:.2f}\")"
      ],
      "metadata": {
        "id": "xz-G01QzzmNR"
      },
      "execution_count": null,
      "outputs": []
    }
  ]
}