{
  "nbformat": 4,
  "nbformat_minor": 0,
  "metadata": {
    "colab": {
      "provenance": [],
      "toc_visible": true,
      "authorship_tag": "ABX9TyNSF42miuOt6tAxdDd6Ecy1",
      "include_colab_link": true
    },
    "kernelspec": {
      "name": "python3",
      "display_name": "Python 3"
    },
    "language_info": {
      "name": "python"
    }
  },
  "cells": [
    {
      "cell_type": "markdown",
      "metadata": {
        "id": "view-in-github",
        "colab_type": "text"
      },
      "source": [
        "<a href=\"https://colab.research.google.com/github/murpunk/Programming_2023/blob/main/%D0%9F%D0%B0%D0%BD%D0%BA%D0%BE%D0%B2%D0%B0_3_%D0%A1%D1%82%D1%80%D0%BE%D0%BA%D0%B8_%D0%97%D0%B0%D0%B4%D0%B0%D1%87%D0%B8_%D0%BF%D0%BE%D0%B8%D1%81%D0%BA%D0%B0_%D0%B8_%D1%81%D1%80%D0%B0%D0%B2%D0%BD%D0%B5%D0%BD%D0%B8%D1%8F.ipynb\" target=\"_parent\"><img src=\"https://colab.research.google.com/assets/colab-badge.svg\" alt=\"Open In Colab\"/></a>"
      ]
    },
    {
      "cell_type": "markdown",
      "source": [
        "## Домашнее задание\n",
        "\n",
        "### Часть 1\n",
        "\n",
        "Каждое задание должно быть реализовано в виде отдельной функции\n",
        "\n",
        "1. Реализовать вычисление расстояния Хэмминга\n",
        "\n",
        "### Часть 2\n",
        "\n",
        "Даны триплеты строк: <ФИО (может быть не полным); его употребление в тексте; строка, похожая на употребляемую, но не соответствующая ФИО>. Представьте, что вы решаете задачу сопоставления ФИО из некоторой базы данных с найденными употреблениями, т. е. задача -- понять, соответствует ли фрагмент текста ФИО.\n",
        "\n",
        "*Пример*: <Хижняков Александр Юрьевич, Хижняков А. Ю., Хижнякова Александра Юрьевна>\n",
        "\n",
        "Нужно для каждого триплета посчитать степень близости 1-го со 2-ым и 3-ым элементами несколькими способами на основе метрик сравнений, которые были на занятии, и сравнить их работу:\n",
        "1. Расстояние Хэмминга.\n",
        "2. Расстояние Левенштейна.\n",
        "3. Расстояние Дамерау-Левенштейна.\n",
        "4. Сходство Джаро-Винклера.\n",
        "5. Поиск наибольшей общей подстроки (подумайте, как на основе неё составить метрику схожести).\n",
        "\n",
        "Реализовывать самостоятельно расстояния не нужно (кроме тех, что в части 1) -- приветствуется использование готовых библиотек."
      ],
      "metadata": {
        "id": "DEvKgl6As9Be"
      }
    },
    {
      "cell_type": "code",
      "execution_count": 1,
      "metadata": {
        "id": "ZsWYkga0sy-P"
      },
      "outputs": [],
      "source": [
        "# Список триплетов для теста -- сюда можно добавлять свои примеры\n",
        "test_triplets = [\n",
        "    (\"Хижняков Александр Юрьевич\", \"Хижняков А.Ю.\", \"Хижнякова Александра Юрьевна\"),\n",
        "    (\"Саша\", \"Сашенька\", \"Паша\"),\n",
        "    (\"Пушкин Александр Сергеевич\", \"Пушкиным Александром Сергеевичем\", \"Пушкина Алексея Сергеевича\"),\n",
        "]"
      ]
    },
    {
      "cell_type": "markdown",
      "source": [
        "## Работа с библиотекой FlashText для поиска слов\n",
        "\n",
        "https://stackabuse.com/searching-and-replacing-words-in-python-with-flashtext/\n",
        "\n",
        "Библиотека FlashText работает хорошо на поиске и замене большого количества слов (более 500). До этого количества более оптимальным может быть использование регулярных выражений."
      ],
      "metadata": {
        "id": "BJcu-_0pvsHP"
      }
    },
    {
      "cell_type": "code",
      "source": [
        "pip install flashtext"
      ],
      "metadata": {
        "colab": {
          "base_uri": "https://localhost:8080/",
          "height": 133
        },
        "id": "0_KaQ0WptFYP",
        "outputId": "902813b2-fc74-4956-8a0c-575577a31ddd"
      },
      "execution_count": 19,
      "outputs": [
        {
          "output_type": "error",
          "ename": "SyntaxError",
          "evalue": "ignored",
          "traceback": [
            "\u001b[0;36m  File \u001b[0;32m\"<ipython-input-19-833a5becf293>\"\u001b[0;36m, line \u001b[0;32m2\u001b[0m\n\u001b[0;31m    pip install flashtext\u001b[0m\n\u001b[0m        ^\u001b[0m\n\u001b[0;31mSyntaxError\u001b[0m\u001b[0;31m:\u001b[0m invalid syntax\n"
          ]
        }
      ]
    },
    {
      "cell_type": "code",
      "source": [
        "#@title\n",
        "from flashtext import KeywordProcessor\n",
        "keyword_processor = KeywordProcessor() # работает независимо от регистра слов\n",
        "# если регистр важен, пишем в скобках: (case_sensitive=True)"
      ],
      "metadata": {
        "id": "C7AAYCwJv3w2"
      },
      "execution_count": 22,
      "outputs": []
    },
    {
      "cell_type": "code",
      "source": [
        "keyword_processor.add_keyword(\"слон\") # также можно сразу ввести слово, которым заменяем, через запятую"
      ],
      "metadata": {
        "colab": {
          "base_uri": "https://localhost:8080/"
        },
        "id": "BxDphC7EwBzt",
        "outputId": "bde3d331-3beb-4600-a495-da8576bcc071"
      },
      "execution_count": 8,
      "outputs": [
        {
          "output_type": "execute_result",
          "data": {
            "text/plain": [
              "True"
            ]
          },
          "metadata": {},
          "execution_count": 8
        }
      ]
    },
    {
      "cell_type": "markdown",
      "source": [
        "Можно заполнять сразу словарь:\n",
        "```\n",
        "keyword_dictionary = {\n",
        "    'replacementWord1': ['list', 'of', 'keywords', 'for', 'replacementWord1'],\n",
        "    'replacementWord2': ['list', 'of', 'keywords', 'for', 'replacementWord2'],\n",
        "    ...\n",
        "    'replacementWordN': ['list', 'of', 'keywords', 'for', 'replacementWordN']\n",
        "}\n",
        "\n",
        "keyword_processor.add_keywords_from_dict(keyword_dictionary)\n",
        "```\n",
        "\n"
      ],
      "metadata": {
        "id": "BF-DqDMpw6Cz"
      }
    },
    {
      "cell_type": "code",
      "source": [
        "# можно заполнить списком слов\n",
        "keyword_processor.add_keywords_from_list([\"жираф\", \"лиса\", \"заяц\"])"
      ],
      "metadata": {
        "id": "_CKMOcP6wrXW"
      },
      "execution_count": 9,
      "outputs": []
    },
    {
      "cell_type": "markdown",
      "source": [
        "Можно список загрузить из текстового файла:\n",
        "```\n",
        "keyword_processor.add_keywords_from_file('keyword_list.txt')\n",
        "```\n",
        "\n"
      ],
      "metadata": {
        "id": "XsRzNbl8xaG3"
      }
    },
    {
      "cell_type": "code",
      "source": [
        "# пример удаления синонимов\n",
        "keyword_dictionary = {\n",
        "    \"bad\": [\"awful\", \"terrible\", \"horrible\"],\n",
        "    \"good\": [\"fine\", \"excellent\", \"great\"]\n",
        "}"
      ],
      "metadata": {
        "id": "9ju1YPHhxTjq"
      },
      "execution_count": 10,
      "outputs": []
    },
    {
      "cell_type": "code",
      "source": [
        "keyword_processor.add_keywords_from_dict(keyword_dictionary)"
      ],
      "metadata": {
        "id": "OcZpRBZLxtHJ"
      },
      "execution_count": 11,
      "outputs": []
    },
    {
      "cell_type": "code",
      "source": [
        "string = \"\"\"\n",
        "1. The weather today is awful.\n",
        "2. I had a terrible experience at the restaurant last night.\n",
        "3. The movie was absolutely horrible.\n",
        "\"\"\""
      ],
      "metadata": {
        "id": "-p8Ojj8xyiMv"
      },
      "execution_count": 13,
      "outputs": []
    },
    {
      "cell_type": "code",
      "source": [
        "new_text = keyword_processor.replace_keywords(string)\n",
        "print(new_text)"
      ],
      "metadata": {
        "colab": {
          "base_uri": "https://localhost:8080/"
        },
        "id": "2DDNdmH5xvev",
        "outputId": "88b866ea-fa39-4dd0-90d9-02e61454e001"
      },
      "execution_count": 17,
      "outputs": [
        {
          "output_type": "stream",
          "name": "stdout",
          "text": [
            "\n",
            "1. The weather today is bad.\n",
            "2. I had a bad experience at the restaurant last night.\n",
            "3. The movie was absolutely bad.\n",
            "\n"
          ]
        }
      ]
    },
    {
      "cell_type": "markdown",
      "source": [
        "Если нужно работать с целым файлом, то можно выполнить такой код:\n",
        "```\n",
        "# Open the long textual document data.txt\n",
        "with open('data.txt', 'r+') as file:\n",
        "    # Load the content from data.txt to a variable as a string\n",
        "    content = file.read()\n",
        "    # Replace all desired keywords from data.txt and store it in the new variable\n",
        "    new_content = keyword_processor.replace_keywords(content)\n",
        "    # Replace the old content\n",
        "    file.seek(0)\n",
        "    file.truncate()\n",
        "    # Write the alternated content to the original file\n",
        "    file.write(new_content)\n",
        "```\n",
        "\n"
      ],
      "metadata": {
        "id": "V9AvsUzhy64I"
      }
    },
    {
      "cell_type": "markdown",
      "source": [
        "## Задание 1"
      ],
      "metadata": {
        "id": "n7ilFfcv2Xe5"
      }
    },
    {
      "cell_type": "markdown",
      "source": [
        "Реализовать вычисление расстояние Хэмминга (https://habr.com/ru/articles/211264/).\n",
        "\n",
        "Расстояние Хэмминга — это количество различающихся позиций для строк с одинаковой длиной. Например, HD(100, 001) = 2."
      ],
      "metadata": {
        "id": "7UOwW5qt3BBX"
      }
    },
    {
      "cell_type": "code",
      "source": [
        "# Пример объявления функции для подсчет расстояния Хэмминга\n",
        "def hamming_distance(s1, s2):\n",
        "    # TODO\n",
        "    pass"
      ],
      "metadata": {
        "id": "DgSZTeq-8neu"
      },
      "execution_count": 61,
      "outputs": []
    },
    {
      "cell_type": "code",
      "source": [
        "def hamming_distance(s1, s2):\n",
        "    if len(s1) != len(s2):\n",
        "        return \"Строки разные по длине, нельзя вычислить расстояние Хэмминга.\"\n",
        "    result = 0\n",
        "    for i in range(len(s1)):\n",
        "        if s1[i] != s2[i]:\n",
        "            result += 1\n",
        "            print(f\"Позиция несовпадающего символа: {i + 1} из строки длиной {len(s1)}.\")\n",
        "    if result == 0:\n",
        "      return \"Строки одинаковые.\"\n",
        "    else:\n",
        "      print(f\"Расстояние Хэмминга равно {result}.\")"
      ],
      "metadata": {
        "id": "N0aDUpdW2fNa"
      },
      "execution_count": 62,
      "outputs": []
    },
    {
      "cell_type": "code",
      "source": [
        "hamming_distance(\"прив!\", \"пока!\")"
      ],
      "metadata": {
        "colab": {
          "base_uri": "https://localhost:8080/"
        },
        "id": "jJZTJdAc64J9",
        "outputId": "d249b812-7ce8-490f-d2da-3ece4142cec2"
      },
      "execution_count": 63,
      "outputs": [
        {
          "output_type": "stream",
          "name": "stdout",
          "text": [
            "Позиция несовпадающего символа: 2 из строки длиной 5.\n",
            "Позиция несовпадающего символа: 3 из строки длиной 5.\n",
            "Позиция несовпадающего символа: 4 из строки длиной 5.\n",
            "Расстояние Хэмминга равно 3.\n"
          ]
        }
      ]
    },
    {
      "cell_type": "code",
      "source": [
        "hamming_distance(\"прив!\", \"прив!\")"
      ],
      "metadata": {
        "colab": {
          "base_uri": "https://localhost:8080/",
          "height": 36
        },
        "id": "XotGayj97YQY",
        "outputId": "b7bd926a-580e-4615-b04f-d34d1d4cf3a6"
      },
      "execution_count": 64,
      "outputs": [
        {
          "output_type": "execute_result",
          "data": {
            "text/plain": [
              "'Строки одинаковые.'"
            ],
            "application/vnd.google.colaboratory.intrinsic+json": {
              "type": "string"
            }
          },
          "metadata": {},
          "execution_count": 64
        }
      ]
    },
    {
      "cell_type": "code",
      "source": [
        "hamming_distance(\"привет!\", \"пока!\")"
      ],
      "metadata": {
        "colab": {
          "base_uri": "https://localhost:8080/",
          "height": 36
        },
        "id": "R6aUwzru7dgv",
        "outputId": "614bc8ce-32a7-4b60-c5b0-25d659ce111c"
      },
      "execution_count": 65,
      "outputs": [
        {
          "output_type": "execute_result",
          "data": {
            "text/plain": [
              "'Строки разные по длине, нельзя вычислить расстояние Хэмминга.'"
            ],
            "application/vnd.google.colaboratory.intrinsic+json": {
              "type": "string"
            }
          },
          "metadata": {},
          "execution_count": 65
        }
      ]
    },
    {
      "cell_type": "code",
      "source": [
        "hamming_distance(\"приф!\", \"прив!\")"
      ],
      "metadata": {
        "colab": {
          "base_uri": "https://localhost:8080/"
        },
        "id": "wo2Iz8pF9hdT",
        "outputId": "e8e57c6f-15bd-4ede-a931-d4cc1a1e3d5f"
      },
      "execution_count": 66,
      "outputs": [
        {
          "output_type": "stream",
          "name": "stdout",
          "text": [
            "Позиция несовпадающего символа: 4 из строки длиной 5.\n",
            "Расстояние Хэмминга равно 1.\n"
          ]
        }
      ]
    },
    {
      "cell_type": "markdown",
      "source": [
        "## Задание 2"
      ],
      "metadata": {
        "id": "CbkTuS26-Fdw"
      }
    },
    {
      "cell_type": "markdown",
      "source": [
        "1. Расстояние Хэмминга.\n",
        "2. Расстояние Левенштейна.\n",
        "3. Расстояние Дамерау-Левенштейна.\n",
        "4. Сходство Джаро-Винклера.\n",
        "5. Поиск наибольшей общей подстроки (подумайте, как на её основе составить метрику схожести)."
      ],
      "metadata": {
        "id": "01DFwfmr_KM7"
      }
    },
    {
      "cell_type": "code",
      "source": [
        "# Список триплетов для теста -- сюда можно добавлять свои примеры\n",
        "test_triplets = [\n",
        "    (\"Хижняков Александр Юрьевич\", \"Хижняков А.Ю.\", \"Хижнякова Александра Юрьевна\"),\n",
        "    (\"Саша\", \"Сашенька\", \"Паша\"),\n",
        "    (\"Пушкин Александр Сергеевич\", \"Пушкиным Александром Сергеевичем\", \"Пушкина Алексея Сергеевича\"),\n",
        "]"
      ],
      "metadata": {
        "id": "bQGm1vlN-G9A"
      },
      "execution_count": 60,
      "outputs": []
    },
    {
      "cell_type": "markdown",
      "source": [
        "### 1. Расстояние Хэмминга"
      ],
      "metadata": {
        "id": "nYgxwN7pIgTg"
      }
    },
    {
      "cell_type": "markdown",
      "source": [
        "Попытка вычислить расстояние Хэмминга моей функцией не удалась, так как попадаются строки, разные по длине."
      ],
      "metadata": {
        "id": "OX78ZSeEBzpF"
      }
    },
    {
      "cell_type": "code",
      "source": [
        "for triplet in test_triplets:\n",
        "  print(triplet[0] + \" и \" + triplet[1])\n",
        "  print(hamming_distance(triplet[0], triplet[1]))\n",
        "  print()\n",
        "  print(triplet[0] + \" и \" + triplet[2])\n",
        "  print(hamming_distance(triplet[0], triplet[2]))\n",
        "  print()"
      ],
      "metadata": {
        "id": "7QhsR2hv-K39"
      },
      "execution_count": null,
      "outputs": []
    },
    {
      "cell_type": "markdown",
      "source": [
        "Подгружаю библиотеку для вычисления расстояния Хэмминга, которая была [реализована](https://docs.scipy.org/doc/scipy/reference/generated/scipy.spatial.distance.hamming.html) в Python."
      ],
      "metadata": {
        "id": "9-39YrQBDUWf"
      }
    },
    {
      "cell_type": "code",
      "source": [
        "from scipy.spatial import distance"
      ],
      "metadata": {
        "id": "uC_BQKHoB817"
      },
      "execution_count": 68,
      "outputs": []
    },
    {
      "cell_type": "code",
      "source": [
        "hd = distance.hamming(list(\"Саша\"), list(\"Паша\"))\n",
        "hd"
      ],
      "metadata": {
        "colab": {
          "base_uri": "https://localhost:8080/"
        },
        "id": "HlSG8PZQIVEO",
        "outputId": "eb2d16e9-3af8-4e06-f100-08a26fad7d54"
      },
      "execution_count": 89,
      "outputs": [
        {
          "output_type": "execute_result",
          "data": {
            "text/plain": [
              "0.25"
            ]
          },
          "metadata": {},
          "execution_count": 89
        }
      ]
    },
    {
      "cell_type": "markdown",
      "source": [
        "В этой библиотеке расстояние Хэмминга вычисляется в процентах от длины строки. В нашем примере будем рассчитывать, как нам привычно, то есть, если в четырёхбуквенном слове расстояние Хэмминга равно 0.25, то значит, что оно на самом деле равно 1."
      ],
      "metadata": {
        "id": "D8p9JERvHRpT"
      }
    },
    {
      "cell_type": "code",
      "source": [
        "for triplet in test_triplets:\n",
        "  print(triplet[0] + \" и \" + triplet[1])\n",
        "  try:\n",
        "    hd = distance.hamming(list(triplet[0]), list(triplet[1]))\n",
        "    print(f\"Расстояние Хэмминга равно {hd * len(triplet[0])}.\")\n",
        "  except Exception as exc:\n",
        "    print(f\"Расстояние Хэмминга не вычислено, так как произошла ошибка: {str(exc)}\")\n",
        "  print()\n",
        "  print(triplet[0] + \" и \" + triplet[2])\n",
        "  try:\n",
        "    hd = distance.hamming(list(triplet[0]), list(triplet[2]))\n",
        "    print(f\"Расстояние Хэмминга равно {hd * len(triplet[0])}.\")\n",
        "  except Exception as exc:\n",
        "    print(f\"Расстояние Хэмминга не вычислено, так как произошла ошибка: {str(exc)}\")\n",
        "  print()\n"
      ],
      "metadata": {
        "colab": {
          "base_uri": "https://localhost:8080/"
        },
        "id": "XLLg3j4cCIsw",
        "outputId": "82d9c8a2-1ddb-4027-8a36-36f5d0894030"
      },
      "execution_count": 115,
      "outputs": [
        {
          "output_type": "stream",
          "name": "stdout",
          "text": [
            "Хижняков Александр Юрьевич и Хижняков А.Ю.\n",
            "Расстояние Хэмминга не вычислено, так как произошла ошибка: The 1d arrays must have equal lengths.\n",
            "\n",
            "Хижняков Александр Юрьевич и Хижнякова Александра Юрьевна\n",
            "Расстояние Хэмминга не вычислено, так как произошла ошибка: The 1d arrays must have equal lengths.\n",
            "\n",
            "Саша и Сашенька\n",
            "Расстояние Хэмминга не вычислено, так как произошла ошибка: The 1d arrays must have equal lengths.\n",
            "\n",
            "Саша и Паша\n",
            "Расстояние Хэмминга равно 1.0.\n",
            "\n",
            "Пушкин Александр Сергеевич и Пушкиным Александром Сергеевичем\n",
            "Расстояние Хэмминга не вычислено, так как произошла ошибка: The 1d arrays must have equal lengths.\n",
            "\n",
            "Пушкин Александр Сергеевич и Пушкина Алексея Сергеевича\n",
            "Расстояние Хэмминга равно 19.0.\n",
            "\n"
          ]
        }
      ]
    },
    {
      "cell_type": "markdown",
      "source": [
        "### 2. Расстояние Левенштейна"
      ],
      "metadata": {
        "id": "MNsIWqN_IqPf"
      }
    },
    {
      "cell_type": "code",
      "source": [
        "pip install python-Levenshtein"
      ],
      "metadata": {
        "id": "xPR6FKHjIptq"
      },
      "execution_count": null,
      "outputs": []
    },
    {
      "cell_type": "code",
      "source": [
        "import Levenshtein"
      ],
      "metadata": {
        "id": "krmw8B2iJD1M"
      },
      "execution_count": 91,
      "outputs": []
    },
    {
      "cell_type": "code",
      "source": [
        "# пример\n",
        "# ld = Levenshtein.distance(string1, string2)"
      ],
      "metadata": {
        "id": "bhUa85CkJJt6"
      },
      "execution_count": null,
      "outputs": []
    },
    {
      "cell_type": "code",
      "source": [
        "for triplet in test_triplets:\n",
        "  print(triplet[0] + \" и \" + triplet[1])\n",
        "  try:\n",
        "    ld = Levenshtein.distance(triplet[0], triplet[1])\n",
        "    print(f\"Расстояние Левенштейна равно {ld}.\")\n",
        "  except Exception as exc:\n",
        "    print(f\"Произошла ошибка: {str(exc)}\")\n",
        "  print()\n",
        "  print(triplet[0] + \" и \" + triplet[2])\n",
        "  try:\n",
        "    ld = Levenshtein.distance(triplet[0], triplet[2])\n",
        "    print(f\"Расстояние Левенштейна равно {ld}.\")\n",
        "  except Exception as exc:\n",
        "    print(f\"Произошла ошибка: {str(exc)}\")\n",
        "  print()"
      ],
      "metadata": {
        "colab": {
          "base_uri": "https://localhost:8080/"
        },
        "id": "ssPix-0QJLxj",
        "outputId": "338f5a18-bac6-42c5-e911-9458ebba8a81"
      },
      "execution_count": 92,
      "outputs": [
        {
          "output_type": "stream",
          "name": "stdout",
          "text": [
            "Хижняков Александр Юрьевич и Хижняков А.Ю.\n",
            "Расстояние Левенштейна равно 15.\n",
            "\n",
            "Хижняков Александр Юрьевич и Хижнякова Александра Юрьевна\n",
            "Расстояние Левенштейна равно 15.\n",
            "\n",
            "Саша и Сашенька\n",
            "Расстояние Левенштейна равно 4.\n",
            "\n",
            "Саша и Паша\n",
            "Расстояние Левенштейна равно 4.\n",
            "\n",
            "Пушкин Александр Сергеевич и Пушкиным Александром Сергеевичем\n",
            "Расстояние Левенштейна равно 6.\n",
            "\n",
            "Пушкин Александр Сергеевич и Пушкина Алексея Сергеевича\n",
            "Расстояние Левенштейна равно 6.\n",
            "\n"
          ]
        }
      ]
    },
    {
      "cell_type": "markdown",
      "source": [
        "### 3. Расстояние Дамерау-Левенштейна"
      ],
      "metadata": {
        "id": "uCaPXDbbJzrG"
      }
    },
    {
      "cell_type": "code",
      "source": [
        "# пример\n",
        "# dld= Levenshtein.damerau_levenshtein(string1, string2)"
      ],
      "metadata": {
        "id": "SfCjLXTJJ3_k"
      },
      "execution_count": 93,
      "outputs": []
    },
    {
      "cell_type": "code",
      "source": [
        "for triplet in test_triplets:\n",
        "  print(triplet[0] + \" и \" + triplet[1])\n",
        "  try:\n",
        "    dld = Levenshtein.distance(triplet[0], triplet[1])\n",
        "    print(f\"Расстояние Дамерау-Левенштейна равно {dld}.\")\n",
        "  except Exception as exc:\n",
        "    print(f\"Произошла ошибка: {str(exc)}\")\n",
        "  print()\n",
        "  print(triplet[0] + \" и \" + triplet[2])\n",
        "  try:\n",
        "    dld = Levenshtein.distance(triplet[0], triplet[1])\n",
        "    print(f\"Расстояние Дамерау-Левенштейна равно {dld}.\")\n",
        "  except Exception as exc:\n",
        "    print(f\"Произошла ошибка: {str(exc)}\")\n",
        "  print()"
      ],
      "metadata": {
        "colab": {
          "base_uri": "https://localhost:8080/"
        },
        "id": "DjbcJUnGKNOK",
        "outputId": "8256bfaa-bdfe-44eb-d3ee-7e473c13f5ed"
      },
      "execution_count": 94,
      "outputs": [
        {
          "output_type": "stream",
          "name": "stdout",
          "text": [
            "Хижняков Александр Юрьевич и Хижняков А.Ю.\n",
            "Расстояние Дамерау-Левенштейна равно 15.\n",
            "\n",
            "Хижняков Александр Юрьевич и Хижнякова Александра Юрьевна\n",
            "Расстояние Дамерау-Левенштейна равно 15.\n",
            "\n",
            "Саша и Сашенька\n",
            "Расстояние Дамерау-Левенштейна равно 4.\n",
            "\n",
            "Саша и Паша\n",
            "Расстояние Дамерау-Левенштейна равно 4.\n",
            "\n",
            "Пушкин Александр Сергеевич и Пушкиным Александром Сергеевичем\n",
            "Расстояние Дамерау-Левенштейна равно 6.\n",
            "\n",
            "Пушкин Александр Сергеевич и Пушкина Алексея Сергеевича\n",
            "Расстояние Дамерау-Левенштейна равно 6.\n",
            "\n"
          ]
        }
      ]
    },
    {
      "cell_type": "markdown",
      "source": [
        "### 4. Сходство Джаро-Винклера"
      ],
      "metadata": {
        "id": "ZDVhrJBPKcyb"
      }
    },
    {
      "cell_type": "markdown",
      "source": [
        "Вычисляется число от 0 до 1, показывающее процент сходства строк. 0 -- когда строки совершенно разные, а 1 -- это полное совпадение строк."
      ],
      "metadata": {
        "id": "UnSq14yrLvB9"
      }
    },
    {
      "cell_type": "code",
      "source": [
        "pip install jellyfish"
      ],
      "metadata": {
        "colab": {
          "base_uri": "https://localhost:8080/"
        },
        "id": "zGZmYhrNKd-d",
        "outputId": "ca44cf2f-29a3-4e24-c51c-8676d6542af0"
      },
      "execution_count": 95,
      "outputs": [
        {
          "output_type": "stream",
          "name": "stdout",
          "text": [
            "Collecting jellyfish\n",
            "  Downloading jellyfish-1.0.0-cp310-cp310-manylinux_2_17_x86_64.manylinux2014_x86_64.whl (1.2 MB)\n",
            "\u001b[?25l     \u001b[90m━━━━━━━━━━━━━━━━━━━━━━━━━━━━━━━━━━━━━━━━\u001b[0m \u001b[32m0.0/1.2 MB\u001b[0m \u001b[31m?\u001b[0m eta \u001b[36m-:--:--\u001b[0m\r\u001b[2K     \u001b[91m━━━━━━━━━━\u001b[0m\u001b[91m╸\u001b[0m\u001b[90m━━━━━━━━━━━━━━━━━━━━━━━━━━━━━\u001b[0m \u001b[32m0.3/1.2 MB\u001b[0m \u001b[31m9.0 MB/s\u001b[0m eta \u001b[36m0:00:01\u001b[0m\r\u001b[2K     \u001b[91m━━━━━━━━━━━━━━━━━━━━━━━━━━━━━━━━━━━━━━━\u001b[0m\u001b[91m╸\u001b[0m \u001b[32m1.2/1.2 MB\u001b[0m \u001b[31m20.2 MB/s\u001b[0m eta \u001b[36m0:00:01\u001b[0m\r\u001b[2K     \u001b[90m━━━━━━━━━━━━━━━━━━━━━━━━━━━━━━━━━━━━━━━━\u001b[0m \u001b[32m1.2/1.2 MB\u001b[0m \u001b[31m16.1 MB/s\u001b[0m eta \u001b[36m0:00:00\u001b[0m\n",
            "\u001b[?25hInstalling collected packages: jellyfish\n",
            "Successfully installed jellyfish-1.0.0\n"
          ]
        }
      ]
    },
    {
      "cell_type": "code",
      "source": [
        "import jellyfish"
      ],
      "metadata": {
        "id": "LLf2Dg4jLHPI"
      },
      "execution_count": 96,
      "outputs": []
    },
    {
      "cell_type": "code",
      "source": [
        "# пример\n",
        "# jw = jellyfish.jaro_winkler_similarity(string1, string2)"
      ],
      "metadata": {
        "id": "d1Dba5xHLK9M"
      },
      "execution_count": 97,
      "outputs": []
    },
    {
      "cell_type": "code",
      "source": [
        "for triplet in test_triplets:\n",
        "  print(triplet[0] + \" и \" + triplet[1])\n",
        "  try:\n",
        "    jw = jellyfish.jaro_winkler_similarity(triplet[0], triplet[1])\n",
        "    print(f\"Сходство Джаро-Винклера равно {round(jw, 2)}%.\")\n",
        "  except Exception as exc:\n",
        "    print(f\"Произошла ошибка: {str(exc)}\")\n",
        "  print()\n",
        "  print(triplet[0] + \" и \" + triplet[2])\n",
        "  try:\n",
        "    jw = jellyfish.jaro_winkler_similarity(triplet[0], triplet[2])\n",
        "    print(f\"Сходство Джаро-Винклера равно {round(jw, 2)}%.\")\n",
        "  except Exception as exc:\n",
        "    print(f\"Произошла ошибка: {str(exc)}\")\n",
        "  print()"
      ],
      "metadata": {
        "colab": {
          "base_uri": "https://localhost:8080/"
        },
        "id": "By2D9zzMLWgn",
        "outputId": "13790fb0-49f4-4f02-8e98-6044866bad8d"
      },
      "execution_count": 103,
      "outputs": [
        {
          "output_type": "stream",
          "name": "stdout",
          "text": [
            "Хижняков Александр Юрьевич и Хижняков А.Ю.\n",
            "Сходство Джаро-Винклера равно 0.85%.\n",
            "\n",
            "Хижняков Александр Юрьевич и Хижнякова Александра Юрьевна\n",
            "Сходство Джаро-Винклера равно 0.93%.\n",
            "\n",
            "Саша и Сашенька\n",
            "Сходство Джаро-Винклера равно 0.8%.\n",
            "\n",
            "Саша и Паша\n",
            "Сходство Джаро-Винклера равно 0.83%.\n",
            "\n",
            "Пушкин Александр Сергеевич и Пушкиным Александром Сергеевичем\n",
            "Сходство Джаро-Винклера равно 0.96%.\n",
            "\n",
            "Пушкин Александр Сергеевич и Пушкина Алексея Сергеевича\n",
            "Сходство Джаро-Винклера равно 0.91%.\n",
            "\n"
          ]
        }
      ]
    },
    {
      "cell_type": "markdown",
      "source": [
        "### 5. Поиск наибольшей общей подстроки"
      ],
      "metadata": {
        "id": "9cF4opO5OCtr"
      }
    },
    {
      "cell_type": "markdown",
      "source": [
        "!! Задание звучало как *Подумайте, как на её основе составить метрику схожести*. Я не смогла придумать, как на её основе определить количество несовпадающих символов, как это было для некоторых прошлых метрик."
      ],
      "metadata": {
        "id": "FmDB4tJAOFdl"
      }
    },
    {
      "cell_type": "code",
      "source": [
        "pip install pylcs"
      ],
      "metadata": {
        "id": "RQBCPHQmOFCm"
      },
      "execution_count": null,
      "outputs": []
    },
    {
      "cell_type": "code",
      "source": [
        "import pylcs"
      ],
      "metadata": {
        "id": "i1R0usU_Or4b"
      },
      "execution_count": 105,
      "outputs": []
    },
    {
      "cell_type": "code",
      "source": [
        "# пример\n",
        "# lcs = pylcs.lcs_sequence_length(string1, string2)"
      ],
      "metadata": {
        "id": "925DkjKqPEZT"
      },
      "execution_count": 106,
      "outputs": []
    },
    {
      "cell_type": "code",
      "source": [
        "for triplet in test_triplets:\n",
        "  print(triplet[0] + \" и \" + triplet[1])\n",
        "  try:\n",
        "    lcs = pylcs.lcs_sequence_length(triplet[0], triplet[1])\n",
        "    print(f\"Наиболее общая подстрока равна {lcs}.\")\n",
        "  except Exception as exc:\n",
        "    print(f\"Произошла ошибка: {str(exc)}\")\n",
        "  print()\n",
        "  print(triplet[0] + \" и \" + triplet[2])\n",
        "  try:\n",
        "    lcs = pylcs.lcs_sequence_length(triplet[0], triplet[2])\n",
        "    print(f\"Наиболее общая подстрока равна {lcs}.\")\n",
        "  except Exception as exc:\n",
        "    print(f\"Произошла ошибка: {str(exc)}\")\n",
        "  print()"
      ],
      "metadata": {
        "colab": {
          "base_uri": "https://localhost:8080/"
        },
        "id": "7EYX_R88PTSY",
        "outputId": "2dda7b00-2c70-42f1-8b03-18040d1b46f2"
      },
      "execution_count": 107,
      "outputs": [
        {
          "output_type": "stream",
          "name": "stdout",
          "text": [
            "Хижняков Александр Юрьевич и Хижняков А.Ю.\n",
            "Наиболее общая подстрока равна 11.\n",
            "\n",
            "Хижняков Александр Юрьевич и Хижнякова Александра Юрьевна\n",
            "Наиболее общая подстрока равна 24.\n",
            "\n",
            "Саша и Сашенька\n",
            "Наиболее общая подстрока равна 4.\n",
            "\n",
            "Саша и Паша\n",
            "Наиболее общая подстрока равна 3.\n",
            "\n",
            "Пушкин Александр Сергеевич и Пушкиным Александром Сергеевичем\n",
            "Наиболее общая подстрока равна 26.\n",
            "\n",
            "Пушкин Александр Сергеевич и Пушкина Алексея Сергеевича\n",
            "Наиболее общая подстрока равна 22.\n",
            "\n"
          ]
        }
      ]
    },
    {
      "cell_type": "markdown",
      "source": [
        "## Общая функция для подсчёта метрик сходства для Задания 2"
      ],
      "metadata": {
        "id": "23D5zTeNP1tH"
      }
    },
    {
      "cell_type": "code",
      "source": [
        "def metrics():\n",
        "  for triplet in test_triplets:\n",
        "    print(triplet[0] + \" и \" + triplet[1])\n",
        "    print(\"----------\")\n",
        "    try:\n",
        "      hd = distance.hamming(list(triplet[0]), list(triplet[1]))\n",
        "      print(f\"Расстояние Хэмминга равно {hd * len(triplet[0])}.\")\n",
        "    except Exception as exc:\n",
        "      print(f\"Расстояние Хэмминга не вычислено, так как произошла ошибка: {str(exc)}\")\n",
        "    ld = Levenshtein.distance(triplet[0], triplet[1])\n",
        "    print(f\"Расстояние Левенштейна равно {ld}.\")\n",
        "    dld = Levenshtein.distance(triplet[0], triplet[1])\n",
        "    print(f\"Расстояние Дамерау-Левенштейна равно {dld}.\")\n",
        "    lcs = pylcs.lcs_sequence_length(triplet[0], triplet[1])\n",
        "    jw = jellyfish.jaro_winkler_similarity(triplet[0], triplet[1])\n",
        "    print(f\"Сходство Джаро-Винклера равно {round(jw, 2)}%.\")\n",
        "    print(f\"Наиболее общая подстрока равна {lcs}.\")\n",
        "    print()\n",
        "    print()\n",
        "\n",
        "    print(triplet[0] + \" и \" + triplet[2])\n",
        "    print(\"----------\")\n",
        "    try:\n",
        "      hd = distance.hamming(list(triplet[0]), list(triplet[2]))\n",
        "      print(f\"Расстояние Хэмминга равно {hd * len(triplet[0])}.\")\n",
        "    except Exception as exc:\n",
        "      print(f\"Расстояние Хэмминга не вычислено, так как произошла ошибка: {str(exc)}\")\n",
        "    ld = Levenshtein.distance(triplet[0], triplet[2])\n",
        "    print(f\"Расстояние Левенштейна равно {ld}.\")\n",
        "    dld = Levenshtein.distance(triplet[0], triplet[2])\n",
        "    print(f\"Расстояние Дамерау-Левенштейна равно {dld}.\")\n",
        "    jw = jellyfish.jaro_winkler_similarity(triplet[0], triplet[2])\n",
        "    print(f\"Сходство Джаро-Винклера равно {round(jw, 2)}%.\")\n",
        "    lcs = pylcs.lcs_sequence_length(triplet[0], triplet[2])\n",
        "    print(f\"Наиболее общая подстрока равна {lcs}.\")\n",
        "    print()\n",
        "    print()"
      ],
      "metadata": {
        "id": "TLLYc-0cQQxg"
      },
      "execution_count": 118,
      "outputs": []
    },
    {
      "cell_type": "code",
      "source": [
        "metrics()"
      ],
      "metadata": {
        "colab": {
          "base_uri": "https://localhost:8080/"
        },
        "id": "UCeQ-BaMVULr",
        "outputId": "df48a7af-3048-4bf3-976d-86fab8232f94"
      },
      "execution_count": 119,
      "outputs": [
        {
          "output_type": "stream",
          "name": "stdout",
          "text": [
            "Хижняков Александр Юрьевич и Хижняков А.Ю.\n",
            "----------\n",
            "Расстояние Хэмминга не вычислено, так как произошла ошибка: The 1d arrays must have equal lengths.\n",
            "Расстояние Левенштейна равно 15.\n",
            "Расстояние Дамерау-Левенштейна равно 15.\n",
            "Сходство Джаро-Винклера равно 0.85%.\n",
            "Наиболее общая подстрока равна 11.\n",
            "\n",
            "\n",
            "Хижняков Александр Юрьевич и Хижнякова Александра Юрьевна\n",
            "----------\n",
            "Расстояние Хэмминга не вычислено, так как произошла ошибка: The 1d arrays must have equal lengths.\n",
            "Расстояние Левенштейна равно 4.\n",
            "Расстояние Дамерау-Левенштейна равно 4.\n",
            "Сходство Джаро-Винклера равно 0.93%.\n",
            "Наиболее общая подстрока равна 24.\n",
            "\n",
            "\n",
            "Саша и Сашенька\n",
            "----------\n",
            "Расстояние Хэмминга не вычислено, так как произошла ошибка: The 1d arrays must have equal lengths.\n",
            "Расстояние Левенштейна равно 4.\n",
            "Расстояние Дамерау-Левенштейна равно 4.\n",
            "Сходство Джаро-Винклера равно 0.8%.\n",
            "Наиболее общая подстрока равна 4.\n",
            "\n",
            "\n",
            "Саша и Паша\n",
            "----------\n",
            "Расстояние Хэмминга равно 1.0.\n",
            "Расстояние Левенштейна равно 1.\n",
            "Расстояние Дамерау-Левенштейна равно 1.\n",
            "Сходство Джаро-Винклера равно 0.83%.\n",
            "Наиболее общая подстрока равна 3.\n",
            "\n",
            "\n",
            "Пушкин Александр Сергеевич и Пушкиным Александром Сергеевичем\n",
            "----------\n",
            "Расстояние Хэмминга не вычислено, так как произошла ошибка: The 1d arrays must have equal lengths.\n",
            "Расстояние Левенштейна равно 6.\n",
            "Расстояние Дамерау-Левенштейна равно 6.\n",
            "Сходство Джаро-Винклера равно 0.96%.\n",
            "Наиболее общая подстрока равна 26.\n",
            "\n",
            "\n",
            "Пушкин Александр Сергеевич и Пушкина Алексея Сергеевича\n",
            "----------\n",
            "Расстояние Хэмминга равно 19.0.\n",
            "Расстояние Левенштейна равно 6.\n",
            "Расстояние Дамерау-Левенштейна равно 6.\n",
            "Сходство Джаро-Винклера равно 0.91%.\n",
            "Наиболее общая подстрока равна 22.\n",
            "\n",
            "\n"
          ]
        }
      ]
    }
  ]
}