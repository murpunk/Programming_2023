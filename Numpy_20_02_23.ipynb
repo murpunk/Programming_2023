{
  "cells": [
    {
      "cell_type": "markdown",
      "metadata": {
        "id": "view-in-github",
        "colab_type": "text"
      },
      "source": [
        "<a href=\"https://colab.research.google.com/github/murpunk/Programming_2023/blob/main/Numpy_20_02_23.ipynb\" target=\"_parent\"><img src=\"https://colab.research.google.com/assets/colab-badge.svg\" alt=\"Open In Colab\"/></a>"
      ]
    },
    {
      "cell_type": "markdown",
      "metadata": {
        "id": "_5DlrJz4WSg4"
      },
      "source": [
        "## 4. Создать вектор с помощью функции zeros"
      ]
    },
    {
      "cell_type": "code",
      "execution_count": null,
      "metadata": {
        "id": "abPLFc6GWSg7"
      },
      "outputs": [],
      "source": [
        "import numpy as np"
      ]
    },
    {
      "cell_type": "code",
      "execution_count": null,
      "metadata": {
        "id": "165hVl__WSg8"
      },
      "outputs": [],
      "source": [
        "a = np.zeros((5,), dtype = int)"
      ]
    },
    {
      "cell_type": "code",
      "execution_count": null,
      "metadata": {
        "id": "urU7d66YWSg9",
        "outputId": "2a6b5c91-a2a3-4e29-cd37-dd48f1b728ba"
      },
      "outputs": [
        {
          "data": {
            "text/plain": [
              "array([0, 0, 0, 0, 0])"
            ]
          },
          "execution_count": 5,
          "metadata": {},
          "output_type": "execute_result"
        }
      ],
      "source": [
        "a"
      ]
    },
    {
      "cell_type": "markdown",
      "metadata": {
        "id": "Oy3dbjXHWSg-"
      },
      "source": [
        "## 7. Создайте двумерный массив случайных чисел с помощью uniform модуля random"
      ]
    },
    {
      "cell_type": "markdown",
      "metadata": {
        "id": "-gi2JiwmWSg_"
      },
      "source": [
        "Нормальное распределение из промежутка [-10, 10], всего 5 чисел"
      ]
    },
    {
      "cell_type": "code",
      "execution_count": null,
      "metadata": {
        "id": "O5kV_gUyWShA"
      },
      "outputs": [],
      "source": [
        "a = np.random.uniform(-10, 10, size = 5)"
      ]
    },
    {
      "cell_type": "code",
      "execution_count": null,
      "metadata": {
        "id": "TKacUUVEWShA",
        "outputId": "8c1f3367-2a83-44f4-e1a6-07c066326b2b"
      },
      "outputs": [
        {
          "data": {
            "text/plain": [
              "array([ 6.44899946,  9.89978255,  2.66600166, -6.72375715,  5.74524641])"
            ]
          },
          "execution_count": 8,
          "metadata": {},
          "output_type": "execute_result"
        }
      ],
      "source": [
        "a"
      ]
    },
    {
      "cell_type": "markdown",
      "metadata": {
        "id": "-ZduWdbqWShB"
      },
      "source": [
        "## 9. Выдайте на экран информацию о созданном выше массиве: тип (dtype), размерность (ndim, shape), количество элементов (size), itemsize, nbytes."
      ]
    },
    {
      "cell_type": "code",
      "execution_count": null,
      "metadata": {
        "scrolled": true,
        "id": "w3IXJmiXWShB",
        "outputId": "3426047e-5b66-41f9-bbc3-053d6a9fce91"
      },
      "outputs": [
        {
          "data": {
            "text/plain": [
              "dtype('float64')"
            ]
          },
          "execution_count": 9,
          "metadata": {},
          "output_type": "execute_result"
        }
      ],
      "source": [
        "a.dtype # тип данных в массиве"
      ]
    },
    {
      "cell_type": "code",
      "execution_count": null,
      "metadata": {
        "scrolled": true,
        "id": "JZzjH5x6WShC",
        "outputId": "1e68aef9-efc9-4a14-feb7-f1e4e8bac905"
      },
      "outputs": [
        {
          "data": {
            "text/plain": [
              "1"
            ]
          },
          "execution_count": 10,
          "metadata": {},
          "output_type": "execute_result"
        }
      ],
      "source": [
        "a.ndim # размерность массива, в данном случае у меня вектор"
      ]
    },
    {
      "cell_type": "code",
      "execution_count": null,
      "metadata": {
        "id": "PVyBhp3NWShC",
        "outputId": "1e350759-338b-42a9-f7d4-7a9f90a3758a"
      },
      "outputs": [
        {
          "data": {
            "text/plain": [
              "(5,)"
            ]
          },
          "execution_count": 11,
          "metadata": {},
          "output_type": "execute_result"
        }
      ],
      "source": [
        "a.shape # размер массива, у меня пять элементов в строке"
      ]
    },
    {
      "cell_type": "code",
      "execution_count": null,
      "metadata": {
        "id": "kkWQTh3IWShD",
        "outputId": "54097e4b-b80e-47db-b993-ba00c38ac71e"
      },
      "outputs": [
        {
          "data": {
            "text/plain": [
              "5"
            ]
          },
          "execution_count": 12,
          "metadata": {},
          "output_type": "execute_result"
        }
      ],
      "source": [
        "a.size # показывает количество элементов в массиве"
      ]
    },
    {
      "cell_type": "code",
      "execution_count": null,
      "metadata": {
        "scrolled": true,
        "id": "EhrcZ9FpWShD",
        "outputId": "45245972-ebc4-429f-dbcd-eb04c367ab66"
      },
      "outputs": [
        {
          "data": {
            "text/plain": [
              "8"
            ]
          },
          "execution_count": 13,
          "metadata": {},
          "output_type": "execute_result"
        }
      ],
      "source": [
        "a.itemsize # сколько байт на один элемент"
      ]
    },
    {
      "cell_type": "code",
      "execution_count": null,
      "metadata": {
        "id": "kNGyfa59WShD",
        "outputId": "1d8b3b8f-216c-436c-9149-1300411de7c5"
      },
      "outputs": [
        {
          "data": {
            "text/plain": [
              "40"
            ]
          },
          "execution_count": 15,
          "metadata": {},
          "output_type": "execute_result"
        }
      ],
      "source": [
        "a.nbytes # сколько байт на все элементы массива"
      ]
    },
    {
      "cell_type": "markdown",
      "metadata": {
        "id": "cMI1dkaTWShE"
      },
      "source": [
        "## 10. С помощью срезов выделите несколько элементов в массиве и поменяйте их значения."
      ]
    },
    {
      "cell_type": "code",
      "execution_count": null,
      "metadata": {
        "id": "1TCdaDAqWShE"
      },
      "outputs": [],
      "source": [
        "a = np.arange(12)"
      ]
    },
    {
      "cell_type": "code",
      "execution_count": null,
      "metadata": {
        "id": "e1QzX_qpWShE",
        "outputId": "8b841427-94de-49ac-c9ad-8fb0102a0660"
      },
      "outputs": [
        {
          "data": {
            "text/plain": [
              "array([ 0,  1,  2,  3,  4,  5,  6,  7,  8,  9, 10, 11])"
            ]
          },
          "execution_count": 28,
          "metadata": {},
          "output_type": "execute_result"
        }
      ],
      "source": [
        "a"
      ]
    },
    {
      "cell_type": "code",
      "execution_count": null,
      "metadata": {
        "id": "TOJRXFkWWShF"
      },
      "outputs": [],
      "source": [
        "b = a[-1]"
      ]
    },
    {
      "cell_type": "code",
      "execution_count": null,
      "metadata": {
        "id": "8pQU9YEtWShF",
        "outputId": "6de9f0f5-ff87-4ba5-f920-95426584a90b"
      },
      "outputs": [
        {
          "data": {
            "text/plain": [
              "11"
            ]
          },
          "execution_count": 30,
          "metadata": {},
          "output_type": "execute_result"
        }
      ],
      "source": [
        "b"
      ]
    },
    {
      "cell_type": "code",
      "execution_count": null,
      "metadata": {
        "id": "bX18ZdIdWShF"
      },
      "outputs": [],
      "source": [
        "a[a == 8] = 20"
      ]
    },
    {
      "cell_type": "code",
      "execution_count": null,
      "metadata": {
        "scrolled": true,
        "id": "PxvpdU2rWShG",
        "outputId": "3874b183-050f-41dd-f2d7-a508e760406e"
      },
      "outputs": [
        {
          "data": {
            "text/plain": [
              "array([ 0,  1,  2,  3,  4,  5,  6,  7, 20,  9, 10, 11])"
            ]
          },
          "execution_count": 33,
          "metadata": {},
          "output_type": "execute_result"
        }
      ],
      "source": [
        "a"
      ]
    },
    {
      "cell_type": "code",
      "execution_count": null,
      "metadata": {
        "id": "xhhKfK7CWShG"
      },
      "outputs": [],
      "source": [
        "a[:12:2] = -3"
      ]
    },
    {
      "cell_type": "code",
      "execution_count": null,
      "metadata": {
        "id": "OYxY9PZJWShG",
        "outputId": "8d5658e2-6f28-40ea-b36d-88e1cc220a21"
      },
      "outputs": [
        {
          "data": {
            "text/plain": [
              "array([-3,  1, -3,  3, -3,  5, -3,  7, -3,  9, -3, 11])"
            ]
          },
          "execution_count": 35,
          "metadata": {},
          "output_type": "execute_result"
        }
      ],
      "source": [
        "a"
      ]
    },
    {
      "cell_type": "markdown",
      "metadata": {
        "id": "zf4nxjpNWShG"
      },
      "source": [
        "## 11. Найти результаты арифметических операций для 2 массивов (или числа и массива). Используйте операции или функции numpy (т.е., например, “+” или “np.add”). Вычислите еще любые две функции от массивов"
      ]
    },
    {
      "cell_type": "code",
      "execution_count": null,
      "metadata": {
        "id": "6aQKiuyTWShG",
        "outputId": "9ff6bf8c-e846-47a7-844b-203eef31c9ba"
      },
      "outputs": [
        {
          "data": {
            "text/plain": [
              "array([ 0,  1,  2,  3,  4,  5,  6,  7,  8,  9, 10, 11, 12, 13, 14])"
            ]
          },
          "execution_count": 37,
          "metadata": {},
          "output_type": "execute_result"
        }
      ],
      "source": [
        "d = np.arange(15).reshape(5, 3)\n",
        "d"
      ]
    },
    {
      "cell_type": "code",
      "execution_count": null,
      "metadata": {
        "id": "w59EHsusWShH",
        "outputId": "2f2b497c-fc41-441c-f004-127d160593f1"
      },
      "outputs": [
        {
          "data": {
            "text/plain": [
              "array([[ 0,  1,  2],\n",
              "       [ 3,  4,  5],\n",
              "       [ 6,  7,  8],\n",
              "       [ 9, 10, 11],\n",
              "       [12, 13, 14]])"
            ]
          },
          "execution_count": 54,
          "metadata": {},
          "output_type": "execute_result"
        }
      ],
      "source": [
        "d"
      ]
    },
    {
      "cell_type": "code",
      "execution_count": null,
      "metadata": {
        "id": "P36iWr3HWShH"
      },
      "outputs": [],
      "source": [
        "e = np.arange(15).reshape(5, 3)"
      ]
    },
    {
      "cell_type": "code",
      "execution_count": null,
      "metadata": {
        "id": "ByUYYF9oWShH"
      },
      "outputs": [],
      "source": [
        "e = e**2"
      ]
    },
    {
      "cell_type": "code",
      "execution_count": null,
      "metadata": {
        "id": "--zHrXJTWShH",
        "outputId": "395c42ff-a889-4dc1-caf9-5c89fec02c73"
      },
      "outputs": [
        {
          "data": {
            "text/plain": [
              "array([[  0,   1,   4],\n",
              "       [  9,  16,  25],\n",
              "       [ 36,  49,  64],\n",
              "       [ 81, 100, 121],\n",
              "       [144, 169, 196]], dtype=int32)"
            ]
          },
          "execution_count": 58,
          "metadata": {},
          "output_type": "execute_result"
        }
      ],
      "source": [
        "e"
      ]
    },
    {
      "cell_type": "code",
      "execution_count": null,
      "metadata": {
        "id": "qG_IuGTfWShI",
        "outputId": "6fd3e15d-832d-41fa-cffc-99b9d69aa960"
      },
      "outputs": [
        {
          "data": {
            "text/plain": [
              "array([[  0,   2,   6],\n",
              "       [ 12,  20,  30],\n",
              "       [ 42,  56,  72],\n",
              "       [ 90, 110, 132],\n",
              "       [156, 182, 210]])"
            ]
          },
          "execution_count": 59,
          "metadata": {},
          "output_type": "execute_result"
        }
      ],
      "source": [
        "d + e"
      ]
    },
    {
      "cell_type": "code",
      "execution_count": null,
      "metadata": {
        "id": "ZSHDknQLWShI",
        "outputId": "b5a658fa-8abf-403f-a818-2a43f9d0bf56"
      },
      "outputs": [
        {
          "data": {
            "text/plain": [
              "array([[  0,   2,   6],\n",
              "       [ 12,  20,  30],\n",
              "       [ 42,  56,  72],\n",
              "       [ 90, 110, 132],\n",
              "       [156, 182, 210]])"
            ]
          },
          "execution_count": 60,
          "metadata": {},
          "output_type": "execute_result"
        }
      ],
      "source": [
        "np.add(d, e)"
      ]
    },
    {
      "cell_type": "code",
      "execution_count": null,
      "metadata": {
        "id": "NVseepeZWShI",
        "outputId": "e8a115b4-bfc1-4072-b26d-db8bdaf55037"
      },
      "outputs": [
        {
          "data": {
            "text/plain": [
              "array([[   0,    0,   -2],\n",
              "       [  -6,  -12,  -20],\n",
              "       [ -30,  -42,  -56],\n",
              "       [ -72,  -90, -110],\n",
              "       [-132, -156, -182]])"
            ]
          },
          "execution_count": 61,
          "metadata": {},
          "output_type": "execute_result"
        }
      ],
      "source": [
        "d - e"
      ]
    },
    {
      "cell_type": "code",
      "execution_count": null,
      "metadata": {
        "id": "gSX2S36TWShI",
        "outputId": "0f208edc-1fcf-49da-8315-af89bb395072"
      },
      "outputs": [
        {
          "data": {
            "text/plain": [
              "array([[   0,    0,   -2],\n",
              "       [  -6,  -12,  -20],\n",
              "       [ -30,  -42,  -56],\n",
              "       [ -72,  -90, -110],\n",
              "       [-132, -156, -182]])"
            ]
          },
          "execution_count": 63,
          "metadata": {},
          "output_type": "execute_result"
        }
      ],
      "source": [
        "np.subtract(d, e)"
      ]
    },
    {
      "cell_type": "code",
      "execution_count": null,
      "metadata": {
        "id": "0Gl2IhSMWShI",
        "outputId": "6af28b9a-1536-4296-c7a1-52b540e496a0"
      },
      "outputs": [
        {
          "data": {
            "text/plain": [
              "array([[   0,    1,    8],\n",
              "       [  27,   64,  125],\n",
              "       [ 216,  343,  512],\n",
              "       [ 729, 1000, 1331],\n",
              "       [1728, 2197, 2744]])"
            ]
          },
          "execution_count": 64,
          "metadata": {},
          "output_type": "execute_result"
        }
      ],
      "source": [
        "d * e"
      ]
    },
    {
      "cell_type": "code",
      "execution_count": null,
      "metadata": {
        "id": "Zb-w7mDwWShJ",
        "outputId": "2f410136-44bb-4dc4-faf6-eb000027cb94"
      },
      "outputs": [
        {
          "data": {
            "text/plain": [
              "array([[   0,    1,    8],\n",
              "       [  27,   64,  125],\n",
              "       [ 216,  343,  512],\n",
              "       [ 729, 1000, 1331],\n",
              "       [1728, 2197, 2744]])"
            ]
          },
          "execution_count": 65,
          "metadata": {},
          "output_type": "execute_result"
        }
      ],
      "source": [
        "np.multiply(d, e)"
      ]
    },
    {
      "cell_type": "markdown",
      "metadata": {
        "id": "vw2euPz3WShJ"
      },
      "source": [
        "## 13. Вычислите расстояние между двумя векторами"
      ]
    },
    {
      "cell_type": "code",
      "execution_count": null,
      "metadata": {
        "id": "Pp9LWHNOWShJ",
        "outputId": "b31de666-d384-40c4-c679-855fbde6b7e8"
      },
      "outputs": [
        {
          "data": {
            "text/plain": [
              "array([0, 1, 2])"
            ]
          },
          "execution_count": 69,
          "metadata": {},
          "output_type": "execute_result"
        }
      ],
      "source": [
        "f = np.arange(3)\n",
        "f"
      ]
    },
    {
      "cell_type": "code",
      "execution_count": null,
      "metadata": {
        "id": "h9kzmE8PWShJ",
        "outputId": "72701841-2ad6-410d-d146-f21639c98028"
      },
      "outputs": [
        {
          "data": {
            "text/plain": [
              "array([ 7,  9, 11])"
            ]
          },
          "execution_count": 74,
          "metadata": {},
          "output_type": "execute_result"
        }
      ],
      "source": [
        "g = np.arange(7, 13, 2)\n",
        "g"
      ]
    },
    {
      "cell_type": "markdown",
      "metadata": {
        "id": "BW9yrJaeWShJ"
      },
      "source": [
        "sqrt(sum(fi-gi)^2)\n",
        "или\n",
        "norm(f-g)"
      ]
    },
    {
      "cell_type": "markdown",
      "metadata": {
        "id": "NVFJmjVhWShK"
      },
      "source": [
        "Первый способ: через евклидово расстояние"
      ]
    },
    {
      "cell_type": "code",
      "execution_count": null,
      "metadata": {
        "id": "AsLyt_TmWShK",
        "outputId": "1a95d168-665b-497c-c466-887cb61a17b0"
      },
      "outputs": [
        {
          "data": {
            "text/plain": [
              "194"
            ]
          },
          "execution_count": 76,
          "metadata": {},
          "output_type": "execute_result"
        }
      ],
      "source": [
        "s = np.sum((f - g)**2)\n",
        "s"
      ]
    },
    {
      "cell_type": "code",
      "execution_count": null,
      "metadata": {
        "id": "LnbBRJJPWShK"
      },
      "outputs": [],
      "source": [
        "dist1 = np.sqrt(s)"
      ]
    },
    {
      "cell_type": "code",
      "execution_count": null,
      "metadata": {
        "id": "MO-YKwVSWShK",
        "outputId": "b7691b21-ed68-4c74-d3ff-5a411c3207cd"
      },
      "outputs": [
        {
          "data": {
            "text/plain": [
              "13.92838827718412"
            ]
          },
          "execution_count": 82,
          "metadata": {},
          "output_type": "execute_result"
        }
      ],
      "source": [
        "dist1"
      ]
    },
    {
      "cell_type": "markdown",
      "metadata": {
        "id": "bF1LeZG4WShK"
      },
      "source": [
        "Второй способ: через норму вектора"
      ]
    },
    {
      "cell_type": "code",
      "execution_count": null,
      "metadata": {
        "id": "bz5umvB_WShK"
      },
      "outputs": [],
      "source": [
        "dist2 = np.linalg.norm(f - g)"
      ]
    },
    {
      "cell_type": "code",
      "execution_count": null,
      "metadata": {
        "id": "VbbnfFwUWShL",
        "outputId": "d7966206-d7fe-47e6-97b8-474abc391696"
      },
      "outputs": [
        {
          "data": {
            "text/plain": [
              "13.92838827718412"
            ]
          },
          "execution_count": 86,
          "metadata": {},
          "output_type": "execute_result"
        }
      ],
      "source": [
        "dist2"
      ]
    },
    {
      "cell_type": "markdown",
      "metadata": {
        "id": "2vfHlzkHWShL"
      },
      "source": [
        "## 19. Создайте 2 матрицы одинакового размера. Найти результаты арифметических операций для 2 матриц. Кроме поэлементного умножения “*”, вычислите еще  произведение матриц с помощью функции “np.dot”."
      ]
    },
    {
      "cell_type": "code",
      "execution_count": null,
      "metadata": {
        "id": "unmdhaCqWShL",
        "outputId": "c39c2571-4102-4922-ac7b-a21bbae43fc5"
      },
      "outputs": [
        {
          "data": {
            "text/plain": [
              "array([[ 0,  1,  2,  3],\n",
              "       [ 4,  5,  6,  7],\n",
              "       [ 8,  9, 10, 11]])"
            ]
          },
          "execution_count": 89,
          "metadata": {},
          "output_type": "execute_result"
        }
      ],
      "source": [
        "m = np.arange(12).reshape(3,4)\n",
        "m"
      ]
    },
    {
      "cell_type": "code",
      "execution_count": null,
      "metadata": {
        "id": "wWgB5Qp6WShL",
        "outputId": "69bcdf34-bede-4899-fb97-678d4772b5f3"
      },
      "outputs": [
        {
          "data": {
            "text/plain": [
              "array([[14, 15, 16, 17],\n",
              "       [18, 19, 20, 21],\n",
              "       [22, 23, 24, 25]])"
            ]
          },
          "execution_count": 92,
          "metadata": {},
          "output_type": "execute_result"
        }
      ],
      "source": [
        "n = np.arange(14,26).reshape(3,4)\n",
        "n"
      ]
    },
    {
      "cell_type": "code",
      "execution_count": null,
      "metadata": {
        "id": "rMPBNHwGWShL"
      },
      "outputs": [],
      "source": []
    },
    {
      "cell_type": "markdown",
      "metadata": {
        "id": "WUHJtYPkWShL"
      },
      "source": [
        "## 23. Найдите обратную матрицу к квадратной матрице"
      ]
    },
    {
      "cell_type": "code",
      "execution_count": null,
      "metadata": {
        "id": "3eqf-OlyWShM"
      },
      "outputs": [],
      "source": []
    },
    {
      "cell_type": "markdown",
      "metadata": {
        "id": "QlD4-JHMWShM"
      },
      "source": [
        "## 26. Агрегирование. Определите произвольный массив. Найдите для него следующие величины (можно по одной из осей или для всего массива): произведение, стандартное отклонение и индекс минимального значения"
      ]
    },
    {
      "cell_type": "code",
      "execution_count": null,
      "metadata": {
        "id": "HcKmxAPzWShM"
      },
      "outputs": [],
      "source": []
    },
    {
      "cell_type": "markdown",
      "metadata": {
        "id": "rlGBvxskWShM"
      },
      "source": [
        "## 30. Сравнения, маски и булева логика. Определите произвольный массив. Определите, все ли они положительные"
      ]
    },
    {
      "cell_type": "code",
      "execution_count": null,
      "metadata": {
        "id": "m6ZRr-x9WShM"
      },
      "outputs": [],
      "source": []
    },
    {
      "cell_type": "markdown",
      "metadata": {
        "id": "n66iu-u3WShM"
      },
      "source": [
        "## 33. Определите произвольную матрицу. Измерьте время работы кода для больших матриц (1000, 10000 и т.д. строк). Сделайте это же задание, используя стандартные средства Python, сравните время работы. Посчитайте среднее значение в ее первом столбце. И добавьте в конец матрицы новый столбец из этих средних значений. "
      ]
    },
    {
      "cell_type": "code",
      "execution_count": null,
      "metadata": {
        "id": "rHXaloZnWShM"
      },
      "outputs": [],
      "source": []
    },
    {
      "cell_type": "markdown",
      "metadata": {
        "id": "2LpuoEq8WShN"
      },
      "source": [
        "## 36. Определите произвольный двумерный массив. Отсортируйте в матрице строки"
      ]
    },
    {
      "cell_type": "code",
      "execution_count": null,
      "metadata": {
        "id": "nDpGRSIcWShN"
      },
      "outputs": [],
      "source": []
    },
    {
      "cell_type": "markdown",
      "metadata": {
        "id": "h1DHGyWPWShN"
      },
      "source": [
        "## 41. .Сохраните массив в двоичный файл (np.save) и прочитайте его из файла (np.load)"
      ]
    },
    {
      "cell_type": "code",
      "execution_count": null,
      "metadata": {
        "id": "evULVz8UWShN"
      },
      "outputs": [],
      "source": []
    }
  ],
  "metadata": {
    "kernelspec": {
      "display_name": "Python 3",
      "language": "python",
      "name": "python3"
    },
    "language_info": {
      "codemirror_mode": {
        "name": "ipython",
        "version": 3
      },
      "file_extension": ".py",
      "mimetype": "text/x-python",
      "name": "python",
      "nbconvert_exporter": "python",
      "pygments_lexer": "ipython3",
      "version": "3.7.3"
    },
    "colab": {
      "provenance": [],
      "include_colab_link": true
    }
  },
  "nbformat": 4,
  "nbformat_minor": 0
}