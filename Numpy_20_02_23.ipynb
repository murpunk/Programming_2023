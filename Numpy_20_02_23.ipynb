{
  "cells": [
    {
      "cell_type": "markdown",
      "metadata": {
        "id": "view-in-github",
        "colab_type": "text"
      },
      "source": [
        "<a href=\"https://colab.research.google.com/github/murpunk/Programming_2023/blob/main/Numpy_20_02_23.ipynb\" target=\"_parent\"><img src=\"https://colab.research.google.com/assets/colab-badge.svg\" alt=\"Open In Colab\"/></a>"
      ]
    },
    {
      "cell_type": "markdown",
      "metadata": {
        "id": "40a9I_r78vDT"
      },
      "source": [
        "## 4. Создать вектор с помощью функции zeros"
      ]
    },
    {
      "cell_type": "code",
      "execution_count": 2,
      "metadata": {
        "id": "NXAP_E9R8vDX"
      },
      "outputs": [],
      "source": [
        "import numpy as np"
      ]
    },
    {
      "cell_type": "code",
      "execution_count": null,
      "metadata": {
        "id": "wz7z_JHb8vDb"
      },
      "outputs": [],
      "source": [
        "a = np.zeros((5,), dtype = int)"
      ]
    },
    {
      "cell_type": "code",
      "execution_count": null,
      "metadata": {
        "id": "pDw8tEF78vDd",
        "outputId": "a6e78df1-5138-4837-cde1-db217e5cbc16"
      },
      "outputs": [
        {
          "data": {
            "text/plain": [
              "array([0, 0, 0, 0, 0])"
            ]
          },
          "execution_count": 5,
          "metadata": {},
          "output_type": "execute_result"
        }
      ],
      "source": [
        "a"
      ]
    },
    {
      "cell_type": "markdown",
      "metadata": {
        "id": "5bldg0qT8vDg"
      },
      "source": [
        "## 7. Создайте двумерный массив случайных чисел с помощью uniform модуля random"
      ]
    },
    {
      "cell_type": "markdown",
      "metadata": {
        "id": "t-4M1hb_8vDh"
      },
      "source": [
        "Нормальное распределение из промежутка [-10, 10], всего 5 чисел"
      ]
    },
    {
      "cell_type": "code",
      "execution_count": null,
      "metadata": {
        "id": "vb5HIBIM8vDj"
      },
      "outputs": [],
      "source": [
        "a = np.random.uniform(-10, 10, size = 5)"
      ]
    },
    {
      "cell_type": "code",
      "execution_count": null,
      "metadata": {
        "id": "G1mpzqjB8vDl",
        "outputId": "6b2c00e5-c10a-4a1d-ef36-61278adefa5c"
      },
      "outputs": [
        {
          "data": {
            "text/plain": [
              "array([ 6.44899946,  9.89978255,  2.66600166, -6.72375715,  5.74524641])"
            ]
          },
          "execution_count": 8,
          "metadata": {},
          "output_type": "execute_result"
        }
      ],
      "source": [
        "a"
      ]
    },
    {
      "cell_type": "markdown",
      "metadata": {
        "id": "9zqND3og8vDo"
      },
      "source": [
        "## 9. Выдайте на экран информацию о созданном выше массиве: тип (dtype), размерность (ndim, shape), количество элементов (size), itemsize, nbytes."
      ]
    },
    {
      "cell_type": "code",
      "execution_count": null,
      "metadata": {
        "scrolled": true,
        "id": "o7mpzuXk8vDs",
        "outputId": "8ca0f3f0-2249-4f3c-e32c-a1a7343974c8"
      },
      "outputs": [
        {
          "data": {
            "text/plain": [
              "dtype('float64')"
            ]
          },
          "execution_count": 9,
          "metadata": {},
          "output_type": "execute_result"
        }
      ],
      "source": [
        "a.dtype # тип данных в массиве"
      ]
    },
    {
      "cell_type": "code",
      "execution_count": null,
      "metadata": {
        "scrolled": true,
        "id": "bWqqD3gJ8vDu",
        "outputId": "aafc186a-388c-4eec-c453-5b649e617a34"
      },
      "outputs": [
        {
          "data": {
            "text/plain": [
              "1"
            ]
          },
          "execution_count": 10,
          "metadata": {},
          "output_type": "execute_result"
        }
      ],
      "source": [
        "a.ndim # размерность массива, в данном случае у меня вектор"
      ]
    },
    {
      "cell_type": "code",
      "execution_count": null,
      "metadata": {
        "id": "_T6S48YZ8vDy",
        "outputId": "da165fce-1972-4b7d-a6b0-84aba5cca809"
      },
      "outputs": [
        {
          "data": {
            "text/plain": [
              "(5,)"
            ]
          },
          "execution_count": 11,
          "metadata": {},
          "output_type": "execute_result"
        }
      ],
      "source": [
        "a.shape # размер массива, у меня пять элементов в строке"
      ]
    },
    {
      "cell_type": "code",
      "execution_count": null,
      "metadata": {
        "id": "hqnuQ3SR8vDz",
        "outputId": "da580616-f21c-400c-afca-e9e4045fd207"
      },
      "outputs": [
        {
          "data": {
            "text/plain": [
              "5"
            ]
          },
          "execution_count": 12,
          "metadata": {},
          "output_type": "execute_result"
        }
      ],
      "source": [
        "a.size # показывает количество элементов в массиве"
      ]
    },
    {
      "cell_type": "code",
      "execution_count": null,
      "metadata": {
        "scrolled": true,
        "id": "iErjnYl78vD0",
        "outputId": "e2448d6d-a93b-44aa-c88f-43cfa44c4162"
      },
      "outputs": [
        {
          "data": {
            "text/plain": [
              "8"
            ]
          },
          "execution_count": 13,
          "metadata": {},
          "output_type": "execute_result"
        }
      ],
      "source": [
        "a.itemsize # сколько байт на один элемент"
      ]
    },
    {
      "cell_type": "code",
      "execution_count": null,
      "metadata": {
        "id": "nj93VoBg8vD2",
        "outputId": "be352d19-3f0b-405c-9eb1-0ca520637be3"
      },
      "outputs": [
        {
          "data": {
            "text/plain": [
              "40"
            ]
          },
          "execution_count": 15,
          "metadata": {},
          "output_type": "execute_result"
        }
      ],
      "source": [
        "a.nbytes # сколько байт на все элементы массива"
      ]
    },
    {
      "cell_type": "markdown",
      "metadata": {
        "id": "rtWdgUGe8vD4"
      },
      "source": [
        "## 10. С помощью срезов выделите несколько элементов в массиве и поменяйте их значения."
      ]
    },
    {
      "cell_type": "code",
      "execution_count": null,
      "metadata": {
        "id": "wHwvo-F28vD5"
      },
      "outputs": [],
      "source": [
        "a = np.arange(12)"
      ]
    },
    {
      "cell_type": "code",
      "execution_count": null,
      "metadata": {
        "id": "Rof4Mm0N8vD7",
        "outputId": "d5526488-90a7-40bb-f793-23cdc0227722"
      },
      "outputs": [
        {
          "data": {
            "text/plain": [
              "array([ 0,  1,  2,  3,  4,  5,  6,  7,  8,  9, 10, 11])"
            ]
          },
          "execution_count": 28,
          "metadata": {},
          "output_type": "execute_result"
        }
      ],
      "source": [
        "a"
      ]
    },
    {
      "cell_type": "code",
      "execution_count": null,
      "metadata": {
        "id": "QhHFtYPD8vD7"
      },
      "outputs": [],
      "source": [
        "b = a[-1]"
      ]
    },
    {
      "cell_type": "code",
      "execution_count": null,
      "metadata": {
        "id": "tBSjUMfL8vD7",
        "outputId": "874c0a56-5f19-45f2-960e-1ac4e6238421"
      },
      "outputs": [
        {
          "data": {
            "text/plain": [
              "11"
            ]
          },
          "execution_count": 30,
          "metadata": {},
          "output_type": "execute_result"
        }
      ],
      "source": [
        "b"
      ]
    },
    {
      "cell_type": "code",
      "execution_count": null,
      "metadata": {
        "id": "194iIff98vD8"
      },
      "outputs": [],
      "source": [
        "a[a == 8] = 20"
      ]
    },
    {
      "cell_type": "code",
      "execution_count": null,
      "metadata": {
        "scrolled": true,
        "id": "fl2f0_OU8vD8",
        "outputId": "a7c52490-7b51-4c8c-fbe6-a150c3928020"
      },
      "outputs": [
        {
          "data": {
            "text/plain": [
              "array([ 0,  1,  2,  3,  4,  5,  6,  7, 20,  9, 10, 11])"
            ]
          },
          "execution_count": 33,
          "metadata": {},
          "output_type": "execute_result"
        }
      ],
      "source": [
        "a"
      ]
    },
    {
      "cell_type": "code",
      "execution_count": null,
      "metadata": {
        "id": "swYDDMkT8vD9"
      },
      "outputs": [],
      "source": [
        "a[:12:2] = -3"
      ]
    },
    {
      "cell_type": "code",
      "execution_count": null,
      "metadata": {
        "id": "laakM26-8vD-",
        "outputId": "910439ad-c3d3-4a4f-f2c6-06136cf17ee2"
      },
      "outputs": [
        {
          "data": {
            "text/plain": [
              "array([-3,  1, -3,  3, -3,  5, -3,  7, -3,  9, -3, 11])"
            ]
          },
          "execution_count": 35,
          "metadata": {},
          "output_type": "execute_result"
        }
      ],
      "source": [
        "a"
      ]
    },
    {
      "cell_type": "markdown",
      "metadata": {
        "id": "bUSXAQbM8vD_"
      },
      "source": [
        "## 11. Найти результаты арифметических операций для 2 массивов (или числа и массива). Используйте операции или функции numpy (т.е., например, “+” или “np.add”). Вычислите еще любые две функции от массивов"
      ]
    },
    {
      "cell_type": "code",
      "execution_count": null,
      "metadata": {
        "id": "nyofez2D8vD_",
        "outputId": "4597c4ba-fa5f-47ad-fc9f-dbd1214f5beb"
      },
      "outputs": [
        {
          "data": {
            "text/plain": [
              "array([ 0,  1,  2,  3,  4,  5,  6,  7,  8,  9, 10, 11, 12, 13, 14])"
            ]
          },
          "execution_count": 37,
          "metadata": {},
          "output_type": "execute_result"
        }
      ],
      "source": [
        "d = np.arange(15).reshape(5, 3)\n",
        "d"
      ]
    },
    {
      "cell_type": "code",
      "execution_count": null,
      "metadata": {
        "id": "XrA14d2z8vEA",
        "outputId": "329b8237-923a-4b1f-faa6-b1b1a2ded2ce"
      },
      "outputs": [
        {
          "data": {
            "text/plain": [
              "array([[ 0,  1,  2],\n",
              "       [ 3,  4,  5],\n",
              "       [ 6,  7,  8],\n",
              "       [ 9, 10, 11],\n",
              "       [12, 13, 14]])"
            ]
          },
          "execution_count": 54,
          "metadata": {},
          "output_type": "execute_result"
        }
      ],
      "source": [
        "d"
      ]
    },
    {
      "cell_type": "code",
      "execution_count": null,
      "metadata": {
        "id": "vuUmEGEr8vEB"
      },
      "outputs": [],
      "source": [
        "e = np.arange(15).reshape(5, 3)"
      ]
    },
    {
      "cell_type": "code",
      "execution_count": null,
      "metadata": {
        "id": "F-bOGzPO8vEB"
      },
      "outputs": [],
      "source": [
        "e = e**2"
      ]
    },
    {
      "cell_type": "code",
      "execution_count": null,
      "metadata": {
        "id": "PkIRy9uh8vEB",
        "outputId": "af850f16-8958-4573-b3e1-a87a8f872073"
      },
      "outputs": [
        {
          "data": {
            "text/plain": [
              "array([[  0,   1,   4],\n",
              "       [  9,  16,  25],\n",
              "       [ 36,  49,  64],\n",
              "       [ 81, 100, 121],\n",
              "       [144, 169, 196]], dtype=int32)"
            ]
          },
          "execution_count": 58,
          "metadata": {},
          "output_type": "execute_result"
        }
      ],
      "source": [
        "e"
      ]
    },
    {
      "cell_type": "code",
      "execution_count": null,
      "metadata": {
        "id": "wcrbLNBE8vEC",
        "outputId": "371c9923-7ddf-463c-fdbd-218274d08dfc"
      },
      "outputs": [
        {
          "data": {
            "text/plain": [
              "array([[  0,   2,   6],\n",
              "       [ 12,  20,  30],\n",
              "       [ 42,  56,  72],\n",
              "       [ 90, 110, 132],\n",
              "       [156, 182, 210]])"
            ]
          },
          "execution_count": 59,
          "metadata": {},
          "output_type": "execute_result"
        }
      ],
      "source": [
        "d + e"
      ]
    },
    {
      "cell_type": "code",
      "execution_count": null,
      "metadata": {
        "id": "Attk7HyI8vEC",
        "outputId": "f3248a02-d9f7-4303-8235-e0eac8730181"
      },
      "outputs": [
        {
          "data": {
            "text/plain": [
              "array([[  0,   2,   6],\n",
              "       [ 12,  20,  30],\n",
              "       [ 42,  56,  72],\n",
              "       [ 90, 110, 132],\n",
              "       [156, 182, 210]])"
            ]
          },
          "execution_count": 60,
          "metadata": {},
          "output_type": "execute_result"
        }
      ],
      "source": [
        "np.add(d, e)"
      ]
    },
    {
      "cell_type": "code",
      "execution_count": null,
      "metadata": {
        "id": "yh_W5FJp8vED",
        "outputId": "9dc23da0-e117-441a-a937-5ce944d3d9aa"
      },
      "outputs": [
        {
          "data": {
            "text/plain": [
              "array([[   0,    0,   -2],\n",
              "       [  -6,  -12,  -20],\n",
              "       [ -30,  -42,  -56],\n",
              "       [ -72,  -90, -110],\n",
              "       [-132, -156, -182]])"
            ]
          },
          "execution_count": 61,
          "metadata": {},
          "output_type": "execute_result"
        }
      ],
      "source": [
        "d - e"
      ]
    },
    {
      "cell_type": "code",
      "execution_count": null,
      "metadata": {
        "id": "B47OH8tx8vEE",
        "outputId": "a47a1529-0885-4a04-c161-3b1bffd02922"
      },
      "outputs": [
        {
          "data": {
            "text/plain": [
              "array([[   0,    0,   -2],\n",
              "       [  -6,  -12,  -20],\n",
              "       [ -30,  -42,  -56],\n",
              "       [ -72,  -90, -110],\n",
              "       [-132, -156, -182]])"
            ]
          },
          "execution_count": 63,
          "metadata": {},
          "output_type": "execute_result"
        }
      ],
      "source": [
        "np.subtract(d, e)"
      ]
    },
    {
      "cell_type": "code",
      "execution_count": null,
      "metadata": {
        "id": "wk94CYtb8vEF",
        "outputId": "50592370-e19f-48dc-8518-c7de482fae1f"
      },
      "outputs": [
        {
          "data": {
            "text/plain": [
              "array([[   0,    1,    8],\n",
              "       [  27,   64,  125],\n",
              "       [ 216,  343,  512],\n",
              "       [ 729, 1000, 1331],\n",
              "       [1728, 2197, 2744]])"
            ]
          },
          "execution_count": 64,
          "metadata": {},
          "output_type": "execute_result"
        }
      ],
      "source": [
        "d * e"
      ]
    },
    {
      "cell_type": "code",
      "execution_count": null,
      "metadata": {
        "id": "4jZ_AQMs8vEF",
        "outputId": "ecc29a17-4298-4642-fa98-b1bde014e3f9"
      },
      "outputs": [
        {
          "data": {
            "text/plain": [
              "array([[   0,    1,    8],\n",
              "       [  27,   64,  125],\n",
              "       [ 216,  343,  512],\n",
              "       [ 729, 1000, 1331],\n",
              "       [1728, 2197, 2744]])"
            ]
          },
          "execution_count": 65,
          "metadata": {},
          "output_type": "execute_result"
        }
      ],
      "source": [
        "np.multiply(d, e)"
      ]
    },
    {
      "cell_type": "markdown",
      "metadata": {
        "id": "eOt0cwSI8vEG"
      },
      "source": [
        "## 13. Вычислите расстояние между двумя векторами"
      ]
    },
    {
      "cell_type": "code",
      "execution_count": null,
      "metadata": {
        "id": "n4IvWrpC8vEG",
        "outputId": "19a137af-57c7-44c0-9c7a-a4f1e9afd1ae"
      },
      "outputs": [
        {
          "data": {
            "text/plain": [
              "array([0, 1, 2])"
            ]
          },
          "execution_count": 69,
          "metadata": {},
          "output_type": "execute_result"
        }
      ],
      "source": [
        "f = np.arange(3)\n",
        "f"
      ]
    },
    {
      "cell_type": "code",
      "execution_count": null,
      "metadata": {
        "id": "jYWULYZe8vEH",
        "outputId": "fadfdbe9-9cfc-46d7-a7b9-df1c7b1b183f"
      },
      "outputs": [
        {
          "data": {
            "text/plain": [
              "array([ 7,  9, 11])"
            ]
          },
          "execution_count": 74,
          "metadata": {},
          "output_type": "execute_result"
        }
      ],
      "source": [
        "g = np.arange(7, 13, 2)\n",
        "g"
      ]
    },
    {
      "cell_type": "markdown",
      "metadata": {
        "id": "nSwJPWv68vEH"
      },
      "source": [
        "sqrt(sum(fi-gi)^2)\n",
        "или\n",
        "norm(f-g)"
      ]
    },
    {
      "cell_type": "markdown",
      "metadata": {
        "id": "NjQBIYsB8vEH"
      },
      "source": [
        "Первый способ: через евклидово расстояние"
      ]
    },
    {
      "cell_type": "code",
      "execution_count": null,
      "metadata": {
        "id": "z-foA6ed8vEH",
        "outputId": "a8f96256-00e6-4e4b-b2ba-bb63d0933cda"
      },
      "outputs": [
        {
          "data": {
            "text/plain": [
              "194"
            ]
          },
          "execution_count": 76,
          "metadata": {},
          "output_type": "execute_result"
        }
      ],
      "source": [
        "s = np.sum((f - g)**2)\n",
        "s"
      ]
    },
    {
      "cell_type": "code",
      "execution_count": null,
      "metadata": {
        "id": "BbTZsher8vEI"
      },
      "outputs": [],
      "source": [
        "dist1 = np.sqrt(s)"
      ]
    },
    {
      "cell_type": "code",
      "execution_count": null,
      "metadata": {
        "id": "k-ZODgOa8vEI",
        "outputId": "1386bfcd-88cf-4414-9770-15c1c66c2431"
      },
      "outputs": [
        {
          "data": {
            "text/plain": [
              "13.92838827718412"
            ]
          },
          "execution_count": 82,
          "metadata": {},
          "output_type": "execute_result"
        }
      ],
      "source": [
        "dist1"
      ]
    },
    {
      "cell_type": "markdown",
      "metadata": {
        "id": "fbkadOiF8vEJ"
      },
      "source": [
        "Второй способ: через норму вектора"
      ]
    },
    {
      "cell_type": "code",
      "execution_count": null,
      "metadata": {
        "id": "4QDy9HST8vEJ"
      },
      "outputs": [],
      "source": [
        "dist2 = np.linalg.norm(f - g)"
      ]
    },
    {
      "cell_type": "code",
      "execution_count": null,
      "metadata": {
        "id": "id-HM3eK8vEK",
        "outputId": "dd94616d-74e5-45a1-f2b8-5994fd0927a9"
      },
      "outputs": [
        {
          "data": {
            "text/plain": [
              "13.92838827718412"
            ]
          },
          "execution_count": 86,
          "metadata": {},
          "output_type": "execute_result"
        }
      ],
      "source": [
        "dist2"
      ]
    },
    {
      "cell_type": "markdown",
      "metadata": {
        "id": "SMLMRWQ38vEL"
      },
      "source": [
        "## 19. Создайте 2 матрицы одинакового размера. Найти результаты арифметических операций для 2 матриц. Кроме поэлементного умножения “*”, вычислите еще  произведение матриц с помощью функции “np.dot”."
      ]
    },
    {
      "cell_type": "code",
      "execution_count": 9,
      "metadata": {
        "colab": {
          "base_uri": "https://localhost:8080/"
        },
        "id": "qDB5RnVX8vEL",
        "outputId": "d22c98b1-2d11-42c1-dfa2-bf5a25cae1b8"
      },
      "outputs": [
        {
          "output_type": "execute_result",
          "data": {
            "text/plain": [
              "array([[0, 1, 2],\n",
              "       [3, 4, 5],\n",
              "       [6, 7, 8]])"
            ]
          },
          "metadata": {},
          "execution_count": 9
        }
      ],
      "source": [
        "m = np.arange(9).reshape(3,3)\n",
        "m"
      ]
    },
    {
      "cell_type": "code",
      "execution_count": 10,
      "metadata": {
        "colab": {
          "base_uri": "https://localhost:8080/"
        },
        "id": "bMmsl2Di8vEM",
        "outputId": "cc0545f9-328e-4b36-f7b9-0b7bcb9f262c"
      },
      "outputs": [
        {
          "output_type": "execute_result",
          "data": {
            "text/plain": [
              "array([[14, 15, 16],\n",
              "       [17, 18, 19],\n",
              "       [20, 21, 22]])"
            ]
          },
          "metadata": {},
          "execution_count": 10
        }
      ],
      "source": [
        "n = np.arange(14,23).reshape(3, 3)\n",
        "n"
      ]
    },
    {
      "cell_type": "code",
      "execution_count": 11,
      "metadata": {
        "colab": {
          "base_uri": "https://localhost:8080/"
        },
        "id": "MjVzn_3p8vEN",
        "outputId": "e050ea52-3767-4250-d58e-b501829a2e10"
      },
      "outputs": [
        {
          "output_type": "execute_result",
          "data": {
            "text/plain": [
              "array([[  0,  15,  32],\n",
              "       [ 51,  72,  95],\n",
              "       [120, 147, 176]])"
            ]
          },
          "metadata": {},
          "execution_count": 11
        }
      ],
      "source": [
        "p = m * n\n",
        "p"
      ]
    },
    {
      "cell_type": "code",
      "source": [
        "q = np.dot(m, n)\n",
        "q"
      ],
      "metadata": {
        "colab": {
          "base_uri": "https://localhost:8080/"
        },
        "id": "vKCkhRnQ_Tpw",
        "outputId": "e0c1d1f9-5657-4bbd-d1ba-de010b92d13b"
      },
      "execution_count": 13,
      "outputs": [
        {
          "output_type": "execute_result",
          "data": {
            "text/plain": [
              "array([[ 57,  60,  63],\n",
              "       [210, 222, 234],\n",
              "       [363, 384, 405]])"
            ]
          },
          "metadata": {},
          "execution_count": 13
        }
      ]
    },
    {
      "cell_type": "markdown",
      "metadata": {
        "id": "rj59r0Ci8vEN"
      },
      "source": [
        "## 23. Найдите обратную матрицу к квадратной матрице"
      ]
    },
    {
      "cell_type": "code",
      "execution_count": 14,
      "metadata": {
        "colab": {
          "base_uri": "https://localhost:8080/"
        },
        "id": "ArJ2cpTk8vEO",
        "outputId": "0e4752ed-da0b-4d34-ca4f-e8a4f2f9b6d0"
      },
      "outputs": [
        {
          "output_type": "execute_result",
          "data": {
            "text/plain": [
              "array([[ 57,  60,  63],\n",
              "       [210, 222, 234],\n",
              "       [363, 384, 405]])"
            ]
          },
          "metadata": {},
          "execution_count": 14
        }
      ],
      "source": [
        "q"
      ]
    },
    {
      "cell_type": "code",
      "source": [
        "q_inv = np.linalg.inv(q)\n",
        "q_inv"
      ],
      "metadata": {
        "colab": {
          "base_uri": "https://localhost:8080/"
        },
        "id": "-utKEOYc_9Ur",
        "outputId": "a3f2b399-a582-4151-8b81-51e11bdabba4"
      },
      "execution_count": 15,
      "outputs": [
        {
          "output_type": "execute_result",
          "data": {
            "text/plain": [
              "array([[-1.75921860e+13,  3.51843721e+13, -1.75921860e+13],\n",
              "       [ 3.51843721e+13, -7.03687442e+13,  3.51843721e+13],\n",
              "       [-1.75921860e+13,  3.51843721e+13, -1.75921860e+13]])"
            ]
          },
          "metadata": {},
          "execution_count": 15
        }
      ]
    },
    {
      "cell_type": "markdown",
      "metadata": {
        "id": "DtIxgMB38vEO"
      },
      "source": [
        "## 26. Агрегирование. Определите произвольный массив. Найдите для него следующие величины (можно по одной из осей или для всего массива): произведение, стандартное отклонение и индекс минимального значения"
      ]
    },
    {
      "cell_type": "code",
      "execution_count": 18,
      "metadata": {
        "colab": {
          "base_uri": "https://localhost:8080/"
        },
        "id": "Z3NSJBkc8vEP",
        "outputId": "766b4955-1f59-4e6a-bb3a-b54a6de68d20"
      },
      "outputs": [
        {
          "output_type": "execute_result",
          "data": {
            "text/plain": [
              "array([[0, 1, 2],\n",
              "       [3, 4, 5]])"
            ]
          },
          "metadata": {},
          "execution_count": 18
        }
      ],
      "source": [
        "s = np.arange(6).reshape(2, 3)\n",
        "s"
      ]
    },
    {
      "cell_type": "code",
      "source": [
        "np.nanprod(s) # произведение элементов матрицы, безопасное, даже есть есть NaN"
      ],
      "metadata": {
        "colab": {
          "base_uri": "https://localhost:8080/"
        },
        "id": "eRq35G3rAlOG",
        "outputId": "dac21b58-740e-4bf0-9780-9854614fc15a"
      },
      "execution_count": 21,
      "outputs": [
        {
          "output_type": "execute_result",
          "data": {
            "text/plain": [
              "0"
            ]
          },
          "metadata": {},
          "execution_count": 21
        }
      ]
    },
    {
      "cell_type": "code",
      "source": [
        "np.nanstd(s) # стандартное отклонение элементов матрицы, безопасное, даже есть есть NaN"
      ],
      "metadata": {
        "colab": {
          "base_uri": "https://localhost:8080/"
        },
        "id": "4Qz5GpPfBCvZ",
        "outputId": "6f14b9f6-4b99-4c32-d0dc-1b85431d22a0"
      },
      "execution_count": 22,
      "outputs": [
        {
          "output_type": "execute_result",
          "data": {
            "text/plain": [
              "1.707825127659933"
            ]
          },
          "metadata": {},
          "execution_count": 22
        }
      ]
    },
    {
      "cell_type": "code",
      "source": [
        "np.nanargmin(s) # индекс минимального значения элементов матрицы, безопасное, даже есть есть NaN"
      ],
      "metadata": {
        "colab": {
          "base_uri": "https://localhost:8080/"
        },
        "id": "d7_smwMQBZG_",
        "outputId": "00cfeffd-30fa-4f9a-d061-166948daa0c3"
      },
      "execution_count": 23,
      "outputs": [
        {
          "output_type": "execute_result",
          "data": {
            "text/plain": [
              "0"
            ]
          },
          "metadata": {},
          "execution_count": 23
        }
      ]
    },
    {
      "cell_type": "markdown",
      "metadata": {
        "id": "cQGPKT4n8vEP"
      },
      "source": [
        "## 30. Сравнения, маски и булева логика. Определите произвольный массив. Определите, все ли элементы положительные"
      ]
    },
    {
      "cell_type": "code",
      "execution_count": 28,
      "metadata": {
        "colab": {
          "base_uri": "https://localhost:8080/"
        },
        "id": "-WEreEps8vEQ",
        "outputId": "ae000a14-fd01-4c7f-c9d4-ca24db54e316"
      },
      "outputs": [
        {
          "output_type": "execute_result",
          "data": {
            "text/plain": [
              "array([ 62,  21, -32,  -3,  -5])"
            ]
          },
          "metadata": {},
          "execution_count": 28
        }
      ],
      "source": [
        "f_neg = np.random.randint(-100, 100, 5)\n",
        "f_neg"
      ]
    },
    {
      "cell_type": "code",
      "source": [
        "np.all(f_neg > 0)"
      ],
      "metadata": {
        "colab": {
          "base_uri": "https://localhost:8080/"
        },
        "id": "lOEbSOn9CtV7",
        "outputId": "80d276d7-5774-4d45-df38-f6ee193da1c0"
      },
      "execution_count": 29,
      "outputs": [
        {
          "output_type": "execute_result",
          "data": {
            "text/plain": [
              "False"
            ]
          },
          "metadata": {},
          "execution_count": 29
        }
      ]
    },
    {
      "cell_type": "code",
      "source": [
        "f_pos = np.random.randint(0, 100, 5)\n",
        "f_pos"
      ],
      "metadata": {
        "colab": {
          "base_uri": "https://localhost:8080/"
        },
        "id": "T-IymUguCJ8X",
        "outputId": "395e0c5e-90df-4536-c4ad-fdc64ea62487"
      },
      "execution_count": 30,
      "outputs": [
        {
          "output_type": "execute_result",
          "data": {
            "text/plain": [
              "array([69, 70, 64, 54, 99])"
            ]
          },
          "metadata": {},
          "execution_count": 30
        }
      ]
    },
    {
      "cell_type": "code",
      "source": [
        "np.all(f_pos > 0)"
      ],
      "metadata": {
        "colab": {
          "base_uri": "https://localhost:8080/"
        },
        "id": "IqY8rut4Ded9",
        "outputId": "f8bdc9d8-e5ac-4789-b2f7-a5b85092eda4"
      },
      "execution_count": 31,
      "outputs": [
        {
          "output_type": "execute_result",
          "data": {
            "text/plain": [
              "True"
            ]
          },
          "metadata": {},
          "execution_count": 31
        }
      ]
    },
    {
      "cell_type": "markdown",
      "metadata": {
        "id": "KdLQYx3K8vEQ"
      },
      "source": [
        "## 33. Определите произвольную матрицу. Измерьте время работы кода для больших матриц (1000, 10000 и т.д. строк). Сделайте это же задание, используя стандартные средства Python, сравните время работы. Посчитайте среднее значение в ее первом столбце. И добавьте в конец матрицы новый столбец из этих средних значений. "
      ]
    },
    {
      "cell_type": "code",
      "execution_count": 55,
      "metadata": {
        "colab": {
          "base_uri": "https://localhost:8080/"
        },
        "id": "MQxTVOKV8vER",
        "outputId": "e2fa57db-50c7-44d8-bf86-31baedb87c19"
      },
      "outputs": [
        {
          "output_type": "execute_result",
          "data": {
            "text/plain": [
              "array([[  -9,   43,  241, ..., -484, -706, -116],\n",
              "       [-935, -589, -166, ..., -360,  699, -568],\n",
              "       [ 971, -269,  736, ...,  958, -371, -384],\n",
              "       ...,\n",
              "       [-517,  867,  505, ...,  229, -802,  801],\n",
              "       [ 498,  719, -923, ...,  254,    9,  397],\n",
              "       [ 585, -965,  924, ...,  232,  193, -253]])"
            ]
          },
          "metadata": {},
          "execution_count": 55
        }
      ],
      "source": [
        "k = np.random.randint(-1000, 999, (8, 250))\n",
        "k"
      ]
    },
    {
      "cell_type": "code",
      "source": [
        "%timeit g = np.nanmean(k[:, :1], axis = 0)\n",
        "g"
      ],
      "metadata": {
        "colab": {
          "base_uri": "https://localhost:8080/"
        },
        "id": "5HALUAp6I0XI",
        "outputId": "3178333c-6eaa-4ab8-ae7f-06f8f50943ee"
      },
      "execution_count": 56,
      "outputs": [
        {
          "output_type": "stream",
          "name": "stdout",
          "text": [
            "14.5 µs ± 3.24 µs per loop (mean ± std. dev. of 7 runs, 100000 loops each)\n"
          ]
        },
        {
          "output_type": "execute_result",
          "data": {
            "text/plain": [
              "array([-116.75])"
            ]
          },
          "metadata": {},
          "execution_count": 56
        }
      ]
    },
    {
      "cell_type": "code",
      "source": [
        "new_k = np.append(k, [[g], [g], [g], [g]], axis= 1 )"
      ],
      "metadata": {
        "colab": {
          "base_uri": "https://localhost:8080/",
          "height": 376
        },
        "id": "LZePrATjLakN",
        "outputId": "d8a75382-6f68-4d87-c9fd-e9f40527e939"
      },
      "execution_count": 54,
      "outputs": [
        {
          "output_type": "error",
          "ename": "ValueError",
          "evalue": "ignored",
          "traceback": [
            "\u001b[0;31m---------------------------------------------------------------------------\u001b[0m",
            "\u001b[0;31mValueError\u001b[0m                                Traceback (most recent call last)",
            "\u001b[0;32m<ipython-input-54-a1d1b76cfc66>\u001b[0m in \u001b[0;36m<module>\u001b[0;34m\u001b[0m\n\u001b[0;32m----> 1\u001b[0;31m \u001b[0mnew_k\u001b[0m \u001b[0;34m=\u001b[0m \u001b[0mnp\u001b[0m\u001b[0;34m.\u001b[0m\u001b[0mappend\u001b[0m\u001b[0;34m(\u001b[0m\u001b[0mk\u001b[0m\u001b[0;34m,\u001b[0m \u001b[0;34m[\u001b[0m\u001b[0;34m[\u001b[0m\u001b[0mg\u001b[0m\u001b[0;34m]\u001b[0m\u001b[0;34m,\u001b[0m \u001b[0;34m[\u001b[0m\u001b[0mg\u001b[0m\u001b[0;34m]\u001b[0m\u001b[0;34m,\u001b[0m \u001b[0;34m[\u001b[0m\u001b[0mg\u001b[0m\u001b[0;34m]\u001b[0m\u001b[0;34m,\u001b[0m \u001b[0;34m[\u001b[0m\u001b[0mg\u001b[0m\u001b[0;34m]\u001b[0m\u001b[0;34m]\u001b[0m\u001b[0;34m,\u001b[0m \u001b[0maxis\u001b[0m\u001b[0;34m=\u001b[0m \u001b[0;36m1\u001b[0m \u001b[0;34m)\u001b[0m\u001b[0;34m\u001b[0m\u001b[0;34m\u001b[0m\u001b[0m\n\u001b[0m",
            "\u001b[0;32m<__array_function__ internals>\u001b[0m in \u001b[0;36mappend\u001b[0;34m(*args, **kwargs)\u001b[0m\n",
            "\u001b[0;32m/usr/local/lib/python3.8/dist-packages/numpy/lib/function_base.py\u001b[0m in \u001b[0;36mappend\u001b[0;34m(arr, values, axis)\u001b[0m\n\u001b[1;32m   4815\u001b[0m         \u001b[0mvalues\u001b[0m \u001b[0;34m=\u001b[0m \u001b[0mravel\u001b[0m\u001b[0;34m(\u001b[0m\u001b[0mvalues\u001b[0m\u001b[0;34m)\u001b[0m\u001b[0;34m\u001b[0m\u001b[0;34m\u001b[0m\u001b[0m\n\u001b[1;32m   4816\u001b[0m         \u001b[0maxis\u001b[0m \u001b[0;34m=\u001b[0m \u001b[0marr\u001b[0m\u001b[0;34m.\u001b[0m\u001b[0mndim\u001b[0m\u001b[0;34m-\u001b[0m\u001b[0;36m1\u001b[0m\u001b[0;34m\u001b[0m\u001b[0;34m\u001b[0m\u001b[0m\n\u001b[0;32m-> 4817\u001b[0;31m     \u001b[0;32mreturn\u001b[0m \u001b[0mconcatenate\u001b[0m\u001b[0;34m(\u001b[0m\u001b[0;34m(\u001b[0m\u001b[0marr\u001b[0m\u001b[0;34m,\u001b[0m \u001b[0mvalues\u001b[0m\u001b[0;34m)\u001b[0m\u001b[0;34m,\u001b[0m \u001b[0maxis\u001b[0m\u001b[0;34m=\u001b[0m\u001b[0maxis\u001b[0m\u001b[0;34m)\u001b[0m\u001b[0;34m\u001b[0m\u001b[0;34m\u001b[0m\u001b[0m\n\u001b[0m\u001b[1;32m   4818\u001b[0m \u001b[0;34m\u001b[0m\u001b[0m\n\u001b[1;32m   4819\u001b[0m \u001b[0;34m\u001b[0m\u001b[0m\n",
            "\u001b[0;32m<__array_function__ internals>\u001b[0m in \u001b[0;36mconcatenate\u001b[0;34m(*args, **kwargs)\u001b[0m\n",
            "\u001b[0;31mValueError\u001b[0m: all the input arrays must have same number of dimensions, but the array at index 0 has 2 dimension(s) and the array at index 1 has 3 dimension(s)"
          ]
        }
      ]
    },
    {
      "cell_type": "markdown",
      "metadata": {
        "id": "KET12aKG8vER"
      },
      "source": [
        "## 36. Определите произвольный двумерный массив. Отсортируйте в матрице строки"
      ]
    },
    {
      "cell_type": "code",
      "execution_count": 37,
      "metadata": {
        "colab": {
          "base_uri": "https://localhost:8080/"
        },
        "id": "vADSRQFW8vES",
        "outputId": "1a5e240b-c55f-49ed-feaf-d29b4e418436"
      },
      "outputs": [
        {
          "output_type": "execute_result",
          "data": {
            "text/plain": [
              "array([[ 5, 90, 23],\n",
              "       [76, -9, 17],\n",
              "       [ 8, 78, -4]])"
            ]
          },
          "metadata": {},
          "execution_count": 37
        }
      ],
      "source": [
        "j = np.array([5, 90, 23, 76, -9, 17, 8, 78, -4]).reshape(3, 3)\n",
        "j"
      ]
    },
    {
      "cell_type": "code",
      "source": [
        "np.sort(j, axis = 1) # сортировка элементов матрицы в строках"
      ],
      "metadata": {
        "colab": {
          "base_uri": "https://localhost:8080/"
        },
        "id": "5KChvdPKFGNS",
        "outputId": "d7238fee-9cf3-4a38-e9af-732414e96dad"
      },
      "execution_count": 39,
      "outputs": [
        {
          "output_type": "execute_result",
          "data": {
            "text/plain": [
              "array([[ 5, 23, 90],\n",
              "       [-9, 17, 76],\n",
              "       [-4,  8, 78]])"
            ]
          },
          "metadata": {},
          "execution_count": 39
        }
      ]
    },
    {
      "cell_type": "markdown",
      "metadata": {
        "id": "VA3AUVuq8vES"
      },
      "source": [
        "## 41. .Сохраните массив в двоичный файл (np.save) и прочитайте его из файла (np.load)"
      ]
    },
    {
      "cell_type": "code",
      "execution_count": 42,
      "metadata": {
        "colab": {
          "base_uri": "https://localhost:8080/"
        },
        "id": "UqIuJ3FV8vES",
        "outputId": "bf90d78d-a66c-4b0d-b693-e0f92d03c3ee"
      },
      "outputs": [
        {
          "output_type": "execute_result",
          "data": {
            "text/plain": [
              "array([[ 5,  5],\n",
              "       [-6,  5],\n",
              "       [ 4,  0],\n",
              "       [ 1, -3],\n",
              "       [-7,  0],\n",
              "       [ 1, -6],\n",
              "       [ 3,  3]])"
            ]
          },
          "metadata": {},
          "execution_count": 42
        }
      ],
      "source": [
        "v = np.random.randint(-7, 6, (7, 2))\n",
        "v"
      ]
    },
    {
      "cell_type": "code",
      "source": [
        "np.save(\"some_array.npy\", v) # сохраняет в двоичный файл, можно без расширения писать"
      ],
      "metadata": {
        "id": "qsdVCA33HYTL"
      },
      "execution_count": 43,
      "outputs": []
    },
    {
      "cell_type": "code",
      "source": [
        "y = np.load(\"some_array.npy\")"
      ],
      "metadata": {
        "id": "Gi-weZwwHgP6"
      },
      "execution_count": 44,
      "outputs": []
    },
    {
      "cell_type": "code",
      "source": [
        "y"
      ],
      "metadata": {
        "colab": {
          "base_uri": "https://localhost:8080/"
        },
        "id": "aGiKzKX0INTu",
        "outputId": "3be30f92-229b-47fb-c150-bff6f042e319"
      },
      "execution_count": 45,
      "outputs": [
        {
          "output_type": "execute_result",
          "data": {
            "text/plain": [
              "array([[ 5,  5],\n",
              "       [-6,  5],\n",
              "       [ 4,  0],\n",
              "       [ 1, -3],\n",
              "       [-7,  0],\n",
              "       [ 1, -6],\n",
              "       [ 3,  3]])"
            ]
          },
          "metadata": {},
          "execution_count": 45
        }
      ]
    },
    {
      "cell_type": "code",
      "source": [],
      "metadata": {
        "id": "9uFTYiq_IOWg"
      },
      "execution_count": null,
      "outputs": []
    }
  ],
  "metadata": {
    "kernelspec": {
      "display_name": "Python 3",
      "language": "python",
      "name": "python3"
    },
    "language_info": {
      "codemirror_mode": {
        "name": "ipython",
        "version": 3
      },
      "file_extension": ".py",
      "mimetype": "text/x-python",
      "name": "python",
      "nbconvert_exporter": "python",
      "pygments_lexer": "ipython3",
      "version": "3.7.3"
    },
    "colab": {
      "provenance": [],
      "include_colab_link": true
    }
  },
  "nbformat": 4,
  "nbformat_minor": 0
}