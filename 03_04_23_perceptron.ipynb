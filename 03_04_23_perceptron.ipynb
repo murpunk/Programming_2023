{
  "nbformat": 4,
  "nbformat_minor": 0,
  "metadata": {
    "colab": {
      "provenance": [],
      "authorship_tag": "ABX9TyPkv/s77O/d8C0rbpkcB/p1",
      "include_colab_link": true
    },
    "kernelspec": {
      "name": "python3",
      "display_name": "Python 3"
    },
    "language_info": {
      "name": "python"
    }
  },
  "cells": [
    {
      "cell_type": "markdown",
      "metadata": {
        "id": "view-in-github",
        "colab_type": "text"
      },
      "source": [
        "<a href=\"https://colab.research.google.com/github/murpunk/Programming_2023/blob/main/03_04_23_perceptron.ipynb\" target=\"_parent\"><img src=\"https://colab.research.google.com/assets/colab-badge.svg\" alt=\"Open In Colab\"/></a>"
      ]
    },
    {
      "cell_type": "markdown",
      "source": [
        "# 0. Список литературы"
      ],
      "metadata": {
        "id": "aE09W2JgUkf-"
      }
    },
    {
      "cell_type": "markdown",
      "source": [
        "1.  К.В. Воронцов Математические методы обучения по прецедентам (теория \n",
        "обучения машин). 141 с. (Voron-ML-1.pdf)\n",
        "2.  Машинное обучение (курс лекций, К.В.Воронцов): Линейный классификатор (machinelearning.ru), Метод стохастического градиента \n",
        "(machinelearning.ru) (“Линейные методы классификации и регрессии: метод \n",
        "стохастического градиента”: https://www.youtube.com/watch?v=thrPR77K-os)\n",
        "3.  Рашка Себастьян, Мирджалили Вахид. Python и машинное обучение: машинное и глубокое обучение с использованием Python, scikit-learn и \n",
        "TensorFlow 2, 3-е изд.: Пер. с англ. СПб. : ООО \"Диалектика\", 2020. 848 с.\n",
        "4.  Андреас Мюллер, Сара Гвидо. Введение в машинное обучение с помощью \n",
        "Python. Руководство для специалистов по работе с данными. 393 с."
      ],
      "metadata": {
        "id": "hrkMn_2sUphu"
      }
    },
    {
      "cell_type": "markdown",
      "source": [
        "Подробней см. в [1, стр. 51–62], [2], [3, стр. 49–84], [4]."
      ],
      "metadata": {
        "id": "jBMuM_wuY-M2"
      }
    },
    {
      "cell_type": "markdown",
      "source": [
        "Документация:\n",
        "*  1.1. Linear Models — scikit-learn 1.1.3 documentation\n",
        "*  1.5. Stochastic Gradient Descent — scikit-learn 1.1.3 documentation\n",
        "*  sklearn.linear_model.LinearRegression — scikit-learn 1.1.3 documentation\n",
        "*  sklearn.linear_model.Perceptron — scikit-learn 1.1.3 documentation"
      ],
      "metadata": {
        "id": "iGW6uNSEZHC-"
      }
    },
    {
      "cell_type": "markdown",
      "source": [
        "# I. Прочитайте пункт “Линейные методы регрессии и классификации” и рекомендованную литературу к нему и ответьте на вопросы"
      ],
      "metadata": {
        "id": "Hwrp8c-MSQa1"
      }
    },
    {
      "cell_type": "markdown",
      "source": [
        "### 1) В каком виде ищется решение в задаче восстановления регрессии? На что влияет коэффициент $w_0$?"
      ],
      "metadata": {
        "id": "jdVODzXgSaKJ"
      }
    },
    {
      "cell_type": "markdown",
      "source": [
        "В задаче восстановления регрессии решение ищется в виде линейной функции -- взвешенной суммы всех признаков: суммы всех признаков $f_i(x)$ с коэффицентами $w_i$.\n",
        "\n",
        "$w_0$ -- это дополнительный коэффицент, который смещает линейную функцию относительно начала координат.\n",
        "\n",
        "$a(x, w) = \\displaystyle\\sum_{j=1}^{n} f_j(x)w_j + w_0$"
      ],
      "metadata": {
        "id": "3M4klOTBT8XB"
      }
    },
    {
      "cell_type": "markdown",
      "source": [
        "### 2) Какой вид имеет функция потерь в методе наименьших квадратов?"
      ],
      "metadata": {
        "id": "aaeyevwJT96h"
      }
    },
    {
      "cell_type": "markdown",
      "source": [
        "Функция потерь выглядит следующим образом:\n",
        "\n",
        "\n",
        "$L(a, y) = (a_i - y_i)^2$\n",
        "\n",
        "Если просуммировать значения функции потерь, получится функционал качества:\n",
        "\n",
        "\n",
        "$Q(w) = \\displaystyle\\sum_{i=1}^{l} (a(x_i, w) - y_i)^2 \\to min$\n",
        " \n",
        "Он такой же, как в методе наименьших квадратов."
      ],
      "metadata": {
        "id": "C5wFAqcEUCDx"
      }
    },
    {
      "cell_type": "markdown",
      "source": [
        "### 3) Как в методе наименьших квадратов находится минимум?"
      ],
      "metadata": {
        "id": "O1SruOIdUDXx"
      }
    },
    {
      "cell_type": "markdown",
      "source": [
        "В методе наименьших квадратов функционал качества сводится к нахождению минимума этой функции при условии равенства всех производных нулю. После дифференцирования задача сводится к решению СЛАУ."
      ],
      "metadata": {
        "id": "4NLotKu3UGap"
      }
    },
    {
      "cell_type": "markdown",
      "source": [
        "### 4) В каком виде ищется решение в задаче классификации? Какой геометрический смысл вектора коэффициентов $w$?"
      ],
      "metadata": {
        "id": "PJVdKsoAUHaB"
      }
    },
    {
      "cell_type": "markdown",
      "source": [
        "В задаче классификации решение ищется в виде функции знака числа от суммы всех  признаков $f_j(x)$ с коэффицентами $w_i$:\n",
        "\n",
        "$a(x, w) = sign\\Big(\\displaystyle\\sum_{j=1}^{n} f_j(x)w_j\\Big)$"
      ],
      "metadata": {
        "id": "wi5Oz0ZZUPWq"
      }
    },
    {
      "cell_type": "markdown",
      "source": [
        "### 5) В чем недостаток использования пороговой функции потерь?"
      ],
      "metadata": {
        "id": "ZWRptg90UQcx"
      }
    },
    {
      "cell_type": "markdown",
      "source": [],
      "metadata": {
        "id": "EXPw_4zEUVkm"
      }
    },
    {
      "cell_type": "markdown",
      "source": [
        "### 6) Что такое отступ? Когда он бывает положительным и отрицательным? Какую еще информацию можно узнать с помощью него?"
      ],
      "metadata": {
        "id": "VMPWYS18UX0d"
      }
    },
    {
      "cell_type": "markdown",
      "source": [],
      "metadata": {
        "id": "3Fzbt2h5Uc3V"
      }
    },
    {
      "cell_type": "markdown",
      "source": [
        "### 7) Какие бывают функции потерь?"
      ],
      "metadata": {
        "id": "12KMl1l2Ud__"
      }
    },
    {
      "cell_type": "markdown",
      "source": [],
      "metadata": {
        "id": "NR7OxFGRUhXm"
      }
    },
    {
      "cell_type": "markdown",
      "source": [
        "# II. Прочитайте пункт “Метод стохастического градиента” и рекомендованную литературу к нему и ответьте на вопросы"
      ],
      "metadata": {
        "id": "IzVTuWikU5tf"
      }
    },
    {
      "cell_type": "markdown",
      "source": [
        "### 1) В чем отличия метода стохастического градиента от метода градиентного спуска?"
      ],
      "metadata": {
        "id": "C5MTOOeZWKfy"
      }
    },
    {
      "cell_type": "markdown",
      "source": [],
      "metadata": {
        "id": "F4nngHwCWQwy"
      }
    },
    {
      "cell_type": "markdown",
      "source": [
        "### 2) Зачем делается регуляризация?"
      ],
      "metadata": {
        "id": "729sNFSoWR0q"
      }
    },
    {
      "cell_type": "markdown",
      "source": [],
      "metadata": {
        "id": "SfBWG3aqWVQi"
      }
    },
    {
      "cell_type": "markdown",
      "source": [
        "### 3) Какие параметры можно задавать в методе?"
      ],
      "metadata": {
        "id": "a2GaxEc2WWeh"
      }
    },
    {
      "cell_type": "markdown",
      "source": [],
      "metadata": {
        "id": "d-cDqTqYWZZX"
      }
    },
    {
      "cell_type": "markdown",
      "source": [
        "### 4) Какие преимущества и недостатки метода стохастического градиента?"
      ],
      "metadata": {
        "id": "uT81fkE9Wauv"
      }
    },
    {
      "cell_type": "markdown",
      "source": [
        "**Преимущества**:\n",
        "*  метод легко реализуется;\n",
        "*  метод подходит для динамического обучения, когда данные поступают потоком, а не все сразу;\n",
        "*  случайной подвыборки может быть достаточно для обучения, поэтому веса можно настраивать для очень больших выборок (подходит для задач с большими данными).\n",
        "\n",
        "**Недостатки**:\n",
        "*  функционал качества может сходиться на локальном минимуме, а не на общем;\n",
        "*  возможно переобучение при маленькой обучающей выборке."
      ],
      "metadata": {
        "id": "3mPx27VEWfaG"
      }
    },
    {
      "cell_type": "markdown",
      "source": [
        "# III. В книге [3, на стр. 49–67] рассказывается о модели нейрона Мак-Каллока–Питтса (предложенной ими в 1943 г.) и о правиле обучения персептрона Фрэнк Розенблатт (1957 г.)"
      ],
      "metadata": {
        "id": "JeL8YyaWWnZX"
      }
    },
    {
      "cell_type": "markdown",
      "source": [
        "На стр.56–67 написана реализация алгоритма обучения персептрона на Python в виде класса Perceptron и обучение его на наборе данных Iris. Скопируйте код из книги и повторите эксперименты из нее."
      ],
      "metadata": {
        "id": "soqZiSaiWvoH"
      }
    },
    {
      "cell_type": "markdown",
      "source": [],
      "metadata": {
        "id": "J55mH4LRW1Z-"
      }
    },
    {
      "cell_type": "markdown",
      "source": [
        "# IV. Выполните задание из файла statement-linear.pdf"
      ],
      "metadata": {
        "id": "4H-C4qILW5Bu"
      }
    },
    {
      "cell_type": "markdown",
      "source": [
        "### 1. Загрузите обучающую и тестовую выборки из файлов perceptron-train.csv и perceptron-test.csv. Целевая переменная записана в первом столбце, признаки — во втором и третьем"
      ],
      "metadata": {
        "id": "97jGo_7PW9tO"
      }
    },
    {
      "cell_type": "code",
      "source": [],
      "metadata": {
        "id": "9Sy026GAXjIg"
      },
      "execution_count": null,
      "outputs": []
    },
    {
      "cell_type": "markdown",
      "source": [
        "### 2. Обучите персептрон со стандартными параметрами и random_state=241"
      ],
      "metadata": {
        "id": "Z1jBTUS6Xjd_"
      }
    },
    {
      "cell_type": "code",
      "source": [],
      "metadata": {
        "id": "OSz7K6LlXnrP"
      },
      "execution_count": null,
      "outputs": []
    },
    {
      "cell_type": "markdown",
      "source": [
        "### 3. Подсчитайте качество (долю правильно классифицированных объектов, accuracy) полученного классификатора на тестовой выборке"
      ],
      "metadata": {
        "id": "HsFYYiAMXofP"
      }
    },
    {
      "cell_type": "code",
      "source": [],
      "metadata": {
        "id": "PR9QMvg6Xt-_"
      },
      "execution_count": null,
      "outputs": []
    },
    {
      "cell_type": "markdown",
      "source": [
        "### 4. Нормализуйте обучающую и тестовую выборку с помощью класса StandardScaler"
      ],
      "metadata": {
        "id": "ruo7aWCsXu_v"
      }
    },
    {
      "cell_type": "code",
      "source": [],
      "metadata": {
        "id": "EhkciXpHXz2_"
      },
      "execution_count": null,
      "outputs": []
    },
    {
      "cell_type": "markdown",
      "source": [
        "### 5. Обучите персептрон на новых выборках. Найдите долю правильных ответов на тестовой выборке"
      ],
      "metadata": {
        "id": "IIGeHZtjX0i3"
      }
    },
    {
      "cell_type": "code",
      "source": [],
      "metadata": {
        "id": "83Q7vzUUX5P_"
      },
      "execution_count": null,
      "outputs": []
    },
    {
      "cell_type": "markdown",
      "source": [
        "### 6. Найдите разность между качеством на тестовой выборке после нормализации и качеством до нее. Это число и будет ответом на задание"
      ],
      "metadata": {
        "id": "SJXxJceQX563"
      }
    },
    {
      "cell_type": "code",
      "source": [],
      "metadata": {
        "id": "K1chwtJ6X_2H"
      },
      "execution_count": null,
      "outputs": []
    }
  ]
}