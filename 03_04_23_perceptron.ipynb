{
  "nbformat": 4,
  "nbformat_minor": 0,
  "metadata": {
    "colab": {
      "provenance": [],
      "authorship_tag": "ABX9TyOiUGj6RKtngn/2LFs1MR2k",
      "include_colab_link": true
    },
    "kernelspec": {
      "name": "python3",
      "display_name": "Python 3"
    },
    "language_info": {
      "name": "python"
    }
  },
  "cells": [
    {
      "cell_type": "markdown",
      "metadata": {
        "id": "view-in-github",
        "colab_type": "text"
      },
      "source": [
        "<a href=\"https://colab.research.google.com/github/murpunk/Programming_2023/blob/main/03_04_23_perceptron.ipynb\" target=\"_parent\"><img src=\"https://colab.research.google.com/assets/colab-badge.svg\" alt=\"Open In Colab\"/></a>"
      ]
    },
    {
      "cell_type": "markdown",
      "source": [
        "# 0. Список литературы"
      ],
      "metadata": {
        "id": "aE09W2JgUkf-"
      }
    },
    {
      "cell_type": "markdown",
      "source": [
        "1.  К.В. Воронцов Математические методы обучения по прецедентам (теория \n",
        "обучения машин). 141 с. (Voron-ML-1.pdf)\n",
        "2.  Машинное обучение (курс лекций, К.В.Воронцов): Линейный классификатор (machinelearning.ru), Метод стохастического градиента \n",
        "(machinelearning.ru) (“Линейные методы классификации и регрессии: метод \n",
        "стохастического градиента”: https://www.youtube.com/watch?v=thrPR77K-os)\n",
        "3.  Рашка Себастьян, Мирджалили Вахид. Python и машинное обучение: машинное и глубокое обучение с использованием Python, scikit-learn и \n",
        "TensorFlow 2, 3-е изд.: Пер. с англ. СПб. : ООО \"Диалектика\", 2020. 848 с.\n",
        "4.  Андреас Мюллер, Сара Гвидо. Введение в машинное обучение с помощью \n",
        "Python. Руководство для специалистов по работе с данными. 393 с."
      ],
      "metadata": {
        "id": "hrkMn_2sUphu"
      }
    },
    {
      "cell_type": "markdown",
      "source": [
        "Подробней см. в [1, стр. 51–62], [2], [3, стр. 49–84], [4]."
      ],
      "metadata": {
        "id": "jBMuM_wuY-M2"
      }
    },
    {
      "cell_type": "markdown",
      "source": [
        "Документация:\n",
        "*  1.1. Linear Models — scikit-learn 1.1.3 documentation\n",
        "*  1.5. Stochastic Gradient Descent — scikit-learn 1.1.3 documentation\n",
        "*  sklearn.linear_model.LinearRegression — scikit-learn 1.1.3 documentation\n",
        "*  sklearn.linear_model.Perceptron — scikit-learn 1.1.3 documentation"
      ],
      "metadata": {
        "id": "iGW6uNSEZHC-"
      }
    },
    {
      "cell_type": "markdown",
      "source": [
        "# I. Прочитайте пункт “Линейные методы регрессии и классификации” и рекомендованную литературу к нему и ответьте на вопросы"
      ],
      "metadata": {
        "id": "Hwrp8c-MSQa1"
      }
    },
    {
      "cell_type": "markdown",
      "source": [
        "### 1) В каком виде ищется решение в задаче восстановления регрессии? На что влияет коэффициент $w_0$?"
      ],
      "metadata": {
        "id": "jdVODzXgSaKJ"
      }
    },
    {
      "cell_type": "markdown",
      "source": [
        "В задаче восстановления регрессии решение ищется в виде линейной функции — взвешенной суммы всех признаков: суммы всех признаков $f_i(x)$ с коэффицентами $w_i$, где $x$ входит в обучающую выборку.\n",
        "\n",
        "$w_0$ — это дополнительный коэффицент, который смещает линейную функцию относительно начала координат.\n",
        "\n",
        "Линейная модель восстановления регрессии в виде функции: $a(x, w) = \\displaystyle\\sum_{j=1}^{n} f_j(x)w_j + w_0$"
      ],
      "metadata": {
        "id": "3M4klOTBT8XB"
      }
    },
    {
      "cell_type": "markdown",
      "source": [
        "### 2) Какой вид имеет функция потерь в методе наименьших квадратов?"
      ],
      "metadata": {
        "id": "aaeyevwJT96h"
      }
    },
    {
      "cell_type": "markdown",
      "source": [
        "Квадратичная функция потерь для каждой i-ой точки выглядит следующим образом:\n",
        "\n",
        "\n",
        "$L(a, y) = (a_i - y_i)^2$, где $a$ — истинное значение выхода модели, а $y$ — фактический выход модели.\n",
        "\n",
        "Если просуммировать значения функции потерь, получится функционал качества:\n",
        "\n",
        "\n",
        "$Q(w) = \\displaystyle\\sum_{i=1}^{l} (a(x_i, w) - y_i)^2 \\to {\\underset{w}{min}}$\n",
        " \n",
        "Он такой же, как в методе наименьших квадратов. Параметры регрессионной модели вычисляются таким образом, чтобы сумма квадратов расстояний от линии регрессии до фактических значений данных была минимальной."
      ],
      "metadata": {
        "id": "C5wFAqcEUCDx"
      }
    },
    {
      "cell_type": "markdown",
      "source": [
        "### 3) Как в методе наименьших квадратов находится минимум?"
      ],
      "metadata": {
        "id": "O1SruOIdUDXx"
      }
    },
    {
      "cell_type": "markdown",
      "source": [
        "В методе наименьших квадратов функционал качества сводится к нахождению минимума этой функции при условии равенства всех производных нулю. После дифференцирования задача сводится к решению СЛАУ, из которой находятся неизвестные коэффициенты $w_i$."
      ],
      "metadata": {
        "id": "4NLotKu3UGap"
      }
    },
    {
      "cell_type": "markdown",
      "source": [
        "### 4) В каком виде ищется решение в задаче классификации? Какой геометрический смысл вектора коэффициентов $w$?"
      ],
      "metadata": {
        "id": "PJVdKsoAUHaB"
      }
    },
    {
      "cell_type": "markdown",
      "source": [
        "В задаче классификации решение ищется в виде функции знака числа от суммы всех  признаков $f_j(x)$ с коэффициентами $w_i$:\n",
        "\n",
        "$a(x, w) = sign \\langle x, w \\rangle = sign\\left(\\displaystyle\\sum_{j=1}^{n} f_j(x)w_j\\right)$\n",
        "\n",
        "Геометрический смысл состоит в том, что направляющий вектор коэффициентов $w$ разделяет гиперплоскость на два класса. Если точка лежит по одну сторону с вектором от гиперплоскости, то скалярное произведение будет больше нуля и точка попадает в класс +1. Если же лежит по другую сторону от вектора от гиперплоскости, то знак скалярного произведения меньше нуля и точка попадает в класс –1."
      ],
      "metadata": {
        "id": "wi5Oz0ZZUPWq"
      }
    },
    {
      "cell_type": "markdown",
      "source": [
        "### 5) В чем недостаток использования пороговой функции потерь?"
      ],
      "metadata": {
        "id": "ZWRptg90UQcx"
      }
    },
    {
      "cell_type": "markdown",
      "source": [
        "Пороговая функция потерь — это функция потерь, которая используется в задачах классификации и оптимизации. \n",
        "\n",
        "Недостатком пороговой функции потерь является то, что оне дифференцируема в некоторых точках. Это затрудняет её использование в некоторых алгоритмах, так как она не говорит о величине ошибки, функционал качества становится кусочной функцией."
      ],
      "metadata": {
        "id": "EXPw_4zEUVkm"
      }
    },
    {
      "cell_type": "markdown",
      "source": [
        "### 6) Что такое отступ? Когда он бывает положительным и отрицательным? Какую еще информацию можно узнать с помощью него?"
      ],
      "metadata": {
        "id": "VMPWYS18UX0d"
      }
    },
    {
      "cell_type": "markdown",
      "source": [
        "Вместо функции потерь используется её непрерывные аппроксимации:\n",
        "\n",
        "$L(a, y) = [\\langle x_i, w \\rangle y_i < 0] \\leqslant L(\\langle x_i, w \\rangle y_i)$,\n",
        "\n",
        "где $\\langle x_i, w \\rangle y_i$ — это $M_i(w)$, то есть отступ объекта $x_i$. Если нет ошибки, то отступ становится положительным, а пороговая функция потерь становится равной 0. Если есть ошибка, отступ становится отрицательным, тогда пороговая функция потерь становится равной 1.\n",
        "\n",
        "Отступ также говорит о расстоянии точки от гиперплоскости: чем дальше точка от гиперплоскости, тем больше модуль отступа."
      ],
      "metadata": {
        "id": "3Fzbt2h5Uc3V"
      }
    },
    {
      "cell_type": "markdown",
      "source": [
        "### 7) Какие бывают функции потерь?"
      ],
      "metadata": {
        "id": "12KMl1l2Ud__"
      }
    },
    {
      "cell_type": "markdown",
      "source": [
        "Чаще всего используются следующие функции потерь: простая, квадратичная и двоичная."
      ],
      "metadata": {
        "id": "NR7OxFGRUhXm"
      }
    },
    {
      "cell_type": "markdown",
      "source": [
        "# II. Прочитайте пункт “Метод стохастического градиента” и рекомендованную литературу к нему и ответьте на вопросы"
      ],
      "metadata": {
        "id": "IzVTuWikU5tf"
      }
    },
    {
      "cell_type": "markdown",
      "source": [
        "### 1) В чем отличия метода стохастического градиента от метода градиентного спуска?"
      ],
      "metadata": {
        "id": "C5MTOOeZWKfy"
      }
    },
    {
      "cell_type": "markdown",
      "source": [
        "**Градиентом** называется \"наклон\", который указывает, насколько крутой или неглубокой является линия (или функция) в определённой точке на n-мерной плоскости. \"Крутой склон\" указывает на высокую скорость изменения одного фактора по сравнению с другим фактором, в то время как обратное верно для \"пологого склона\".\n",
        "\n",
        "Метод градиентного спуска работает так: выбирается начальная точка, в которой считается значение градиента, показывающий направление роста функции потерь в начальной точке, и делается шаг в противоположном градиенту направлении. Таким образом можно найти локальный минимум.\n",
        "\n",
        "Стохастический градиентный спуск выбирает на каждом шаге случайный обучающий пример и вычисляет градиент функции потерь только по нему, а не как сумма градиентов от каждого элемента выборки. Так повышается сходимость алгоритма."
      ],
      "metadata": {
        "id": "F4nngHwCWQwy"
      }
    },
    {
      "cell_type": "markdown",
      "source": [
        "### 2) Зачем делается регуляризация?"
      ],
      "metadata": {
        "id": "729sNFSoWR0q"
      }
    },
    {
      "cell_type": "markdown",
      "source": [
        "Основным способом уменьшить переобучение является регуляризация, т.е. сокращение весов. За увеличение вектора весов применяется штраф, тогда функция потерь будет выглядеть следующим образом:\n",
        "\n",
        "$Q(w) = \\dfrac{1}{l} \\displaystyle\\sum_{j=1}^{l}L(\\langle x_i, w\\rangle y_i) + \\dfrac{\\tau}{2} \\sum\\limits_{j=1}^nw_j^2 \\rightarrow \\min\\limits_w$, где $\\tau$ $-$ коэффициент регуляризации."
      ],
      "metadata": {
        "id": "SfBWG3aqWVQi"
      }
    },
    {
      "cell_type": "markdown",
      "source": [
        "### 3) Какие параметры можно задавать в методе стохастического градиента?"
      ],
      "metadata": {
        "id": "a2GaxEc2WWeh"
      }
    },
    {
      "cell_type": "markdown",
      "source": [
        "В методе стохастического градиента можно задавать начальный вектор параметров $w$ и темп обучения $h$."
      ],
      "metadata": {
        "id": "d-cDqTqYWZZX"
      }
    },
    {
      "cell_type": "markdown",
      "source": [
        "### 4) Какие преимущества и недостатки метода стохастического градиента?"
      ],
      "metadata": {
        "id": "uT81fkE9Wauv"
      }
    },
    {
      "cell_type": "markdown",
      "source": [
        "**Преимущества**:\n",
        "*  метод легко реализуется;\n",
        "*  метод подходит для динамического обучения, когда данные поступают потоком, а не все сразу;\n",
        "*  случайной подвыборки может быть достаточно для обучения, поэтому веса можно настраивать для очень больших выборок (подходит для задач с большими данными).\n",
        "\n",
        "**Недостатки**:\n",
        "*  функционал качества может сходиться на локальном минимуме, а не на общем;\n",
        "*  возможно переобучение при маленькой обучающей выборке."
      ],
      "metadata": {
        "id": "3mPx27VEWfaG"
      }
    },
    {
      "cell_type": "markdown",
      "source": [
        "# III. В книге [3, на стр. 49–67] рассказывается о модели нейрона Мак-Каллока–Питтса (предложенной ими в 1943 г.) и о правиле обучения персептрона Фрэнк Розенблатт (1957 г.)"
      ],
      "metadata": {
        "id": "JeL8YyaWWnZX"
      }
    },
    {
      "cell_type": "markdown",
      "source": [
        "На стр. 56–67 написана реализация алгоритма обучения персептрона на Python в виде класса Perceptron и обучение его на наборе данных Iris. Скопируйте код из книги и повторите эксперименты из неё."
      ],
      "metadata": {
        "id": "soqZiSaiWvoH"
      }
    },
    {
      "cell_type": "code",
      "source": [
        "import numpy as np\n",
        "import pandas as pd\n",
        "from sklearn import datasets\n",
        "import matplotlib.pyplot as plt"
      ],
      "metadata": {
        "id": "1zg4iaTMqoCp"
      },
      "execution_count": 91,
      "outputs": []
    },
    {
      "cell_type": "code",
      "source": [
        "iris = datasets.load_iris()\n",
        "iris.data[:10]"
      ],
      "metadata": {
        "id": "pvn0c7sJrHxK",
        "outputId": "8303c508-0334-44dc-ae6c-34e738bc25c9",
        "colab": {
          "base_uri": "https://localhost:8080/"
        }
      },
      "execution_count": 92,
      "outputs": [
        {
          "output_type": "execute_result",
          "data": {
            "text/plain": [
              "array([[5.1, 3.5, 1.4, 0.2],\n",
              "       [4.9, 3. , 1.4, 0.2],\n",
              "       [4.7, 3.2, 1.3, 0.2],\n",
              "       [4.6, 3.1, 1.5, 0.2],\n",
              "       [5. , 3.6, 1.4, 0.2],\n",
              "       [5.4, 3.9, 1.7, 0.4],\n",
              "       [4.6, 3.4, 1.4, 0.3],\n",
              "       [5. , 3.4, 1.5, 0.2],\n",
              "       [4.4, 2.9, 1.4, 0.2],\n",
              "       [4.9, 3.1, 1.5, 0.1]])"
            ]
          },
          "metadata": {},
          "execution_count": 92
        }
      ]
    },
    {
      "cell_type": "code",
      "source": [
        "iris.feature_names"
      ],
      "metadata": {
        "id": "h2wftX63v-8k",
        "outputId": "3ca9d886-ae51-4160-8550-90ea6504d8de",
        "colab": {
          "base_uri": "https://localhost:8080/"
        }
      },
      "execution_count": 93,
      "outputs": [
        {
          "output_type": "execute_result",
          "data": {
            "text/plain": [
              "['sepal length (cm)',\n",
              " 'sepal width (cm)',\n",
              " 'petal length (cm)',\n",
              " 'petal width (cm)']"
            ]
          },
          "metadata": {},
          "execution_count": 93
        }
      ]
    },
    {
      "cell_type": "code",
      "source": [
        "iris.target_names"
      ],
      "metadata": {
        "id": "o4k_9PVgwDEJ",
        "outputId": "68d74990-6f6d-449d-a9fc-7d5a73af72b2",
        "colab": {
          "base_uri": "https://localhost:8080/"
        }
      },
      "execution_count": 94,
      "outputs": [
        {
          "output_type": "execute_result",
          "data": {
            "text/plain": [
              "array(['setosa', 'versicolor', 'virginica'], dtype='<U10')"
            ]
          },
          "metadata": {},
          "execution_count": 94
        }
      ]
    },
    {
      "cell_type": "code",
      "source": [
        "iris.target"
      ],
      "metadata": {
        "id": "F0-3xmTwwGC3",
        "outputId": "601af334-93fe-4d23-8296-c09c3463ea82",
        "colab": {
          "base_uri": "https://localhost:8080/"
        }
      },
      "execution_count": 95,
      "outputs": [
        {
          "output_type": "execute_result",
          "data": {
            "text/plain": [
              "array([0, 0, 0, 0, 0, 0, 0, 0, 0, 0, 0, 0, 0, 0, 0, 0, 0, 0, 0, 0, 0, 0,\n",
              "       0, 0, 0, 0, 0, 0, 0, 0, 0, 0, 0, 0, 0, 0, 0, 0, 0, 0, 0, 0, 0, 0,\n",
              "       0, 0, 0, 0, 0, 0, 1, 1, 1, 1, 1, 1, 1, 1, 1, 1, 1, 1, 1, 1, 1, 1,\n",
              "       1, 1, 1, 1, 1, 1, 1, 1, 1, 1, 1, 1, 1, 1, 1, 1, 1, 1, 1, 1, 1, 1,\n",
              "       1, 1, 1, 1, 1, 1, 1, 1, 1, 1, 1, 1, 2, 2, 2, 2, 2, 2, 2, 2, 2, 2,\n",
              "       2, 2, 2, 2, 2, 2, 2, 2, 2, 2, 2, 2, 2, 2, 2, 2, 2, 2, 2, 2, 2, 2,\n",
              "       2, 2, 2, 2, 2, 2, 2, 2, 2, 2, 2, 2, 2, 2, 2, 2, 2, 2])"
            ]
          },
          "metadata": {},
          "execution_count": 95
        }
      ]
    },
    {
      "cell_type": "code",
      "source": [
        "class Perceptron(object):\n",
        "  def __init__ (self, eta = 0.01, n_iter = 50, random_state = 1): # задаются гиперпараметры\n",
        "    self.eta = eta\n",
        "    self.n_iter = n_iter\n",
        "    self.random_state = random_state\n",
        "\n",
        "  def fit(self, X, y):\n",
        "    rgen = np.random.RandomState(self.random_state)\n",
        "    self.w_ = rgen.normal(loc = 0.0, scale = 0.01, size = 1 + X.shape[1]) # веса после подгонки\n",
        "    self.errors_ = [] # сохраняет количество ошибок после каждой эпохи\n",
        "\n",
        "    for _ in range(self.n_iter):\n",
        "      errors = 0\n",
        "      for xi, target in zip(X, y):\n",
        "        update = self.eta * (target - self.predict(xi))\n",
        "        self.w_[1:] += update * xi\n",
        "        self.w_[0] += update\n",
        "        errors += int(update != 0.0)\n",
        "      self.errors_.append(errors)\n",
        "    return self\n",
        "\n",
        "  def net_input(self, X):\n",
        "    return np.dot(X, self.w_[1:]) + self.w_[0]\n",
        "  \n",
        "  def predict(self, X):\n",
        "    return np.where(self.net_input(X) >= 0.0, 1, 0)"
      ],
      "metadata": {
        "id": "lJlIk6vqsNSY"
      },
      "execution_count": 102,
      "outputs": []
    },
    {
      "cell_type": "markdown",
      "source": [
        "Извлекатеся первые сто меток классов, которые соответствуют нулю — это ирис разноцветный (iris-setosa) и единице — это ирис щетинистый (iris-versicolor)."
      ],
      "metadata": {
        "id": "9nS_a5MVG2YJ"
      }
    },
    {
      "cell_type": "code",
      "source": [
        "X = iris.data[:100, [0, 2]] # первый столбец представляет длину чашелистника, а третий столбец — длину лепестка\n",
        "y = iris.target[:100]\n",
        "print('Class labels:', np.unique(y)) # 0=Iris-Setosa, 1=Iris-Versicolor, 2=Iris-Virginica"
      ],
      "metadata": {
        "id": "3wIne8dqvjCb",
        "outputId": "b695d233-ce64-40d9-9093-7d90ee5d1b66",
        "colab": {
          "base_uri": "https://localhost:8080/"
        }
      },
      "execution_count": 103,
      "outputs": [
        {
          "output_type": "stream",
          "name": "stdout",
          "text": [
            "Class labels: [0 1]\n"
          ]
        }
      ]
    },
    {
      "cell_type": "code",
      "source": [
        "plt.scatter(X[:50, 0], X[:50, 1], color = \"red\", marker=\"o\", label= \"щетинистый\")\n",
        "plt.scatter(X[50:100, 0], X[50:100, 1], color = \"blue\", marker=\"x\", label= \"разноцветный\")\n",
        "plt.xlabel(\"длина чашелистника [см]\")\n",
        "plt.ylabel(\"длина лепестка [см]\")\n",
        "plt.legend(loc = \"upper left\")\n",
        "plt.show()"
      ],
      "metadata": {
        "id": "gADMz_z9HtqW",
        "outputId": "3117c957-a0e6-4f7a-e4cd-6abf0b5041b4",
        "colab": {
          "base_uri": "https://localhost:8080/",
          "height": 449
        }
      },
      "execution_count": 104,
      "outputs": [
        {
          "output_type": "display_data",
          "data": {
            "text/plain": [
              "<Figure size 640x480 with 1 Axes>"
            ],
            "image/png": "[encoded data removed]"
          },
          "metadata": {}
        }
      ]
    },
    {
      "cell_type": "markdown",
      "source": [
        "Построим график ошибок неправильной классификации для каждой эпохи (относительно кличества эпох), чтобы проверить, сошёлся ли алгоритм"
      ],
      "metadata": {
        "id": "JWy3tr6gLrAF"
      }
    },
    {
      "cell_type": "code",
      "source": [
        "ppn = Perceptron(eta=0.1, n_iter=10)\n",
        "ppn.fit(X, y)\n",
        "plt.plot(range(1, len(ppn.errors_) + 1), ppn.errors_, marker = \"o\")\n",
        "plt.xlabel(\"Эпохи\")\n",
        "plt.ylabel(\"Количество обновлений\")\n",
        "plt.show()"
      ],
      "metadata": {
        "id": "Us43_oJ8JWrP",
        "outputId": "a6c4fa34-e4e8-422e-d979-4c4f8ffd88b4",
        "colab": {
          "base_uri": "https://localhost:8080/",
          "height": 449
        }
      },
      "execution_count": 105,
      "outputs": [
        {
          "output_type": "display_data",
          "data": {
            "text/plain": [
              "<Figure size 640x480 with 1 Axes>"
            ],
            "image/png": "[encoded data removed]"
          },
          "metadata": {}
        }
      ]
    },
    {
      "cell_type": "markdown",
      "source": [
        "Функция, показывающая границу решений для двумерных наборов данных."
      ],
      "metadata": {
        "id": "CqLFWI47MTdv"
      }
    },
    {
      "cell_type": "code",
      "source": [
        "from matplotlib.colors import ListedColormap"
      ],
      "metadata": {
        "id": "zJcLBSjnMT3H"
      },
      "execution_count": 106,
      "outputs": []
    },
    {
      "cell_type": "code",
      "source": [
        "def plot_decision_regions(X, y, classifier, resolution = 0.02):\n",
        "  markers = (\"s\", \"x\", \"o\", \"4\", \"4\") # настраивается генератор маркеров\n",
        "  colors = (\"red\", \"blue\", \"lightgreen\", \"grey\", \"cyan\") # настраивается карта цветов\n",
        "  cmap = ListedColormap(colors[:len(np.unique(y))])\n",
        "\n",
        "  # вывести поверхность решения\n",
        "  x1_min, x1_max = X[:, 0].min() - 1, X[:, 0].max() + 1\n",
        "  x2_min, x2_max = X[:, 1].min() - 1, X[:, 1].max() + 1\n",
        "  xx1, xx2 = np.meshgrid(np.arange(x1_min, x1_max, resolution), np.arange(x2_min, x2_max, resolution))\n",
        "  Z = classifier.predict(np.array([xx1.ravel(), xx2.ravel()]).T)\n",
        "  Z = Z.reshape(xx1.shape)\n",
        "  plt.contourf(xx1, xx2, Z, alpha=0.3, cmap = cmap)\n",
        "  plt.xlim(xx1.min(), xx1.max())\n",
        "  plt.xlim(xx1.min(), xx1.max())\n",
        "\n",
        "  # вывести образцы по классам\n",
        "  for idx, cl in enumerate(np.unique(y)):\n",
        "    plt.scatter(x=X[y == cl, 0], y=X[y == cl, 1], alpha=0.8, c=colors[idx], marker=markers[idx], label = cl, edgecolor=\"black\")"
      ],
      "metadata": {
        "id": "46wfAe4nMdGR"
      },
      "execution_count": 107,
      "outputs": []
    },
    {
      "cell_type": "code",
      "source": [
        "plot_decision_regions(X, y, classifier=ppn)\n",
        "plt.xlabel(\"Длина чашелистника [см]\")\n",
        "plt.ylabel(\"Длина лепестка [см]\")\n",
        "plt.legend(loc = \"upper left\")\n",
        "plt.show()"
      ],
      "metadata": {
        "id": "VCkvtwMmdBjQ",
        "outputId": "5abb5a15-b993-4024-e96d-577f4d4863b0",
        "colab": {
          "base_uri": "https://localhost:8080/",
          "height": 505
        }
      },
      "execution_count": 108,
      "outputs": [
        {
          "output_type": "stream",
          "name": "stderr",
          "text": [
            "<ipython-input-107-2583381f5e7a>:18: UserWarning: You passed a edgecolor/edgecolors ('black') for an unfilled marker ('x').  Matplotlib is ignoring the edgecolor in favor of the facecolor.  This behavior may change in the future.\n",
            "  plt.scatter(x=X[y == cl, 0], y=X[y == cl, 1], alpha=0.8, c=colors[idx], marker=markers[idx], label = cl, edgecolor=\"black\")\n"
          ]
        },
        {
          "output_type": "display_data",
          "data": {
            "text/plain": [
              "<Figure size 640x480 with 1 Axes>"
            ],
            "image/png": "[encoded data removed]"
          },
          "metadata": {}
        }
      ]
    },
    {
      "cell_type": "code",
      "source": [],
      "metadata": {
        "id": "LAtkDy2lsZQl"
      },
      "execution_count": null,
      "outputs": []
    },
    {
      "cell_type": "markdown",
      "source": [
        "# IV. Выполните задание из файла statement-linear.pdf"
      ],
      "metadata": {
        "id": "4H-C4qILW5Bu"
      }
    },
    {
      "cell_type": "markdown",
      "source": [
        "### 1. Загрузите обучающую и тестовую выборки из файлов perceptron-train.csv и perceptron-test.csv. Целевая переменная записана в первом столбце, признаки — во втором и третьем"
      ],
      "metadata": {
        "id": "97jGo_7PW9tO"
      }
    },
    {
      "cell_type": "code",
      "source": [
        "from google.colab import drive\n",
        "drive.mount('/content/drive')"
      ],
      "metadata": {
        "id": "9Sy026GAXjIg",
        "outputId": "11c4a066-4296-4157-a6eb-7522ace8f1ec",
        "colab": {
          "base_uri": "https://localhost:8080/"
        }
      },
      "execution_count": 44,
      "outputs": [
        {
          "output_type": "stream",
          "name": "stdout",
          "text": [
            "Mounted at /content/drive\n"
          ]
        }
      ]
    },
    {
      "cell_type": "code",
      "source": [
        "import pandas as pd"
      ],
      "metadata": {
        "id": "uWBm7Rryg1D-"
      },
      "execution_count": 45,
      "outputs": []
    },
    {
      "cell_type": "code",
      "source": [
        "prc_train = pd.read_csv(\"drive/My Drive/Программирование/perceptron-train.csv\", header = None)\n",
        "prc_train.head()"
      ],
      "metadata": {
        "id": "sbA2BvOggxKY",
        "outputId": "41393cc6-5533-4126-b2f5-db150a02e44b",
        "colab": {
          "base_uri": "https://localhost:8080/",
          "height": 206
        }
      },
      "execution_count": 47,
      "outputs": [
        {
          "output_type": "execute_result",
          "data": {
            "text/plain": [
              "     0         1            2\n",
              "0 -1.0 -0.024626  1174.600238\n",
              "1  1.0 -0.978058  1083.198803\n",
              "2 -1.0  0.314272 -1472.977609\n",
              "3 -1.0  0.179752   231.017267\n",
              "4  1.0 -1.262544  -778.271726"
            ],
            "text/html": [
              "\n",
              "  <div id=\"df-5b1f20ac-5a3f-4b0a-83ce-51a56965c152\">\n",
              "    <div class=\"colab-df-container\">\n",
              "      <div>\n",
              "<style scoped>\n",
              "    .dataframe tbody tr th:only-of-type {\n",
              "        vertical-align: middle;\n",
              "    }\n",
              "\n",
              "    .dataframe tbody tr th {\n",
              "        vertical-align: top;\n",
              "    }\n",
              "\n",
              "    .dataframe thead th {\n",
              "        text-align: right;\n",
              "    }\n",
              "</style>\n",
              "<table border=\"1\" class=\"dataframe\">\n",
              "  <thead>\n",
              "    <tr style=\"text-align: right;\">\n",
              "      <th></th>\n",
              "      <th>0</th>\n",
              "      <th>1</th>\n",
              "      <th>2</th>\n",
              "    </tr>\n",
              "  </thead>\n",
              "  <tbody>\n",
              "    <tr>\n",
              "      <th>0</th>\n",
              "      <td>-1.0</td>\n",
              "      <td>-0.024626</td>\n",
              "      <td>1174.600238</td>\n",
              "    </tr>\n",
              "    <tr>\n",
              "      <th>1</th>\n",
              "      <td>1.0</td>\n",
              "      <td>-0.978058</td>\n",
              "      <td>1083.198803</td>\n",
              "    </tr>\n",
              "    <tr>\n",
              "      <th>2</th>\n",
              "      <td>-1.0</td>\n",
              "      <td>0.314272</td>\n",
              "      <td>-1472.977609</td>\n",
              "    </tr>\n",
              "    <tr>\n",
              "      <th>3</th>\n",
              "      <td>-1.0</td>\n",
              "      <td>0.179752</td>\n",
              "      <td>231.017267</td>\n",
              "    </tr>\n",
              "    <tr>\n",
              "      <th>4</th>\n",
              "      <td>1.0</td>\n",
              "      <td>-1.262544</td>\n",
              "      <td>-778.271726</td>\n",
              "    </tr>\n",
              "  </tbody>\n",
              "</table>\n",
              "</div>\n",
              "      <button class=\"colab-df-convert\" onclick=\"convertToInteractive('df-5b1f20ac-5a3f-4b0a-83ce-51a56965c152')\"\n",
              "              title=\"Convert this dataframe to an interactive table.\"\n",
              "              style=\"display:none;\">\n",
              "        \n",
              "  <svg xmlns=\"http://www.w3.org/2000/svg\" height=\"24px\"viewBox=\"0 0 24 24\"\n",
              "       width=\"24px\">\n",
              "    <path d=\"M0 0h24v24H0V0z\" fill=\"none\"/>\n",
              "    <path d=\"M18.56 5.44l.94 2.06.94-2.06 2.06-.94-2.06-.94-.94-2.06-.94 2.06-2.06.94zm-11 1L8.5 8.5l.94-2.06 2.06-.94-2.06-.94L8.5 2.5l-.94 2.06-2.06.94zm10 10l.94 2.06.94-2.06 2.06-.94-2.06-.94-.94-2.06-.94 2.06-2.06.94z\"/><path d=\"M17.41 7.96l-1.37-1.37c-.4-.4-.92-.59-1.43-.59-.52 0-1.04.2-1.43.59L10.3 9.45l-7.72 7.72c-.78.78-.78 2.05 0 2.83L4 21.41c.39.39.9.59 1.41.59.51 0 1.02-.2 1.41-.59l7.78-7.78 2.81-2.81c.8-.78.8-2.07 0-2.86zM5.41 20L4 18.59l7.72-7.72 1.47 1.35L5.41 20z\"/>\n",
              "  </svg>\n",
              "      </button>\n",
              "      \n",
              "  <style>\n",
              "    .colab-df-container {\n",
              "      display:flex;\n",
              "      flex-wrap:wrap;\n",
              "      gap: 12px;\n",
              "    }\n",
              "\n",
              "    .colab-df-convert {\n",
              "      background-color: #E8F0FE;\n",
              "      border: none;\n",
              "      border-radius: 50%;\n",
              "      cursor: pointer;\n",
              "      display: none;\n",
              "      fill: #1967D2;\n",
              "      height: 32px;\n",
              "      padding: 0 0 0 0;\n",
              "      width: 32px;\n",
              "    }\n",
              "\n",
              "    .colab-df-convert:hover {\n",
              "      background-color: #E2EBFA;\n",
              "      box-shadow: 0px 1px 2px rgba(60, 64, 67, 0.3), 0px 1px 3px 1px rgba(60, 64, 67, 0.15);\n",
              "      fill: #174EA6;\n",
              "    }\n",
              "\n",
              "    [theme=dark] .colab-df-convert {\n",
              "      background-color: #3B4455;\n",
              "      fill: #D2E3FC;\n",
              "    }\n",
              "\n",
              "    [theme=dark] .colab-df-convert:hover {\n",
              "      background-color: #434B5C;\n",
              "      box-shadow: 0px 1px 3px 1px rgba(0, 0, 0, 0.15);\n",
              "      filter: drop-shadow(0px 1px 2px rgba(0, 0, 0, 0.3));\n",
              "      fill: #FFFFFF;\n",
              "    }\n",
              "  </style>\n",
              "\n",
              "      <script>\n",
              "        const buttonEl =\n",
              "          document.querySelector('#df-5b1f20ac-5a3f-4b0a-83ce-51a56965c152 button.colab-df-convert');\n",
              "        buttonEl.style.display =\n",
              "          google.colab.kernel.accessAllowed ? 'block' : 'none';\n",
              "\n",
              "        async function convertToInteractive(key) {\n",
              "          const element = document.querySelector('#df-5b1f20ac-5a3f-4b0a-83ce-51a56965c152');\n",
              "          const dataTable =\n",
              "            await google.colab.kernel.invokeFunction('convertToInteractive',\n",
              "                                                     [key], {});\n",
              "          if (!dataTable) return;\n",
              "\n",
              "          const docLinkHtml = 'Like what you see? Visit the ' +\n",
              "            '<a target=\"_blank\" href=https://colab.research.google.com/notebooks/data_table.ipynb>data table notebook</a>'\n",
              "            + ' to learn more about interactive tables.';\n",
              "          element.innerHTML = '';\n",
              "          dataTable['output_type'] = 'display_data';\n",
              "          await google.colab.output.renderOutput(dataTable, element);\n",
              "          const docLink = document.createElement('div');\n",
              "          docLink.innerHTML = docLinkHtml;\n",
              "          element.appendChild(docLink);\n",
              "        }\n",
              "      </script>\n",
              "    </div>\n",
              "  </div>\n",
              "  "
            ]
          },
          "metadata": {},
          "execution_count": 47
        }
      ]
    },
    {
      "cell_type": "code",
      "source": [
        "prc_test = pd.read_csv(\"drive/My Drive/Программирование/perceptron-test.csv\", header = None)\n",
        "prc_test.head()"
      ],
      "metadata": {
        "id": "1Z1UNto9hL9D",
        "outputId": "cad59945-5bc6-4039-e020-aba55416a063",
        "colab": {
          "base_uri": "https://localhost:8080/",
          "height": 206
        }
      },
      "execution_count": 48,
      "outputs": [
        {
          "output_type": "execute_result",
          "data": {
            "text/plain": [
              "     0         1            2\n",
              "0 -1.0  1.651437  1337.453826\n",
              "1  1.0 -0.866495  1191.232457\n",
              "2 -1.0  0.789828  -475.647768\n",
              "3 -1.0  0.179549  1959.095353\n",
              "4  1.0 -0.434351   568.504207"
            ],
            "text/html": [
              "\n",
              "  <div id=\"df-4f9c959c-c795-444e-bd66-69b16d08db14\">\n",
              "    <div class=\"colab-df-container\">\n",
              "      <div>\n",
              "<style scoped>\n",
              "    .dataframe tbody tr th:only-of-type {\n",
              "        vertical-align: middle;\n",
              "    }\n",
              "\n",
              "    .dataframe tbody tr th {\n",
              "        vertical-align: top;\n",
              "    }\n",
              "\n",
              "    .dataframe thead th {\n",
              "        text-align: right;\n",
              "    }\n",
              "</style>\n",
              "<table border=\"1\" class=\"dataframe\">\n",
              "  <thead>\n",
              "    <tr style=\"text-align: right;\">\n",
              "      <th></th>\n",
              "      <th>0</th>\n",
              "      <th>1</th>\n",
              "      <th>2</th>\n",
              "    </tr>\n",
              "  </thead>\n",
              "  <tbody>\n",
              "    <tr>\n",
              "      <th>0</th>\n",
              "      <td>-1.0</td>\n",
              "      <td>1.651437</td>\n",
              "      <td>1337.453826</td>\n",
              "    </tr>\n",
              "    <tr>\n",
              "      <th>1</th>\n",
              "      <td>1.0</td>\n",
              "      <td>-0.866495</td>\n",
              "      <td>1191.232457</td>\n",
              "    </tr>\n",
              "    <tr>\n",
              "      <th>2</th>\n",
              "      <td>-1.0</td>\n",
              "      <td>0.789828</td>\n",
              "      <td>-475.647768</td>\n",
              "    </tr>\n",
              "    <tr>\n",
              "      <th>3</th>\n",
              "      <td>-1.0</td>\n",
              "      <td>0.179549</td>\n",
              "      <td>1959.095353</td>\n",
              "    </tr>\n",
              "    <tr>\n",
              "      <th>4</th>\n",
              "      <td>1.0</td>\n",
              "      <td>-0.434351</td>\n",
              "      <td>568.504207</td>\n",
              "    </tr>\n",
              "  </tbody>\n",
              "</table>\n",
              "</div>\n",
              "      <button class=\"colab-df-convert\" onclick=\"convertToInteractive('df-4f9c959c-c795-444e-bd66-69b16d08db14')\"\n",
              "              title=\"Convert this dataframe to an interactive table.\"\n",
              "              style=\"display:none;\">\n",
              "        \n",
              "  <svg xmlns=\"http://www.w3.org/2000/svg\" height=\"24px\"viewBox=\"0 0 24 24\"\n",
              "       width=\"24px\">\n",
              "    <path d=\"M0 0h24v24H0V0z\" fill=\"none\"/>\n",
              "    <path d=\"M18.56 5.44l.94 2.06.94-2.06 2.06-.94-2.06-.94-.94-2.06-.94 2.06-2.06.94zm-11 1L8.5 8.5l.94-2.06 2.06-.94-2.06-.94L8.5 2.5l-.94 2.06-2.06.94zm10 10l.94 2.06.94-2.06 2.06-.94-2.06-.94-.94-2.06-.94 2.06-2.06.94z\"/><path d=\"M17.41 7.96l-1.37-1.37c-.4-.4-.92-.59-1.43-.59-.52 0-1.04.2-1.43.59L10.3 9.45l-7.72 7.72c-.78.78-.78 2.05 0 2.83L4 21.41c.39.39.9.59 1.41.59.51 0 1.02-.2 1.41-.59l7.78-7.78 2.81-2.81c.8-.78.8-2.07 0-2.86zM5.41 20L4 18.59l7.72-7.72 1.47 1.35L5.41 20z\"/>\n",
              "  </svg>\n",
              "      </button>\n",
              "      \n",
              "  <style>\n",
              "    .colab-df-container {\n",
              "      display:flex;\n",
              "      flex-wrap:wrap;\n",
              "      gap: 12px;\n",
              "    }\n",
              "\n",
              "    .colab-df-convert {\n",
              "      background-color: #E8F0FE;\n",
              "      border: none;\n",
              "      border-radius: 50%;\n",
              "      cursor: pointer;\n",
              "      display: none;\n",
              "      fill: #1967D2;\n",
              "      height: 32px;\n",
              "      padding: 0 0 0 0;\n",
              "      width: 32px;\n",
              "    }\n",
              "\n",
              "    .colab-df-convert:hover {\n",
              "      background-color: #E2EBFA;\n",
              "      box-shadow: 0px 1px 2px rgba(60, 64, 67, 0.3), 0px 1px 3px 1px rgba(60, 64, 67, 0.15);\n",
              "      fill: #174EA6;\n",
              "    }\n",
              "\n",
              "    [theme=dark] .colab-df-convert {\n",
              "      background-color: #3B4455;\n",
              "      fill: #D2E3FC;\n",
              "    }\n",
              "\n",
              "    [theme=dark] .colab-df-convert:hover {\n",
              "      background-color: #434B5C;\n",
              "      box-shadow: 0px 1px 3px 1px rgba(0, 0, 0, 0.15);\n",
              "      filter: drop-shadow(0px 1px 2px rgba(0, 0, 0, 0.3));\n",
              "      fill: #FFFFFF;\n",
              "    }\n",
              "  </style>\n",
              "\n",
              "      <script>\n",
              "        const buttonEl =\n",
              "          document.querySelector('#df-4f9c959c-c795-444e-bd66-69b16d08db14 button.colab-df-convert');\n",
              "        buttonEl.style.display =\n",
              "          google.colab.kernel.accessAllowed ? 'block' : 'none';\n",
              "\n",
              "        async function convertToInteractive(key) {\n",
              "          const element = document.querySelector('#df-4f9c959c-c795-444e-bd66-69b16d08db14');\n",
              "          const dataTable =\n",
              "            await google.colab.kernel.invokeFunction('convertToInteractive',\n",
              "                                                     [key], {});\n",
              "          if (!dataTable) return;\n",
              "\n",
              "          const docLinkHtml = 'Like what you see? Visit the ' +\n",
              "            '<a target=\"_blank\" href=https://colab.research.google.com/notebooks/data_table.ipynb>data table notebook</a>'\n",
              "            + ' to learn more about interactive tables.';\n",
              "          element.innerHTML = '';\n",
              "          dataTable['output_type'] = 'display_data';\n",
              "          await google.colab.output.renderOutput(dataTable, element);\n",
              "          const docLink = document.createElement('div');\n",
              "          docLink.innerHTML = docLinkHtml;\n",
              "          element.appendChild(docLink);\n",
              "        }\n",
              "      </script>\n",
              "    </div>\n",
              "  </div>\n",
              "  "
            ]
          },
          "metadata": {},
          "execution_count": 48
        }
      ]
    },
    {
      "cell_type": "code",
      "source": [
        "X_train = prc_train.loc[:, 1:] # признаки\n",
        "y_train = prc_train[0] # целевая переменная\n",
        "X_test = prc_test.loc[:, 1:]\n",
        "y_test = prc_test[0]"
      ],
      "metadata": {
        "id": "8-5z_XGvh17V"
      },
      "execution_count": 51,
      "outputs": []
    },
    {
      "cell_type": "markdown",
      "source": [
        "### 2. Обучите персептрон со стандартными параметрами и random_state=241"
      ],
      "metadata": {
        "id": "Z1jBTUS6Xjd_"
      }
    },
    {
      "cell_type": "code",
      "source": [
        "from sklearn.linear_model import Perceptron"
      ],
      "metadata": {
        "id": "OSz7K6LlXnrP"
      },
      "execution_count": 69,
      "outputs": []
    },
    {
      "cell_type": "code",
      "source": [
        "clf = Perceptron(random_state=241)\n",
        "clf.fit(X_train, y_train)"
      ],
      "metadata": {
        "id": "WEHjiRWAhh-V",
        "outputId": "3a171fae-84c8-4546-a37e-e148ea9b0f73",
        "colab": {
          "base_uri": "https://localhost:8080/",
          "height": 74
        }
      },
      "execution_count": 70,
      "outputs": [
        {
          "output_type": "execute_result",
          "data": {
            "text/plain": [
              "Perceptron(random_state=241)"
            ],
            "text/html": [
              "<style>#sk-container-id-2 {color: black;background-color: white;}#sk-container-id-2 pre{padding: 0;}#sk-container-id-2 div.sk-toggleable {background-color: white;}#sk-container-id-2 label.sk-toggleable__label {cursor: pointer;display: block;width: 100%;margin-bottom: 0;padding: 0.3em;box-sizing: border-box;text-align: center;}#sk-container-id-2 label.sk-toggleable__label-arrow:before {content: \"▸\";float: left;margin-right: 0.25em;color: #696969;}#sk-container-id-2 label.sk-toggleable__label-arrow:hover:before {color: black;}#sk-container-id-2 div.sk-estimator:hover label.sk-toggleable__label-arrow:before {color: black;}#sk-container-id-2 div.sk-toggleable__content {max-height: 0;max-width: 0;overflow: hidden;text-align: left;background-color: #f0f8ff;}#sk-container-id-2 div.sk-toggleable__content pre {margin: 0.2em;color: black;border-radius: 0.25em;background-color: #f0f8ff;}#sk-container-id-2 input.sk-toggleable__control:checked~div.sk-toggleable__content {max-height: 200px;max-width: 100%;overflow: auto;}#sk-container-id-2 input.sk-toggleable__control:checked~label.sk-toggleable__label-arrow:before {content: \"▾\";}#sk-container-id-2 div.sk-estimator input.sk-toggleable__control:checked~label.sk-toggleable__label {background-color: #d4ebff;}#sk-container-id-2 div.sk-label input.sk-toggleable__control:checked~label.sk-toggleable__label {background-color: #d4ebff;}#sk-container-id-2 input.sk-hidden--visually {border: 0;clip: rect(1px 1px 1px 1px);clip: rect(1px, 1px, 1px, 1px);height: 1px;margin: -1px;overflow: hidden;padding: 0;position: absolute;width: 1px;}#sk-container-id-2 div.sk-estimator {font-family: monospace;background-color: #f0f8ff;border: 1px dotted black;border-radius: 0.25em;box-sizing: border-box;margin-bottom: 0.5em;}#sk-container-id-2 div.sk-estimator:hover {background-color: #d4ebff;}#sk-container-id-2 div.sk-parallel-item::after {content: \"\";width: 100%;border-bottom: 1px solid gray;flex-grow: 1;}#sk-container-id-2 div.sk-label:hover label.sk-toggleable__label {background-color: #d4ebff;}#sk-container-id-2 div.sk-serial::before {content: \"\";position: absolute;border-left: 1px solid gray;box-sizing: border-box;top: 0;bottom: 0;left: 50%;z-index: 0;}#sk-container-id-2 div.sk-serial {display: flex;flex-direction: column;align-items: center;background-color: white;padding-right: 0.2em;padding-left: 0.2em;position: relative;}#sk-container-id-2 div.sk-item {position: relative;z-index: 1;}#sk-container-id-2 div.sk-parallel {display: flex;align-items: stretch;justify-content: center;background-color: white;position: relative;}#sk-container-id-2 div.sk-item::before, #sk-container-id-2 div.sk-parallel-item::before {content: \"\";position: absolute;border-left: 1px solid gray;box-sizing: border-box;top: 0;bottom: 0;left: 50%;z-index: -1;}#sk-container-id-2 div.sk-parallel-item {display: flex;flex-direction: column;z-index: 1;position: relative;background-color: white;}#sk-container-id-2 div.sk-parallel-item:first-child::after {align-self: flex-end;width: 50%;}#sk-container-id-2 div.sk-parallel-item:last-child::after {align-self: flex-start;width: 50%;}#sk-container-id-2 div.sk-parallel-item:only-child::after {width: 0;}#sk-container-id-2 div.sk-dashed-wrapped {border: 1px dashed gray;margin: 0 0.4em 0.5em 0.4em;box-sizing: border-box;padding-bottom: 0.4em;background-color: white;}#sk-container-id-2 div.sk-label label {font-family: monospace;font-weight: bold;display: inline-block;line-height: 1.2em;}#sk-container-id-2 div.sk-label-container {text-align: center;}#sk-container-id-2 div.sk-container {/* jupyter's `normalize.less` sets `[hidden] { display: none; }` but bootstrap.min.css set `[hidden] { display: none !important; }` so we also need the `!important` here to be able to override the default hidden behavior on the sphinx rendered scikit-learn.org. See: https://github.com/scikit-learn/scikit-learn/issues/21755 */display: inline-block !important;position: relative;}#sk-container-id-2 div.sk-text-repr-fallback {display: none;}</style><div id=\"sk-container-id-2\" class=\"sk-top-container\"><div class=\"sk-text-repr-fallback\"><pre>Perceptron(random_state=241)</pre><b>In a Jupyter environment, please rerun this cell to show the HTML representation or trust the notebook. <br />On GitHub, the HTML representation is unable to render, please try loading this page with nbviewer.org.</b></div><div class=\"sk-container\" hidden><div class=\"sk-item\"><div class=\"sk-estimator sk-toggleable\"><input class=\"sk-toggleable__control sk-hidden--visually\" id=\"sk-estimator-id-2\" type=\"checkbox\" checked><label for=\"sk-estimator-id-2\" class=\"sk-toggleable__label sk-toggleable__label-arrow\">Perceptron</label><div class=\"sk-toggleable__content\"><pre>Perceptron(random_state=241)</pre></div></div></div></div></div>"
            ]
          },
          "metadata": {},
          "execution_count": 70
        }
      ]
    },
    {
      "cell_type": "code",
      "source": [
        "predict_answers = clf.predict(X_test)"
      ],
      "metadata": {
        "id": "6MYSbspnip5J"
      },
      "execution_count": 71,
      "outputs": []
    },
    {
      "cell_type": "markdown",
      "source": [
        "### 3. Подсчитайте качество (долю правильно классифицированных объектов, accuracy) полученного классификатора на тестовой выборке"
      ],
      "metadata": {
        "id": "HsFYYiAMXofP"
      }
    },
    {
      "cell_type": "code",
      "source": [
        "from sklearn.metrics import accuracy_score"
      ],
      "metadata": {
        "id": "ILoUsUS8kFZu"
      },
      "execution_count": 72,
      "outputs": []
    },
    {
      "cell_type": "code",
      "source": [
        "accuracy = accuracy_score(y_test, predict_answers) # качество на тестовой выборке\n",
        "print(f\"Качество на тестовой выборке: {accuracy}.\")"
      ],
      "metadata": {
        "id": "PR9QMvg6Xt-_",
        "outputId": "a0de2e0a-b92b-436c-e90a-ad7e21a4a5db",
        "colab": {
          "base_uri": "https://localhost:8080/"
        }
      },
      "execution_count": 80,
      "outputs": [
        {
          "output_type": "stream",
          "name": "stdout",
          "text": [
            "Качество на тестовой выборке: 0.655.\n"
          ]
        }
      ]
    },
    {
      "cell_type": "markdown",
      "source": [
        "### 4. Нормализуйте обучающую и тестовую выборку с помощью класса StandardScaler"
      ],
      "metadata": {
        "id": "ruo7aWCsXu_v"
      }
    },
    {
      "cell_type": "code",
      "source": [
        "from sklearn.preprocessing import StandardScaler"
      ],
      "metadata": {
        "id": "nFspuBYbkaI-"
      },
      "execution_count": 74,
      "outputs": []
    },
    {
      "cell_type": "markdown",
      "source": [
        "Нормализуем обучающую и тестовую выборки:"
      ],
      "metadata": {
        "id": "61DXQs0YkqQx"
      }
    },
    {
      "cell_type": "code",
      "source": [
        "scaler = StandardScaler()\n",
        "X_train_scaled = scaler.fit_transform(X_train)\n",
        "X_test_scaled = scaler.transform(X_test)"
      ],
      "metadata": {
        "id": "EhkciXpHXz2_"
      },
      "execution_count": 81,
      "outputs": []
    },
    {
      "cell_type": "markdown",
      "source": [
        "### 5. Обучите персептрон на новых выборках. Найдите долю правильных ответов на тестовой выборке"
      ],
      "metadata": {
        "id": "IIGeHZtjX0i3"
      }
    },
    {
      "cell_type": "code",
      "source": [
        "clf.fit(X_train_scaled, y_train)\n",
        "predict_answers_scaled = clf.predict(X_test_scaled)"
      ],
      "metadata": {
        "id": "83Q7vzUUX5P_"
      },
      "execution_count": 82,
      "outputs": []
    },
    {
      "cell_type": "code",
      "source": [
        "accuracy_after_scale = accuracy_score(y_test, predict_answers_scaled)\n",
        "print(f\"Качество на тестовой выборке: {accuracy_scaled}.\")"
      ],
      "metadata": {
        "id": "nad_f5gOmbk5",
        "outputId": "e905dae6-9749-413e-95cf-c53f06105e52",
        "colab": {
          "base_uri": "https://localhost:8080/"
        }
      },
      "execution_count": 88,
      "outputs": [
        {
          "output_type": "stream",
          "name": "stdout",
          "text": [
            "Качество на тестовой выборке: 0.725.\n"
          ]
        }
      ]
    },
    {
      "cell_type": "markdown",
      "source": [
        "### 6. Найдите разность между качеством на тестовой выборке после нормализации и качеством до нее. Это число и будет ответом на задание"
      ],
      "metadata": {
        "id": "SJXxJceQX563"
      }
    },
    {
      "cell_type": "code",
      "source": [
        "accuracy_difference = round(accuracy_after_scale - accuracy, 3)\n",
        "print(f\"Разность между качество на тестовой выборке после нормализации и до неё: {accuracy_difference}.\")"
      ],
      "metadata": {
        "id": "K1chwtJ6X_2H",
        "outputId": "885c20de-8d78-4327-c487-2f0c1cdbfe5a",
        "colab": {
          "base_uri": "https://localhost:8080/"
        }
      },
      "execution_count": 89,
      "outputs": [
        {
          "output_type": "stream",
          "name": "stdout",
          "text": [
            "Разность между качество на тестовой выборке после нормализации и до неё: 0.07.\n"
          ]
        }
      ]
    }
  ]
}