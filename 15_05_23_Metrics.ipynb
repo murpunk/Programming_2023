{
  "nbformat": 4,
  "nbformat_minor": 0,
  "metadata": {
    "colab": {
      "provenance": [],
      "authorship_tag": "ABX9TyOC1uHUVDd8V2QF4IIPVfWO",
      "include_colab_link": true
    },
    "kernelspec": {
      "name": "python3",
      "display_name": "Python 3"
    },
    "language_info": {
      "name": "python"
    }
  },
  "cells": [
    {
      "cell_type": "markdown",
      "metadata": {
        "id": "view-in-github",
        "colab_type": "text"
      },
      "source": [
        "<a href=\"https://colab.research.google.com/github/murpunk/Programming_2023/blob/main/15_05_23_Metrics.ipynb\" target=\"_parent\"><img src=\"https://colab.research.google.com/assets/colab-badge.svg\" alt=\"Open In Colab\"/></a>"
      ]
    },
    {
      "cell_type": "markdown",
      "source": [
        "#I. Прочитайте и повторите примеры из книги *Андреас Мюллер, Сара Гвидо. Введение в машинное обучение с помощью Python. Руководство для специалистов по работе с данными.* со страниц 295-320.\n"
      ],
      "metadata": {
        "id": "m_4JsvnO-vaD"
      }
    },
    {
      "cell_type": "markdown",
      "source": [
        "Пример: попытка построить модель, предсказывающую, кликнет пользователь на ссылку или нет. Нам известно, что он кликает только в 1% случаев из 100. Выборка получается несбалансированная по объёму примеров."
      ],
      "metadata": {
        "id": "keoOzr1kDSTY"
      }
    },
    {
      "cell_type": "code",
      "execution_count": 10,
      "metadata": {
        "id": "DTxq5h124GJP"
      },
      "outputs": [],
      "source": [
        "from sklearn.datasets import load_digits\n",
        "from sklearn.model_selection import train_test_split\n",
        "import numpy as np"
      ]
    },
    {
      "cell_type": "code",
      "source": [
        "digits = load_digits()"
      ],
      "metadata": {
        "id": "pHPj8Em4DqZi"
      },
      "execution_count": 2,
      "outputs": []
    },
    {
      "cell_type": "code",
      "source": [
        "digits"
      ],
      "metadata": {
        "id": "354cPtN5DyEs"
      },
      "execution_count": null,
      "outputs": []
    },
    {
      "cell_type": "code",
      "source": [
        "y = digits.target == 9"
      ],
      "metadata": {
        "id": "0kn_qI1jD4Ye"
      },
      "execution_count": 4,
      "outputs": []
    },
    {
      "cell_type": "code",
      "source": [
        "X_train, X_test, y_train, y_test = train_test_split(digits.data, y, random_state = 0)"
      ],
      "metadata": {
        "id": "YCROEuglEAP3"
      },
      "execution_count": 9,
      "outputs": []
    },
    {
      "cell_type": "code",
      "source": [
        "from sklearn.dummy import DummyClassifier\n",
        "dummy_majority = DummyClassifier(strategy = \"most_frequent\").fit(X_train, y_train)\n",
        "pred_most_frequent = dummy_majority.predict(X_test)\n",
        "print(f\"Уникальные спрогнозированные метки: {np.unique(pred_most_frequent)}\")\n",
        "print(f\"Правильность на тестовом наборе: {round(dummy_majority.score(X_test, y_test), 2)}\")"
      ],
      "metadata": {
        "colab": {
          "base_uri": "https://localhost:8080/"
        },
        "id": "yqTinbRBETP9",
        "outputId": "f01abec7-572f-4c66-b897-ec6f6b81371d"
      },
      "execution_count": 12,
      "outputs": [
        {
          "output_type": "stream",
          "name": "stdout",
          "text": [
            "Уникальные спрогнозированные метки: [False]\n",
            "Правильность на тестовом наборе: 0.9\n"
          ]
        }
      ]
    },
    {
      "cell_type": "code",
      "source": [
        "from sklearn.tree import DecisionTreeClassifier\n",
        "tree = DecisionTreeClassifier(max_depth=2).fit(X_train, y_train)\n",
        "pred_tree = tree.predict(X_test)\n",
        "print(f\"Правильность на тестовом наборе: {round(tree.score(X_test, y_test), 2)}\")"
      ],
      "metadata": {
        "colab": {
          "base_uri": "https://localhost:8080/"
        },
        "id": "rsNxlgayHSwc",
        "outputId": "3d4a7019-23c1-4890-fe35-f2360a3f4693"
      },
      "execution_count": 13,
      "outputs": [
        {
          "output_type": "stream",
          "name": "stdout",
          "text": [
            "Правильность на тестовом наборе: 0.92\n"
          ]
        }
      ]
    },
    {
      "cell_type": "code",
      "source": [
        "from sklearn.linear_model import LogisticRegression\n",
        "dummy = DummyClassifier().fit(X_train, y_train)\n",
        "pred_dummy = dummy.predict(X_test)\n",
        "print(f\"Правильность dummy: {round(dummy.score(X_test, y_test), 2)}\")\n",
        "logreg = LogisticRegression(C=0.1).fit(X_train, y_train)\n",
        "pred_logreg = logreg.predict(X_test)\n",
        "print(f\"Правильность logreg: {round(logreg.score(X_test, y_test), 2)}\")"
      ],
      "metadata": {
        "colab": {
          "base_uri": "https://localhost:8080/"
        },
        "id": "a-CiJCCvH0Jm",
        "outputId": "e15455da-0403-46e2-a3b2-656d16d4f5ed"
      },
      "execution_count": 17,
      "outputs": [
        {
          "output_type": "stream",
          "name": "stdout",
          "text": [
            "Правильность dummy: 0.9\n",
            "Правильность logreg: 0.98\n"
          ]
        },
        {
          "output_type": "stream",
          "name": "stderr",
          "text": [
            "/usr/local/lib/python3.10/dist-packages/sklearn/linear_model/_logistic.py:458: ConvergenceWarning: lbfgs failed to converge (status=1):\n",
            "STOP: TOTAL NO. of ITERATIONS REACHED LIMIT.\n",
            "\n",
            "Increase the number of iterations (max_iter) or scale the data as shown in:\n",
            "    https://scikit-learn.org/stable/modules/preprocessing.html\n",
            "Please also refer to the documentation for alternative solver options:\n",
            "    https://scikit-learn.org/stable/modules/linear_model.html#logistic-regression\n",
            "  n_iter_i = _check_optimize_result(\n"
          ]
        }
      ]
    },
    {
      "cell_type": "code",
      "source": [
        "from sklearn.metrics import confusion_matrix\n",
        "confusion = confusion_matrix(y_test, pred_logred)\n",
        "print(f\"Confusion matrix: \\n{confusion}\")"
      ],
      "metadata": {
        "colab": {
          "base_uri": "https://localhost:8080/"
        },
        "id": "rzCagOQRI9r_",
        "outputId": "620fe92f-4ab0-468d-c036-567a1e921e3f"
      },
      "execution_count": 15,
      "outputs": [
        {
          "output_type": "stream",
          "name": "stdout",
          "text": [
            "Confusion matrix: \n",
            "[[402   1]\n",
            " [  6  41]]\n"
          ]
        }
      ]
    },
    {
      "cell_type": "markdown",
      "source": [
        "402 -- правильно отнесённые к отрицательным (TN)\n",
        "6 -- положительные, которые были неверно отнесены к отрицательным (FN)\n",
        "41 -- правильно отнесённые к положительным (TP)\n",
        "1 -- отрицательные, неверно отнесённые  положительным (FP)"
      ],
      "metadata": {
        "id": "nXsF-W3WKINn"
      }
    },
    {
      "cell_type": "code",
      "source": [
        "print(\"Наиболее часто встречающийся класс:\")\n",
        "print(confusion_matrix(y_test, pred_most_frequent))\n",
        "print(\"\\nDummy-модель:\")\n",
        "print(confusion_matrix(y_test, pred_dummy))\n",
        "print(\"\\nДерево решений:\")\n",
        "print(confusion_matrix(y_test, pred_tree))\n",
        "print(\"\\nЛогистическая регрессия:\")\n",
        "print(confusion_matrix(y_test, pred_logreg))"
      ],
      "metadata": {
        "colab": {
          "base_uri": "https://localhost:8080/"
        },
        "id": "KAu4IihjKPdv",
        "outputId": "667daa6e-b324-40d7-8b6a-fe2af1c40dce"
      },
      "execution_count": 18,
      "outputs": [
        {
          "output_type": "stream",
          "name": "stdout",
          "text": [
            "Наиболее часто встречающийся класс:\n",
            "[[403   0]\n",
            " [ 47   0]]\n",
            "\n",
            "Dummy-модель:\n",
            "[[403   0]\n",
            " [ 47   0]]\n",
            "\n",
            "Дерево решений:\n",
            "[[390  13]\n",
            " [ 24  23]]\n",
            "\n",
            "Логистическая регрессия:\n",
            "[[402   1]\n",
            " [  6  41]]\n"
          ]
        }
      ]
    },
    {
      "cell_type": "markdown",
      "source": [
        "## Метрики"
      ],
      "metadata": {
        "id": "xIesCjAsNkoQ"
      }
    },
    {
      "cell_type": "markdown",
      "source": [
        "**Правильность**: $\\frac{TP + TN}{TP + TN + FP + FN}$\n",
        "\n",
        "\n",
        "То есть количество верно классифицированных примеров на общее количество примеров."
      ],
      "metadata": {
        "id": "x0S3pPM3NntW"
      }
    },
    {
      "cell_type": "markdown",
      "source": [
        "**Точность** (precision): $\\frac{TP}{TP + FP}$\n",
        "\n",
        "\n",
        "Сколько из предсказанных положительных примеров оказались действительно положительными. Точность важна, когда необходимо снизить количество ложноположительных примеров.\n",
        "\n",
        "\n",
        "Эта метрика ещё называется как **прогностическая ценность положительного результата**: PPV."
      ],
      "metadata": {
        "id": "u7zQ1eNSQrbM"
      }
    },
    {
      "cell_type": "markdown",
      "source": [
        "**Полнота** (recall): $\\frac{TP}{TP + FN}$\n",
        "\n",
        "Полнота показывает, сколько от числа фактических положительных примеров было предсказано как полодительный класс.\n",
        "\n",
        "Метрика полноты важна, если нужно сократить количество ложноотрицательных примеров."
      ],
      "metadata": {
        "id": "u2Be6MRGRcoN"
      }
    },
    {
      "cell_type": "code",
      "source": [],
      "metadata": {
        "id": "HZPA2YyIStoa"
      },
      "execution_count": null,
      "outputs": []
    }
  ]
}