{
  "nbformat": 4,
  "nbformat_minor": 0,
  "metadata": {
    "colab": {
      "provenance": [],
      "authorship_tag": "ABX9TyPMRPJfLDqN1LJNx3Hc5J2p",
      "include_colab_link": true
    },
    "kernelspec": {
      "name": "python3",
      "display_name": "Python 3"
    },
    "language_info": {
      "name": "python"
    }
  },
  "cells": [
    {
      "cell_type": "markdown",
      "metadata": {
        "id": "view-in-github",
        "colab_type": "text"
      },
      "source": [
        "<a href=\"https://colab.research.google.com/github/murpunk/Programming_2023/blob/main/%D0%9F%D0%B0%D0%BD%D0%BA%D0%BE%D0%B2%D0%B0_4_NER_Natasha_Spacy.ipynb\" target=\"_parent\"><img src=\"https://colab.research.google.com/assets/colab-badge.svg\" alt=\"Open In Colab\"/></a>"
      ]
    },
    {
      "cell_type": "markdown",
      "source": [
        "## Домашнее задание\n",
        "\n",
        "1. Выбрать 2 небольших текста для анализа (до 10000 знаков) на английском и русском языках.\n",
        "2. Сделать их перевод с помощью любимого машинного переводчика\n",
        "3. Для каждого текста на русском языке извлечь именованные сущности (Natasha) и построить их частотный словарь. Упрощенно сущности считаются одинаковыми, если у них совпадают first, last и middle\n",
        "4. Сделать то же самое для текстов на английском (Spacy). Там можно брать\n",
        "entity.text в качестве текста сущности\n",
        "5. Сравните результаты. Есть ли отличия? Если да, что могло повляить на их появление?"
      ],
      "metadata": {
        "id": "Vszmv9CQq8ec"
      }
    },
    {
      "cell_type": "markdown",
      "source": [
        "Установка библиотек"
      ],
      "metadata": {
        "id": "yuLWZfV_rONc"
      }
    },
    {
      "cell_type": "code",
      "execution_count": null,
      "metadata": {
        "id": "2OVjEpmxq7RN"
      },
      "outputs": [],
      "source": [
        "!pip install natasha"
      ]
    },
    {
      "cell_type": "code",
      "source": [
        "!pip install spacy"
      ],
      "metadata": {
        "id": "-hdspis_rgDS"
      },
      "execution_count": null,
      "outputs": []
    },
    {
      "cell_type": "markdown",
      "source": [
        "Загружаю тексты"
      ],
      "metadata": {
        "id": "eUL-YtE5rgiG"
      }
    },
    {
      "cell_type": "code",
      "source": [
        "from google.colab import drive\n",
        "drive.mount('/content/drive')"
      ],
      "metadata": {
        "colab": {
          "base_uri": "https://localhost:8080/"
        },
        "id": "_i1e_0gHrmGA",
        "outputId": "6221187e-d04a-4d9c-f6d2-50d47d0b89dd"
      },
      "execution_count": 7,
      "outputs": [
        {
          "output_type": "stream",
          "name": "stdout",
          "text": [
            "Mounted at /content/drive\n"
          ]
        }
      ]
    },
    {
      "cell_type": "code",
      "source": [],
      "metadata": {
        "id": "GdFkFb-2rnED"
      },
      "execution_count": null,
      "outputs": []
    },
    {
      "cell_type": "markdown",
      "source": [
        "Работа с Natasha"
      ],
      "metadata": {
        "id": "6-U4iOTProxD"
      }
    },
    {
      "cell_type": "code",
      "source": [
        "from natasha import (\n",
        "    Segmenter, MorphVocab,\n",
        "    NewsEmbedding, NewsMorphTagger, NewsSyntaxParser, NewsNERTagger,\n",
        "    NamesExtractor, DatesExtractor, MoneyExtractor, AddrExtractor,\n",
        "    PER, Doc\n",
        ")\n",
        "\n",
        "segmenter = Segmenter()\n",
        "morph_vocab = MorphVocab()\n",
        "\n",
        "emb = NewsEmbedding()\n",
        "morph_tagger = NewsMorphTagger(emb)\n",
        "syntax_parser = NewsSyntaxParser(emb)\n",
        "ner_tagger = NewsNERTagger(emb)\n",
        "\n",
        "names_extractor = NamesExtractor(morph_vocab)\n",
        "dates_extractor = DatesExtractor(morph_vocab)\n",
        "money_extractor = MoneyExtractor(morph_vocab)\n",
        "addr_extractor = AddrExtractor(morph_vocab)"
      ],
      "metadata": {
        "id": "bgyZmlFZrqVT"
      },
      "execution_count": null,
      "outputs": []
    },
    {
      "cell_type": "code",
      "source": [
        "list(names_extractor(text))"
      ],
      "metadata": {
        "id": "Bj0pPl55sHiJ"
      },
      "execution_count": null,
      "outputs": []
    },
    {
      "cell_type": "code",
      "source": [
        "def extract_names(text):\n",
        "    \"\"\"Извлекает имена из текста\"\"\"\n",
        "    doc = Doc(text)\n",
        "    doc.segment(segmenter)  # token, sentence segmentation\n",
        "    doc.tag_morph(morph_tagger)   # lemmatization\n",
        "    # doc.parse_syntax(syntax_parser)\n",
        "    doc.tag_ner(ner_tagger)  # Ner extractor\n",
        "    for span in doc.spans:\n",
        "        if span.type == PER:\n",
        "            span.normalize(morph_vocab)  # приводим к начальной форме\n",
        "            span.extract_fact(names_extractor)  # extract names\n",
        "    names = []\n",
        "    for span in doc.spans:\n",
        "        if span.fact:\n",
        "            pers_info = {'normal': span.normal,\n",
        "                         'start': span.start,\n",
        "                         'end': span.stop,\n",
        "                         'tokens': [{'start': _.start, 'end': _.stop} for _ in span.tokens],\n",
        "                         'text': span.text\n",
        "                         }\n",
        "            pers_info.update(span.fact.as_dict)\n",
        "            names.append(pers_info)\n",
        "    return names"
      ],
      "metadata": {
        "id": "nxRAWiHrsOu6"
      },
      "execution_count": null,
      "outputs": []
    },
    {
      "cell_type": "code",
      "source": [
        "list(dates_extractor(text))"
      ],
      "metadata": {
        "id": "OPcPuYz8sYY1"
      },
      "execution_count": null,
      "outputs": []
    },
    {
      "cell_type": "code",
      "source": [
        "list(money_extractor(text))"
      ],
      "metadata": {
        "id": "VB7FcIqMsaeN"
      },
      "execution_count": null,
      "outputs": []
    },
    {
      "cell_type": "code",
      "source": [
        "list(addr_extractor(text))"
      ],
      "metadata": {
        "id": "_hAaJhOzsbMi"
      },
      "execution_count": null,
      "outputs": []
    },
    {
      "cell_type": "markdown",
      "source": [
        "Работа с spacy"
      ],
      "metadata": {
        "id": "zUc2cgXXso9N"
      }
    },
    {
      "cell_type": "code",
      "source": [
        "!python -m spacy download en_core_web_md # загрузка модели"
      ],
      "metadata": {
        "id": "WOglgDQ3sqa3"
      },
      "execution_count": null,
      "outputs": []
    },
    {
      "cell_type": "code",
      "source": [
        "import spacy           # подключение модели\n",
        "import en_core_web_md"
      ],
      "metadata": {
        "id": "rz0p2YKrs1Y7"
      },
      "execution_count": 5,
      "outputs": []
    },
    {
      "cell_type": "code",
      "source": [
        "nlp = en_core_web_md.load() #Создаем pipeline"
      ],
      "metadata": {
        "id": "-q2z9wOatSCJ"
      },
      "execution_count": 6,
      "outputs": []
    }
  ]
}