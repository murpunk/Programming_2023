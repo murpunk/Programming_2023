{
  "nbformat": 4,
  "nbformat_minor": 0,
  "metadata": {
    "colab": {
      "provenance": [],
      "authorship_tag": "ABX9TyNDYnMLB1RG2NEOg0lolpw1",
      "include_colab_link": true
    },
    "kernelspec": {
      "name": "python3",
      "display_name": "Python 3"
    },
    "language_info": {
      "name": "python"
    }
  },
  "cells": [
    {
      "cell_type": "markdown",
      "metadata": {
        "id": "view-in-github",
        "colab_type": "text"
      },
      "source": [
        "<a href=\"https://colab.research.google.com/github/murpunk/Programming_2023/blob/main/%D0%9F%D0%B0%D0%BD%D0%BA%D0%BE%D0%B2%D0%B0_4_NER_Natasha_Spacy.ipynb\" target=\"_parent\"><img src=\"https://colab.research.google.com/assets/colab-badge.svg\" alt=\"Open In Colab\"/></a>"
      ]
    },
    {
      "cell_type": "markdown",
      "source": [
        "## Домашнее задание\n",
        "\n",
        "1. Выбрать 2 небольших текста для анализа (до 10000 знаков) на английском и русском языках.\n",
        "2. Сделать их перевод с помощью любимого машинного переводчика\n",
        "3. Для каждого текста на русском языке извлечь именованные сущности (Natasha) и построить их частотный словарь. Упрощенно сущности считаются одинаковыми, если у них совпадают first, last и middle\n",
        "4. Сделать то же самое для текстов на английском (Spacy). Там можно брать\n",
        "entity.text в качестве текста сущности\n",
        "5. Сравните результаты. Есть ли отличия? Если да, что могло повляить на их появление?"
      ],
      "metadata": {
        "id": "Vszmv9CQq8ec"
      }
    },
    {
      "cell_type": "markdown",
      "source": [
        "### 1. Установка библиотек и текстов"
      ],
      "metadata": {
        "id": "yuLWZfV_rONc"
      }
    },
    {
      "cell_type": "code",
      "execution_count": null,
      "metadata": {
        "id": "2OVjEpmxq7RN"
      },
      "outputs": [],
      "source": [
        "!pip install natasha"
      ]
    },
    {
      "cell_type": "code",
      "source": [
        "!pip install spacy"
      ],
      "metadata": {
        "id": "-hdspis_rgDS"
      },
      "execution_count": null,
      "outputs": []
    },
    {
      "cell_type": "markdown",
      "source": [
        "Загружаю тексты"
      ],
      "metadata": {
        "id": "eUL-YtE5rgiG"
      }
    },
    {
      "cell_type": "code",
      "source": [
        "from google.colab import drive\n",
        "drive.mount('/content/drive')"
      ],
      "metadata": {
        "colab": {
          "base_uri": "https://localhost:8080/"
        },
        "id": "_i1e_0gHrmGA",
        "outputId": "6c55d82c-c56f-43be-caec-a7e5679828bc"
      },
      "execution_count": null,
      "outputs": [
        {
          "output_type": "stream",
          "name": "stdout",
          "text": [
            "Drive already mounted at /content/drive; to attempt to forcibly remount, call drive.mount(\"/content/drive\", force_remount=True).\n"
          ]
        }
      ]
    },
    {
      "cell_type": "code",
      "source": [
        "import os"
      ],
      "metadata": {
        "id": "fUHGMYUOz4VE"
      },
      "execution_count": null,
      "outputs": []
    },
    {
      "cell_type": "markdown",
      "source": [
        "В качестве одной из пары текстов — rus_orig.txt и rus_transl.txt — были выбраны рассказ Марии Коленовой \"Дом\", финалистки конкурса \"Класс\", одним из условий этого конкурса были тексты объёмом не более 10 000 символов, и перевод этого рассказа, выполненный в Яндекс.Переводчиком.\n",
        "В качестве другой пары текстов — eng_orig.txt и eng_transl.txt — были выбраны короткий рассказ про вампира и молодую пару и перевод этого рассказа на русский язык, выполненный в Яндекс.Переводчиком."
      ],
      "metadata": {
        "id": "fpn6neOjyKls"
      }
    },
    {
      "cell_type": "code",
      "source": [
        "folder_path = \"drive/My Drive/NER/\"\n",
        "\n",
        "files = os.listdir(folder_path)\n",
        "\n",
        "stories_list = []\n",
        "\n",
        "for file_name in files:\n",
        "    file_path = os.path.join(folder_path, file_name)\n",
        "\n",
        "    if os.path.isfile(file_path):\n",
        "        with open(file_path, \"r\", encoding=\"utf-8\") as file:\n",
        "            text = file.read()\n",
        "            len_text = len(text)\n",
        "            stories_list.append(text)\n",
        "\n",
        "            print(f\"{file_name}, количество символов: {len_text}\")"
      ],
      "metadata": {
        "colab": {
          "base_uri": "https://localhost:8080/"
        },
        "id": "glRed2bKz-k8",
        "outputId": "b959252a-178f-4134-8855-08e350f68618"
      },
      "execution_count": null,
      "outputs": [
        {
          "output_type": "stream",
          "name": "stdout",
          "text": [
            "rus_orig.txt, количество символов: 5287\n",
            "rus_transl.txt, количество символов: 6067\n",
            "eng_orig.txt, количество символов: 7265\n",
            "eng_transl.txt, количество символов: 7427\n"
          ]
        }
      ]
    },
    {
      "cell_type": "code",
      "source": [
        "stories_list[0]"
      ],
      "metadata": {
        "id": "Q3kj4PvC8z7b"
      },
      "execution_count": null,
      "outputs": []
    },
    {
      "cell_type": "markdown",
      "source": [
        "### 2. Работа с Natasha"
      ],
      "metadata": {
        "id": "6-U4iOTProxD"
      }
    },
    {
      "cell_type": "code",
      "source": [
        "from natasha import (\n",
        "    Segmenter, MorphVocab,\n",
        "    NewsEmbedding, NewsMorphTagger, NewsSyntaxParser, NewsNERTagger,\n",
        "    NamesExtractor, DatesExtractor, MoneyExtractor, AddrExtractor,\n",
        "    PER, Doc\n",
        ")\n",
        "\n",
        "segmenter = Segmenter()\n",
        "morph_vocab = MorphVocab()\n",
        "\n",
        "emb = NewsEmbedding()\n",
        "morph_tagger = NewsMorphTagger(emb)\n",
        "syntax_parser = NewsSyntaxParser(emb)\n",
        "ner_tagger = NewsNERTagger(emb)\n",
        "\n",
        "names_extractor = NamesExtractor(morph_vocab)\n",
        "dates_extractor = DatesExtractor(morph_vocab)\n",
        "money_extractor = MoneyExtractor(morph_vocab)\n",
        "addr_extractor = AddrExtractor(morph_vocab)"
      ],
      "metadata": {
        "id": "bgyZmlFZrqVT"
      },
      "execution_count": null,
      "outputs": []
    },
    {
      "cell_type": "code",
      "source": [
        "def extract_names(text):\n",
        "    \"\"\"Извлекает имена из текста\"\"\"\n",
        "    doc = Doc(text)\n",
        "    doc.segment(segmenter)  # token, sentence segmentation\n",
        "    doc.tag_morph(morph_tagger)   # lemmatization\n",
        "    # doc.parse_syntax(syntax_parser)\n",
        "    doc.tag_ner(ner_tagger)  # Ner extractor\n",
        "    for span in doc.spans:\n",
        "        if span.type == PER:\n",
        "            span.normalize(morph_vocab)  # приводим к начальной форме\n",
        "            span.extract_fact(names_extractor)  # extract names\n",
        "    names = []\n",
        "    for span in doc.spans:\n",
        "        if span.fact:\n",
        "            pers_info = {'normal': span.normal,\n",
        "                         # 'start': span.start,\n",
        "                         # 'end': span.stop,\n",
        "                         'tokens': [{'start': _.start, 'end': _.stop} for _ in span.tokens],\n",
        "                         'text': span.text\n",
        "                         }\n",
        "            pers_info.update(span.fact.as_dict)\n",
        "            names.append(pers_info)\n",
        "    return names"
      ],
      "metadata": {
        "id": "nxRAWiHrsOu6"
      },
      "execution_count": null,
      "outputs": []
    },
    {
      "cell_type": "code",
      "source": [
        "def extract_address(text):\n",
        "    \"\"\"Извлекает адреса из текста\"\"\"\n",
        "    doc = Doc(text)\n",
        "    doc.segment(segmenter)  # token, sentence segmentation\n",
        "    doc.tag_morph(morph_tagger)   # lemmatization\n",
        "    # doc.parse_syntax(syntax_parser)\n",
        "    doc.tag_ner(ner_tagger)  # Ner extractor\n",
        "    for span in doc.spans:\n",
        "#        if span.type == AddrExtractor:\n",
        "         span.normalize(morph_vocab)  # приводим к начальной форме\n",
        "         span.extract_fact(addr_extractor)  # извлекает адреса\n",
        "    address = []\n",
        "    for span in doc.spans:\n",
        "        if span.fact:\n",
        "            pers_info = {'normal': span.normal,\n",
        "                         # 'start': span.start,\n",
        "                         # 'end': span.stop,\n",
        "                         'tokens': [{'start': _.start, 'end': _.stop} for _ in span.tokens],\n",
        "                         'text': span.text\n",
        "                         }\n",
        "            pers_info.update(span.fact.as_dict)\n",
        "            address.append(pers_info)\n",
        "    return address"
      ],
      "metadata": {
        "id": "8AskAegvHe84"
      },
      "execution_count": null,
      "outputs": []
    },
    {
      "cell_type": "code",
      "source": [
        "list(names_extractor(stories_list[0]))"
      ],
      "metadata": {
        "id": "Bj0pPl55sHiJ"
      },
      "execution_count": null,
      "outputs": []
    },
    {
      "cell_type": "code",
      "source": [
        "extract_names(stories_list[0]) # список имён собственных в русском оригинальном тексте"
      ],
      "metadata": {
        "id": "b-aZkcN39IWX"
      },
      "execution_count": null,
      "outputs": []
    },
    {
      "cell_type": "code",
      "source": [
        "extract_names(stories_list[3]) # список имён собственных в переводе на русский язык"
      ],
      "metadata": {
        "id": "st9d-AZo98Hq"
      },
      "execution_count": null,
      "outputs": []
    },
    {
      "cell_type": "code",
      "source": [
        "# list(dates_extractor(text))"
      ],
      "metadata": {
        "id": "OPcPuYz8sYY1"
      },
      "execution_count": null,
      "outputs": []
    },
    {
      "cell_type": "code",
      "source": [
        "# list(money_extractor(text))"
      ],
      "metadata": {
        "id": "VB7FcIqMsaeN"
      },
      "execution_count": null,
      "outputs": []
    },
    {
      "cell_type": "code",
      "source": [
        "list(addr_extractor(stories_list[0])) # список географических наименований в русском оригинальном тексте"
      ],
      "metadata": {
        "id": "_hAaJhOzsbMi"
      },
      "execution_count": null,
      "outputs": []
    },
    {
      "cell_type": "code",
      "source": [
        "list(addr_extractor(stories_list[3])) # список географических наименований в переводе на русский"
      ],
      "metadata": {
        "colab": {
          "base_uri": "https://localhost:8080/"
        },
        "id": "9XLa1AJc-dLj",
        "outputId": "1a4e76b4-3abf-4394-8b0c-e68dec875e94"
      },
      "execution_count": null,
      "outputs": [
        {
          "output_type": "execute_result",
          "data": {
            "text/plain": [
              "[]"
            ]
          },
          "metadata": {},
          "execution_count": 31
        }
      ]
    },
    {
      "cell_type": "markdown",
      "source": [
        "Составление словаря частотности имён в русских текстах: оригинальном и в переводе."
      ],
      "metadata": {
        "id": "7q-uWbvX-6ZX"
      }
    },
    {
      "cell_type": "code",
      "source": [
        "rus_orig_dict = {}\n",
        "for name in extract_names(stories_list[0]):\n",
        "    if name[\"normal\"] in rus_orig_dict:\n",
        "        rus_orig_dict[name[\"normal\"]] += 1\n",
        "    else:\n",
        "        rus_orig_dict[name[\"normal\"]] = 1\n",
        "rus_orig_dict"
      ],
      "metadata": {
        "colab": {
          "base_uri": "https://localhost:8080/"
        },
        "id": "pOfgwUIi-5aE",
        "outputId": "a79b1a7c-2a9c-4af5-ee6a-69237d0af2c7"
      },
      "execution_count": null,
      "outputs": [
        {
          "output_type": "execute_result",
          "data": {
            "text/plain": [
              "{'Питер': 1}"
            ]
          },
          "metadata": {},
          "execution_count": 40
        }
      ]
    },
    {
      "cell_type": "code",
      "source": [
        "eng_transl_dict = {}\n",
        "for name in extract_names(stories_list[3]):\n",
        "    if name[\"normal\"] in eng_transl_dict:\n",
        "        eng_transl_dict[name[\"normal\"]] += 1\n",
        "    else:\n",
        "        eng_transl_dict[name[\"normal\"]] = 1\n",
        "eng_transl_dict"
      ],
      "metadata": {
        "colab": {
          "base_uri": "https://localhost:8080/"
        },
        "id": "VurJt28rAAwK",
        "outputId": "296c67c7-df0a-4e30-fb7f-26a5d565e6bf"
      },
      "execution_count": null,
      "outputs": [
        {
          "output_type": "execute_result",
          "data": {
            "text/plain": [
              "{'Дэвид': 26, 'Эмма': 17, 'Эмму': 1}"
            ]
          },
          "metadata": {},
          "execution_count": 41
        }
      ]
    },
    {
      "cell_type": "markdown",
      "source": [
        "Составление словаря частотности географических локаций в русских текстах: оригинальном и в переводе."
      ],
      "metadata": {
        "id": "kmS_vKwiGex3"
      }
    },
    {
      "cell_type": "code",
      "source": [
        "rus_orig_addr_dict = {}\n",
        "for address in extract_address(stories_list[0]):\n",
        "    if address[\"normal\"] in rus_orig_addr_dict:\n",
        "        rus_orig_addr_dict[address[\"normal\"]] += 1\n",
        "    else:\n",
        "        rus_orig_addr_dict[address[\"normal\"]] = 1\n",
        "rus_orig_addr_dict"
      ],
      "metadata": {
        "colab": {
          "base_uri": "https://localhost:8080/"
        },
        "id": "O2-X4sBJGtQs",
        "outputId": "854fee31-5e6f-4b82-aa54-f6914a6d6a03"
      },
      "execution_count": null,
      "outputs": [
        {
          "output_type": "execute_result",
          "data": {
            "text/plain": [
              "{'Москва': 2, 'Череповец': 2, 'Магнитогорск': 2}"
            ]
          },
          "metadata": {},
          "execution_count": 58
        }
      ]
    },
    {
      "cell_type": "code",
      "source": [
        "eng_trasl_addr_dict = {}\n",
        "for address in extract_address(stories_list[3]):\n",
        "    if name[\"normal\"] in eng_trasl_addr_dict:\n",
        "        eng_trasl_addr_dict[address[\"normal\"]] += 1\n",
        "    else:\n",
        "        eng_trasl_addr_dict[address[\"normal\"]] = 1\n",
        "eng_trasl_addr_dict"
      ],
      "metadata": {
        "colab": {
          "base_uri": "https://localhost:8080/"
        },
        "id": "Y-DQtUsDG9RR",
        "outputId": "8fd38ae7-453e-4e82-f435-96fab57630ad"
      },
      "execution_count": null,
      "outputs": [
        {
          "output_type": "execute_result",
          "data": {
            "text/plain": [
              "{}"
            ]
          },
          "metadata": {},
          "execution_count": 60
        }
      ]
    },
    {
      "cell_type": "markdown",
      "source": [
        "Объединяю словари имён и адресов."
      ],
      "metadata": {
        "id": "m6Xi3AFfKmbr"
      }
    },
    {
      "cell_type": "code",
      "source": [
        "rus_orig_dict.update(rus_orig_addr_dict)\n",
        "print(rus_orig_dict)"
      ],
      "metadata": {
        "colab": {
          "base_uri": "https://localhost:8080/"
        },
        "id": "MDaHLtzoKrIJ",
        "outputId": "9ff36d3a-0109-4805-8782-30121c836867"
      },
      "execution_count": null,
      "outputs": [
        {
          "output_type": "stream",
          "name": "stdout",
          "text": [
            "{'Питер': 1, 'Москва': 2, 'Череповец': 2, 'Магнитогорск': 2}\n"
          ]
        }
      ]
    },
    {
      "cell_type": "code",
      "source": [
        "eng_transl_dict.update(eng_trasl_addr_dict)\n",
        "print(eng_transl_dict)"
      ],
      "metadata": {
        "colab": {
          "base_uri": "https://localhost:8080/"
        },
        "id": "5_j2AojTK41J",
        "outputId": "701bb502-dcdd-4163-bd28-f0d2a4483a99"
      },
      "execution_count": null,
      "outputs": [
        {
          "output_type": "stream",
          "name": "stdout",
          "text": [
            "{'Дэвид': 26, 'Эмма': 17, 'Эмму': 1}\n"
          ]
        }
      ]
    },
    {
      "cell_type": "markdown",
      "source": [
        "### 3. Работа со spacy"
      ],
      "metadata": {
        "id": "zUc2cgXXso9N"
      }
    },
    {
      "cell_type": "code",
      "source": [
        "!python -m spacy download en_core_web_md # загрузка модели"
      ],
      "metadata": {
        "id": "WOglgDQ3sqa3"
      },
      "execution_count": null,
      "outputs": []
    },
    {
      "cell_type": "code",
      "source": [
        "import spacy           # подключение модели\n",
        "import en_core_web_md"
      ],
      "metadata": {
        "id": "rz0p2YKrs1Y7"
      },
      "execution_count": null,
      "outputs": []
    },
    {
      "cell_type": "code",
      "source": [
        "nlp = en_core_web_md.load()"
      ],
      "metadata": {
        "id": "-q2z9wOatSCJ"
      },
      "execution_count": null,
      "outputs": []
    },
    {
      "cell_type": "code",
      "source": [
        "rus_transl = nlp(stories_list[1])\n",
        "for entity in rus_transl.ents:\n",
        "        print(\"Entity: \", entity.text)\n",
        "        print(\"Entity Type:\" + entity.label_ + '|' + spacy.explain(entity.label_))\n",
        "        print(\"--\")"
      ],
      "metadata": {
        "id": "-PbT_vHWBQfU"
      },
      "execution_count": null,
      "outputs": []
    },
    {
      "cell_type": "code",
      "source": [
        "eng_orig = nlp(stories_list[2])\n",
        "for entity in eng_orig.ents:\n",
        "        print(\"Entity: \", entity.text)\n",
        "        print(\"Entity Type:\" + entity.label_ + '|' + spacy.explain(entity.label_))\n",
        "        print(\"--\")"
      ],
      "metadata": {
        "id": "51Lqg-TABlOe"
      },
      "execution_count": null,
      "outputs": []
    },
    {
      "cell_type": "markdown",
      "source": [
        "Составляю частотный словарь для перевода на английский и для оригинального текста на английском."
      ],
      "metadata": {
        "id": "o2j0fJlBBlpz"
      }
    },
    {
      "cell_type": "code",
      "source": [
        "rus_transl_dict = {}\n",
        "for name in rus_transl.ents:\n",
        "    if name.text in rus_transl_dict:\n",
        "        rus_transl_dict[name.text] += 1\n",
        "    else:\n",
        "      rus_transl_dict[name.text] = 1\n",
        "\n",
        "rus_transl_dict"
      ],
      "metadata": {
        "colab": {
          "base_uri": "https://localhost:8080/"
        },
        "id": "CivNGznABmPY",
        "outputId": "f9f7d4ec-bf23-47cd-9f8f-bd4d509c59c5"
      },
      "execution_count": null,
      "outputs": [
        {
          "output_type": "execute_result",
          "data": {
            "text/plain": [
              "{'Moscow': 2,\n",
              " 'Cherepovets': 2,\n",
              " 'an hour': 1,\n",
              " 'Magnitogorsk': 2,\n",
              " 'the Magnetic Mountain': 1,\n",
              " 'Southern Urals': 1,\n",
              " 'Two days': 1,\n",
              " 'two thousand kilometers': 1,\n",
              " 'ten years old': 1,\n",
              " 'First': 1,\n",
              " 'a hundred': 1,\n",
              " 'Ninety-nine': 1,\n",
              " 'ninety-seven': 1,\n",
              " 'Europe': 1,\n",
              " 'Asia': 1,\n",
              " 'the Ural Ridge': 1,\n",
              " 'midday': 1,\n",
              " 'North': 2,\n",
              " 'Urals': 1,\n",
              " 'jasper': 1,\n",
              " 'GEC': 1,\n",
              " 'TPP': 1,\n",
              " 'NPP': 1,\n",
              " 'Bashkiria': 1,\n",
              " 'fifty-five': 1,\n",
              " 'fifty-four': 1,\n",
              " 'fifty-three': 1,\n",
              " 'Grandma': 2,\n",
              " 'Edelweiss': 1,\n",
              " 'the Copper Mountain': 1,\n",
              " 'Twenty, nineteen,': 1,\n",
              " 'eighteen': 1,\n",
              " 'half': 1,\n",
              " 'One': 5,\n",
              " 'Winter day': 1,\n",
              " 'winter': 1,\n",
              " 'evening': 1,\n",
              " 'night': 3,\n",
              " 'St. Petersburg': 1,\n",
              " 'this morning': 1,\n",
              " 'Peter': 1,\n",
              " 'every six months': 1,\n",
              " 'two': 2,\n",
              " 'three': 2,\n",
              " 'Two': 2,\n",
              " 'Three.': 1}"
            ]
          },
          "metadata": {},
          "execution_count": 45
        }
      ]
    },
    {
      "cell_type": "code",
      "source": [
        "eng_orig_dict = {}\n",
        "for name in eng_orig.ents:\n",
        "    if name.text in eng_orig_dict:\n",
        "        eng_orig_dict[name.text] += 1\n",
        "    else:\n",
        "      eng_orig_dict[name.text] = 1\n",
        "\n",
        "eng_orig_dict"
      ],
      "metadata": {
        "colab": {
          "base_uri": "https://localhost:8080/"
        },
        "id": "L4b43PO7DiHX",
        "outputId": "25509c43-0a5a-45c3-c9d9-211dfe897ceb"
      },
      "execution_count": null,
      "outputs": [
        {
          "output_type": "execute_result",
          "data": {
            "text/plain": [
              "{'David': 25,\n",
              " 'Emma': 18,\n",
              " 'One minute': 1,\n",
              " 'two': 1,\n",
              " 'third': 2,\n",
              " 'tonight': 2,\n",
              " 'only one': 1,\n",
              " 'three': 1,\n",
              " 'One': 1,\n",
              " 'many centuries': 1}"
            ]
          },
          "metadata": {},
          "execution_count": 47
        }
      ]
    },
    {
      "cell_type": "markdown",
      "source": [
        "### 4. Вывод результатов"
      ],
      "metadata": {
        "id": "DqQxxlswAvtG"
      }
    },
    {
      "cell_type": "markdown",
      "source": [
        "Можно в одной таблице представить словари частотностей для русского и английского текстов."
      ],
      "metadata": {
        "id": "dhxTXNK4LX8v"
      }
    },
    {
      "cell_type": "code",
      "source": [
        "import pandas as pd\n"
      ],
      "metadata": {
        "id": "7X-fdEOzAy3C"
      },
      "execution_count": null,
      "outputs": []
    },
    {
      "cell_type": "code",
      "source": [
        "# df = pd.DataFrame.from_dict(rus_orig_dict, orient='index', columns = [\"Rus_orig\", \"count\"])\n",
        "# df"
      ],
      "metadata": {
        "id": "f5WegTekS53H"
      },
      "execution_count": null,
      "outputs": []
    },
    {
      "cell_type": "code",
      "source": [
        "df1 = pd.DataFrame.from_dict(list(rus_orig_dict))\n",
        "# , columns=[\"Rus_orig\",\"amount\"]\n",
        "df2 = pd.DataFrame.from_dict(list(rus_transl_dict))\n",
        "# , columns=[\"Eng_transl_orig\",\"amount\"]\n",
        "\n",
        "combined_df_1 = pd.concat([df1, df2], axis=1)\n",
        "print(combined_df_1)"
      ],
      "metadata": {
        "colab": {
          "base_uri": "https://localhost:8080/"
        },
        "id": "5f0ngFv4LixK",
        "outputId": "0b95f631-211d-4d31-e3bd-03442c798409"
      },
      "execution_count": null,
      "outputs": [
        {
          "output_type": "stream",
          "name": "stdout",
          "text": [
            "               0                        0\n",
            "0          Питер                   Moscow\n",
            "1         Москва              Cherepovets\n",
            "2      Череповец                  an hour\n",
            "3   Магнитогорск             Magnitogorsk\n",
            "4            NaN    the Magnetic Mountain\n",
            "5            NaN           Southern Urals\n",
            "6            NaN                 Two days\n",
            "7            NaN  two thousand kilometers\n",
            "8            NaN            ten years old\n",
            "9            NaN                    First\n",
            "10           NaN                a hundred\n",
            "11           NaN              Ninety-nine\n",
            "12           NaN             ninety-seven\n",
            "13           NaN                   Europe\n",
            "14           NaN                     Asia\n",
            "15           NaN           the Ural Ridge\n",
            "16           NaN                   midday\n",
            "17           NaN                    North\n",
            "18           NaN                    Urals\n",
            "19           NaN                   jasper\n",
            "20           NaN                      GEC\n",
            "21           NaN                      TPP\n",
            "22           NaN                      NPP\n",
            "23           NaN                Bashkiria\n",
            "24           NaN               fifty-five\n",
            "25           NaN               fifty-four\n",
            "26           NaN              fifty-three\n",
            "27           NaN                  Grandma\n",
            "28           NaN                Edelweiss\n",
            "29           NaN      the Copper Mountain\n",
            "30           NaN        Twenty, nineteen,\n",
            "31           NaN                 eighteen\n",
            "32           NaN                     half\n",
            "33           NaN                      One\n",
            "34           NaN               Winter day\n",
            "35           NaN                   winter\n",
            "36           NaN                  evening\n",
            "37           NaN                    night\n",
            "38           NaN           St. Petersburg\n",
            "39           NaN             this morning\n",
            "40           NaN                    Peter\n",
            "41           NaN         every six months\n",
            "42           NaN                      two\n",
            "43           NaN                    three\n",
            "44           NaN                      Two\n",
            "45           NaN                   Three.\n"
          ]
        }
      ]
    },
    {
      "cell_type": "code",
      "source": [
        "rus_orig_dict"
      ],
      "metadata": {
        "colab": {
          "base_uri": "https://localhost:8080/"
        },
        "id": "DBiX6FEiUOlC",
        "outputId": "d958a6aa-af50-4635-f7a9-609d83e3ffdc"
      },
      "execution_count": null,
      "outputs": [
        {
          "output_type": "execute_result",
          "data": {
            "text/plain": [
              "{'Питер': 1, 'Москва': 2, 'Череповец': 2, 'Магнитогорск': 2}"
            ]
          },
          "metadata": {},
          "execution_count": 87
        }
      ]
    },
    {
      "cell_type": "code",
      "source": [
        "rus_transl_dict"
      ],
      "metadata": {
        "id": "FdFHzGJzUX6m"
      },
      "execution_count": null,
      "outputs": []
    },
    {
      "cell_type": "markdown",
      "source": [
        "**Итог**: в русском тексте есть ошибка выделения именованной сущности, связанная с тем, что название города Питер посчиталось за имя человека. В английском тексте помимо других именованных сущностей, которые мы не рассматриваем (даты, числа, расстояния), библиотекой spacy выделено гораздо больше географических локаций: *Санкт-Петербург (St. Petersburg), Медная гора (the Copper Mountain), Башкирия (Bashkiria), Уральский хребет (the Ural Ridge), Южный Урал (Southern Urals), Магнитная гора (the Magnetic Mountain), Европа (Europe), Азия (Asia)*.\n",
        "\n",
        "Слова *Питер (Peter)* и *Петербург (St. Petersburg)* не объединились в одну сущность.\n",
        "\n",
        "При этом аббревиатуры, которые в русском тексте выглядят как *ГЭЦ, ТЭС, АЭС*, библиотека spacy также посчитала за именованные сущности. Туда же вошли слова *яшма (jasper), эдельвейс (Edelweiss)*, а также слово *Север (North)*, которое в русском тексте было записано с заглавной буквы.\n",
        "\n",
        "По частотности выделенные русские и английские сущности совпадают."
      ],
      "metadata": {
        "id": "PFtOcgJBOTh7"
      }
    },
    {
      "cell_type": "code",
      "source": [
        "df3 = pd.DataFrame.from_dict(list(eng_orig_dict))\n",
        "df4 = pd.DataFrame.from_dict(list(eng_transl_dict))\n",
        "\n",
        "combined_df_2 = pd.concat([df3, df4], axis=1)\n",
        "print(combined_df_2)"
      ],
      "metadata": {
        "colab": {
          "base_uri": "https://localhost:8080/"
        },
        "id": "7kPLKi1qN-Qg",
        "outputId": "dc94ddbf-32a7-4e76-882e-b89223a0df2b"
      },
      "execution_count": null,
      "outputs": [
        {
          "output_type": "stream",
          "name": "stdout",
          "text": [
            "                0      0\n",
            "0           David  Дэвид\n",
            "1            Emma   Эмма\n",
            "2      One minute   Эмму\n",
            "3             two    NaN\n",
            "4           third    NaN\n",
            "5         tonight    NaN\n",
            "6        only one    NaN\n",
            "7           three    NaN\n",
            "8             One    NaN\n",
            "9  many centuries    NaN\n"
          ]
        }
      ]
    },
    {
      "cell_type": "code",
      "source": [
        "eng_orig_dict"
      ],
      "metadata": {
        "colab": {
          "base_uri": "https://localhost:8080/"
        },
        "id": "cgR1q_NeUJQl",
        "outputId": "fb9b318d-8bbb-49ed-8ddd-e55f77e30ecf"
      },
      "execution_count": null,
      "outputs": [
        {
          "output_type": "execute_result",
          "data": {
            "text/plain": [
              "{'David': 25,\n",
              " 'Emma': 18,\n",
              " 'One minute': 1,\n",
              " 'two': 1,\n",
              " 'third': 2,\n",
              " 'tonight': 2,\n",
              " 'only one': 1,\n",
              " 'three': 1,\n",
              " 'One': 1,\n",
              " 'many centuries': 1}"
            ]
          },
          "metadata": {},
          "execution_count": 86
        }
      ]
    },
    {
      "cell_type": "code",
      "source": [
        "eng_transl_dict"
      ],
      "metadata": {
        "colab": {
          "base_uri": "https://localhost:8080/"
        },
        "id": "cN_XI98UUCw0",
        "outputId": "fc277b43-5489-4088-d3e4-4c768d70c72c"
      },
      "execution_count": null,
      "outputs": [
        {
          "output_type": "execute_result",
          "data": {
            "text/plain": [
              "{'Дэвид': 26, 'Эмма': 17, 'Эмму': 1}"
            ]
          },
          "metadata": {},
          "execution_count": 85
        }
      ]
    },
    {
      "cell_type": "markdown",
      "source": [
        "**Итог**: в русском переводе не объединились в одну сущность формы имени у девушки: *Эмма* и *Эмму*. Также в русском переводе на один раз больше используется имя мужчины *Дэвид*. По всей видимости, это особенность перевода. Но так как больше сущностей в этих текстах не было (не считаем числа и обозначение времени), то более подробных выводов сделать сложно."
      ],
      "metadata": {
        "id": "D5ipjSLYUjig"
      }
    },
    {
      "cell_type": "code",
      "source": [],
      "metadata": {
        "id": "k5pg_5LuWlVY"
      },
      "execution_count": null,
      "outputs": []
    }
  ]
}