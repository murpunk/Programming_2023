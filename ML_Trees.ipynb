{
  "nbformat": 4,
  "nbformat_minor": 0,
  "metadata": {
    "colab": {
      "provenance": [],
      "authorship_tag": "ABX9TyN79rFVBh3a2xGBB+YWuI2g",
      "include_colab_link": true
    },
    "kernelspec": {
      "name": "python3",
      "display_name": "Python 3"
    },
    "language_info": {
      "name": "python"
    }
  },
  "cells": [
    {
      "cell_type": "markdown",
      "metadata": {
        "id": "view-in-github",
        "colab_type": "text"
      },
      "source": [
        "<a href=\"https://colab.research.google.com/github/murpunk/Programming_2023/blob/main/ML_Trees.ipynb\" target=\"_parent\"><img src=\"https://colab.research.google.com/assets/colab-badge.svg\" alt=\"Open In Colab\"/></a>"
      ]
    },
    {
      "cell_type": "markdown",
      "source": [
        "# I. Прочитайте пункт “I. Постановка задачи обучения по прецедентам” (и/или рекомендованную литературу к нему) и ответьте на вопросы"
      ],
      "metadata": {
        "id": "p3RRMHt2BWYj"
      }
    },
    {
      "cell_type": "markdown",
      "source": [
        "### 0) Литература:\n",
        "[1] К.В.Воронцов. Математические  методы  обучения по прецедентам  (теория обучения машин). 141 с. (Voron-ML-1.pdf)<br>[2] Машинное обучение (курс лекций, К.В.Воронцов) (machinelearning.ru) пункт 2.1 [Основные  понятия  и  примеры  прикладных  задач](http://www.machinelearning.ru/wiki/images/f/fc/Voron-ML-Intro-slides.pdf) (запись  лекции: https://www.youtube.com/watch?v=xccjt6lOoow)"
      ],
      "metadata": {
        "id": "S3RPY5d3Fbun"
      }
    },
    {
      "cell_type": "markdown",
      "source": [
        "### 1) Что такое объекты, признаки, ответы? Приведите пример."
      ],
      "metadata": {
        "id": "8PmL-Ox3BmlW"
      }
    },
    {
      "cell_type": "markdown",
      "source": [
        "**Объекты** -- это множество однотипных сущностей, для которых важно сделать предсказание. Можно также сказать, что объекты -- это всё, что имеет свои признаки. Примеры объектов: бутылки с вином, посетители в больнице или позиции на шахматной доске.\n",
        "\n",
        "\n",
        "**Признак** (features) характеризуют объект. Признаки могут быть:\n",
        "*   числовые (вес, рост, яркость пикселя);\n",
        "*   бинарные (женщина/мужчина, живой/мёртвый);\n",
        "*   упорядоченные нечисловые (маленький/большой/огромный);\n",
        "*   качественные нечисловые (красный/синий/зелёный).\n",
        "\n",
        "\n",
        "**Ответы** -- это то, что ставится в соответствие каждому объекту, это признак, который мы хотим предсказать. Ответы могут быть:\n",
        "*   бинарные (больной/здоровый);\n",
        "*   непересекающиеся классы (грузинское/испанское/аргентинское);\n",
        "*   пересекающиеся классы (цвет пикселя).\n",
        "\n"
      ],
      "metadata": {
        "id": "biMygTR7B0FD"
      }
    },
    {
      "cell_type": "markdown",
      "source": [
        "### 2) Какие данные содержатся в матрице «объектов–признаков» (feature data)?"
      ],
      "metadata": {
        "id": "LW3RZLUGCKuc"
      }
    },
    {
      "cell_type": "markdown",
      "source": [
        "**Матрица «объектов-признаков»**, или матрица информации, или матрица исходных данных, -- совокупность признаковых описаний всех объектов обучающей выборки."
      ],
      "metadata": {
        "id": "J1AYmeY5CRyU"
      }
    },
    {
      "cell_type": "markdown",
      "source": [
        "### 3) Что такое модель алгоритмов и метод обучения?"
      ],
      "metadata": {
        "id": "lg-YnVXHCSb1"
      }
    },
    {
      "cell_type": "markdown",
      "source": [
        "**Модель алгоритмов** (predictive model) -- функция вида $x \\to y$, которые пытаются уловить зависимость между признаковым описанием объекта (набором признаков) и ответом.\n",
        "\n",
        "\n",
        "**Метод обучения** (learning algorithm) совершает подбор параметров в модели алгоритмов."
      ],
      "metadata": {
        "id": "MqGpqPhhCXk1"
      }
    },
    {
      "cell_type": "markdown",
      "source": [
        "### 4) Какие два этапа можно выделить в задачах обучения?"
      ],
      "metadata": {
        "id": "R53lV8mtCZgE"
      }
    },
    {
      "cell_type": "markdown",
      "source": [
        "В задаче обучения с учителем можно выделить два этапа:\n",
        "\n",
        "1.   этап обучения (train), на котором строится алгоритм;\n",
        "2.   этап применения, или предсказания (test), на котором выдаются предсказания (ответы) для новых объектов.\n",
        "\n"
      ],
      "metadata": {
        "id": "0H6ExPruCeg3"
      }
    },
    {
      "cell_type": "markdown",
      "source": [
        "### 5) Что такое переобучение? Как с ним бороться?"
      ],
      "metadata": {
        "id": "4JIdvOtdCe90"
      }
    },
    {
      "cell_type": "markdown",
      "source": [
        "**Переобучение** (overtraining, overfitting) -- слишком сложная функция, которая хорошо работает на обучающей выборке, но плохо предсказывает на новых данных. То есть она не выделяет общую закономерность.\n",
        "\n",
        "\n",
        "С переобучением можно бороться так: делить выборку на две части, то есть обучаться на одном наборе данных, а проверять на другом. Также можно наложить ограничения на параметры и выбирать модель по обобщающей способности."
      ],
      "metadata": {
        "id": "X9HFOq5BClYF"
      }
    },
    {
      "cell_type": "markdown",
      "source": [
        "# II. Прочитайте пункт “II. Метод решающих деревьев” и рекомендованную литературу к нему и ответьте на вопросы"
      ],
      "metadata": {
        "id": "ew5gbp06Cl_l"
      }
    },
    {
      "cell_type": "markdown",
      "source": [
        "### 1) Как строится решающее дерево?"
      ],
      "metadata": {
        "id": "I-y0W0LACs0k"
      }
    },
    {
      "cell_type": "code",
      "source": [],
      "metadata": {
        "id": "saY1mYl1C0fU"
      },
      "execution_count": null,
      "outputs": []
    },
    {
      "cell_type": "markdown",
      "source": [
        "### 2) Какие критерии разбиения используются при построении деревьев?"
      ],
      "metadata": {
        "id": "3idoDwCAC1JE"
      }
    },
    {
      "cell_type": "code",
      "source": [],
      "metadata": {
        "id": "saCaNtWaC6SV"
      },
      "execution_count": null,
      "outputs": []
    },
    {
      "cell_type": "markdown",
      "source": [
        "### 3) Какие преимущества и недостатки метода?"
      ],
      "metadata": {
        "id": "mtNfXdCqC7Ll"
      }
    },
    {
      "cell_type": "code",
      "source": [],
      "metadata": {
        "id": "z182cjJHDA_1"
      },
      "execution_count": null,
      "outputs": []
    },
    {
      "cell_type": "markdown",
      "source": [
        "# III. Выполните задание из в файла \"2_statement-importance.pdf\""
      ],
      "metadata": {
        "id": "YEaWp0i1DBkF"
      }
    },
    {
      "cell_type": "markdown",
      "source": [
        "### 1. Загрузите выборку из файла titanic.csv с помощью пакета Pandas"
      ],
      "metadata": {
        "id": "KkrN2ZLdDG5m"
      }
    },
    {
      "cell_type": "code",
      "source": [],
      "metadata": {
        "id": "WwapfvV6D161"
      },
      "execution_count": null,
      "outputs": []
    },
    {
      "cell_type": "markdown",
      "source": [
        "### 2. Оставьте в выборке четыре признака: класс пассажира (Pclass), цену билета (Fare), возраст пассажира (Age) и его пол (Sex)."
      ],
      "metadata": {
        "id": "IgBvpd1FD2cm"
      }
    },
    {
      "cell_type": "code",
      "source": [],
      "metadata": {
        "id": "RwPt0D5yD8ll"
      },
      "execution_count": null,
      "outputs": []
    },
    {
      "cell_type": "markdown",
      "source": [
        "### 3. Обратите внимание, что признак Sex имеет строковые значения."
      ],
      "metadata": {
        "id": "etx3yZ12D9S9"
      }
    },
    {
      "cell_type": "code",
      "source": [],
      "metadata": {
        "id": "NBmdjSBRECHF"
      },
      "execution_count": null,
      "outputs": []
    },
    {
      "cell_type": "markdown",
      "source": [
        "### 4. Выделите целевую переменную -- она записана в столбце Survived."
      ],
      "metadata": {
        "id": "52CRwiOzECy9"
      }
    },
    {
      "cell_type": "code",
      "source": [],
      "metadata": {
        "id": "HrdyhshWEJDV"
      },
      "execution_count": null,
      "outputs": []
    },
    {
      "cell_type": "markdown",
      "source": [
        "### 5. В данных есть пропущенные значения, например, для некоторых пассажиров неизвестен их возраст. Такие записи при чтении их в pandas принимают значение nan. Найдите все объекты, у которых есть пропущенные признаки, и удалите их из выборки."
      ],
      "metadata": {
        "id": "1Oo-FvosEJ7V"
      }
    },
    {
      "cell_type": "code",
      "source": [],
      "metadata": {
        "id": "Sf48yBkaET21"
      },
      "execution_count": null,
      "outputs": []
    },
    {
      "cell_type": "markdown",
      "source": [
        "### 6. Обучите решающее дерево с параметром random_state=241 и остальными параметрами по умолчанию."
      ],
      "metadata": {
        "id": "uzeGIlDcEUiH"
      }
    },
    {
      "cell_type": "code",
      "source": [],
      "metadata": {
        "id": "kOpas-6tEaCl"
      },
      "execution_count": null,
      "outputs": []
    },
    {
      "cell_type": "markdown",
      "source": [
        "### 7. Вычислите важности признаков и найдите два признака с наибольшей важностью. Их названия будут ответами для данной задачи(в качестве ответа укажите названия признаков через запятую без пробелов)."
      ],
      "metadata": {
        "id": "06Co8z9wEauu"
      }
    },
    {
      "cell_type": "code",
      "source": [],
      "metadata": {
        "id": "-yhwlxRHEi_F"
      },
      "execution_count": null,
      "outputs": []
    }
  ]
}