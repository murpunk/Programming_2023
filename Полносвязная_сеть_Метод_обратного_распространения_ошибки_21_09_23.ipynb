{
  "nbformat": 4,
  "nbformat_minor": 0,
  "metadata": {
    "colab": {
      "provenance": [],
      "authorship_tag": "ABX9TyPF/wIUJ50gpvSX3RA3enOj",
      "include_colab_link": true
    },
    "kernelspec": {
      "name": "python3",
      "display_name": "Python 3"
    },
    "language_info": {
      "name": "python"
    }
  },
  "cells": [
    {
      "cell_type": "markdown",
      "metadata": {
        "id": "view-in-github",
        "colab_type": "text"
      },
      "source": [
        "<a href=\"https://colab.research.google.com/github/murpunk/Programming_2023/blob/main/%D0%9F%D0%BE%D0%BB%D0%BD%D0%BE%D1%81%D0%B2%D1%8F%D0%B7%D0%BD%D0%B0%D1%8F_%D1%81%D0%B5%D1%82%D1%8C_%D0%9C%D0%B5%D1%82%D0%BE%D0%B4_%D0%BE%D0%B1%D1%80%D0%B0%D1%82%D0%BD%D0%BE%D0%B3%D0%BE_%D1%80%D0%B0%D1%81%D0%BF%D1%80%D0%BE%D1%81%D1%82%D1%80%D0%B0%D0%BD%D0%B5%D0%BD%D0%B8%D1%8F_%D0%BE%D1%88%D0%B8%D0%B1%D0%BA%D0%B8_21_09_23.ipynb\" target=\"_parent\"><img src=\"https://colab.research.google.com/assets/colab-badge.svg\" alt=\"Open In Colab\"/></a>"
      ]
    },
    {
      "cell_type": "markdown",
      "source": [
        "# 0. Источники"
      ],
      "metadata": {
        "id": "6nccnnvA61fJ"
      }
    },
    {
      "cell_type": "markdown",
      "source": [
        "1. К.В.Воронцов МФТИ Лекция 3. Искусственные нейронные сети: градиентные методы оптимизации https://www.youtube.com/watch?v=e9wOnPdN8tY (16–41 мин. – обрат. распр. ошиб.; далее – оптимизации метода).\n",
        "2. Евгений Соколов Основы глубинного обучения. НИИ ВШЭ. Лекция 2. Обратное распространение ошибки. Сверточные сети.\n",
        "https://www.youtube.com/watch?v=2fPB3Je7E98\n",
        "3. Пойнтер Ян. Программируем с PyTorch: Создание приложений глубокого обучения. — СПб.: Питер, 2020. — 256 с.\n",
        "4. Стивенс Эли, Антига Лука, Виман Томас. PyTorch. Освещая глубокое обучение. — СПб.: Питер, 2022. — 576 с."
      ],
      "metadata": {
        "id": "MbgPgBA7646g"
      }
    },
    {
      "cell_type": "markdown",
      "source": [
        "# Задание 1"
      ],
      "metadata": {
        "id": "KeRlrDiO7QDe"
      }
    },
    {
      "cell_type": "markdown",
      "source": [
        "Полносвязная сеть. Метод обратного распространения ошибки (см. [1] К.В.Воронцов или [2] Е.Соколов). Или другие книги и лекции."
      ],
      "metadata": {
        "id": "-oG2PDGu7VH3"
      }
    },
    {
      "cell_type": "markdown",
      "source": [
        "Нейросеть, в которой есть только линейные слои и функции активации, называют **полносвязной** (fully connected) нейронной сетью, или **многослойным перцептроном** (multilayer perceptron, MLP).\n",
        "\n",
        "**Линейный слой** (linear layer, dense layer) — линейное преобразование над входящими данными.\n",
        "\n",
        "**Функция активации** (activation function) — нелинейное преобразование, поэлементно применяющееся к пришедшим на вход данным. Благодаря функциям активации нейронные сети способны порождать более информативные признаковые описания, преобразуя данные нелинейным образом. Может использоваться, например, ReLU (rectified linear unit) или уже знакомая вам из логистической регрессии сигмоида.\n",
        "\n",
        "Полносвязные нейросети работают лучше, чем простые нейросети."
      ],
      "metadata": {
        "id": "liYlC1M7HfNj"
      }
    },
    {
      "cell_type": "markdown",
      "source": [
        "Применение нейронной сети к данным (вычисление выхода по заданному входу) часто называют **прямым проходом**, или же forward propagation (forward pass). На этом этапе происходит преобразование исходного представления данных в целевое и последовательно строятся промежуточные (внутренние) представления данных — результаты применения слоёв к предыдущим представлениям. Именно поэтому проход называют прямым."
      ],
      "metadata": {
        "id": "_7zoYSVPnnFj"
      }
    },
    {
      "cell_type": "markdown",
      "source": [
        "При **обратном проходе**, или же backward propagation (backward pass), информация (обычно об ошибке предсказания целевого представления) движется от финального представления (а чаще даже от функции потерь) к исходному через все преобразования. Механизм обратного распространения ошибки, играющий важнейшую роль в обучении нейронных сетей, как раз предполагает обратное движение по вычислительному графу сети."
      ],
      "metadata": {
        "id": "0lgxIzDZnttK"
      }
    },
    {
      "cell_type": "markdown",
      "source": [
        "**Метод обратного распространения ошибки** (англ. backpropagation) — метод обучения нейронных сетей, который используется при обновлении весов полносвязной сети.\n",
        "\n",
        "Основная идея этого метода состоит в распространении сигналов ошибки от выходов сети к её входам, в направлении, обратном прямому распространению сигналов в обычном режиме работы."
      ],
      "metadata": {
        "id": "VNtn6-igmHXE"
      }
    },
    {
      "cell_type": "markdown",
      "source": [
        "# Задание 2"
      ],
      "metadata": {
        "id": "7y0ZtOD17re1"
      }
    },
    {
      "cell_type": "markdown",
      "source": [
        "Введение в PyTorch (см. книги [3], [4]). Прочитайте стр.13–37 книги [3]. Разберите и выполните команды PyTorch из книги (стр. 33–37).\n"
      ],
      "metadata": {
        "id": "gtTGSmrO7u_1"
      }
    },
    {
      "cell_type": "markdown",
      "source": [
        "Тензор — это контейнер для чисел и набор правил для преобразования тензоров. По сути это многомерные массивы. Тензор имеет ранг, показывающий его размерное пространство."
      ],
      "metadata": {
        "id": "ZE0-NbZIY9yq"
      }
    },
    {
      "cell_type": "code",
      "execution_count": 1,
      "metadata": {
        "id": "LXuIfA7VzpgH"
      },
      "outputs": [],
      "source": [
        "import torch"
      ]
    },
    {
      "cell_type": "code",
      "source": [
        "x = torch.tensor([[0,0,1],[1,1,1],[0,0,0]]) # создали тензор из списка\n",
        "x"
      ],
      "metadata": {
        "colab": {
          "base_uri": "https://localhost:8080/"
        },
        "id": "1nsgfI-kZjsO",
        "outputId": "f0563357-825d-4921-a413-f01ef40c89be"
      },
      "execution_count": 2,
      "outputs": [
        {
          "output_type": "execute_result",
          "data": {
            "text/plain": [
              "tensor([[0, 0, 1],\n",
              "        [1, 1, 1],\n",
              "        [0, 0, 0]])"
            ]
          },
          "metadata": {},
          "execution_count": 2
        }
      ]
    },
    {
      "cell_type": "code",
      "source": [
        "x[0][0] = 5 # изменили элемент в тензоре, используя методы стандартного индексирования\n",
        "x"
      ],
      "metadata": {
        "colab": {
          "base_uri": "https://localhost:8080/"
        },
        "id": "FbzJzFYJZzwO",
        "outputId": "030f71dd-addf-45fb-b2af-f5cff208e0e5"
      },
      "execution_count": 4,
      "outputs": [
        {
          "output_type": "execute_result",
          "data": {
            "text/plain": [
              "tensor([[5, 0, 1],\n",
              "        [1, 1, 1],\n",
              "        [0, 0, 0]])"
            ]
          },
          "metadata": {},
          "execution_count": 4
        }
      ]
    },
    {
      "cell_type": "code",
      "source": [
        "torch.zeros(2,2) # генерация тензора, заполненная нулями"
      ],
      "metadata": {
        "colab": {
          "base_uri": "https://localhost:8080/"
        },
        "id": "Zhx-hT3CaCYW",
        "outputId": "9dc5843a-980a-48a5-b732-ed6f6df75407"
      },
      "execution_count": 5,
      "outputs": [
        {
          "output_type": "execute_result",
          "data": {
            "text/plain": [
              "tensor([[0., 0.],\n",
              "        [0., 0.]])"
            ]
          },
          "metadata": {},
          "execution_count": 5
        }
      ]
    },
    {
      "cell_type": "code",
      "source": [
        "# операция сложения тензоров\n",
        "torch.ones(1,2) + torch.ones(1,2) # в книге опечатка: вместо torch написано tensor"
      ],
      "metadata": {
        "colab": {
          "base_uri": "https://localhost:8080/"
        },
        "id": "X08fwObPaNXM",
        "outputId": "7ae88855-6c11-467a-d9e3-14d0b669b76b"
      },
      "execution_count": 7,
      "outputs": [
        {
          "output_type": "execute_result",
          "data": {
            "text/plain": [
              "tensor([[2., 2.]])"
            ]
          },
          "metadata": {},
          "execution_count": 7
        }
      ]
    },
    {
      "cell_type": "code",
      "source": [
        "y = torch.rand(1) # rand создаёт случайный тензор. в этом примере размерность 0, то есть это число\n",
        "y"
      ],
      "metadata": {
        "colab": {
          "base_uri": "https://localhost:8080/"
        },
        "id": "xqkPCjJhiNw4",
        "outputId": "7ff241c8-902a-42c4-8f8c-59feadb5ec9d"
      },
      "execution_count": 23,
      "outputs": [
        {
          "output_type": "execute_result",
          "data": {
            "text/plain": [
              "tensor([0.0305])"
            ]
          },
          "metadata": {},
          "execution_count": 23
        }
      ]
    },
    {
      "cell_type": "code",
      "source": [
        "torch.rand(1).item() # с помощью item извлекаются значения у тензоров ранга 0 (то есть чисел)"
      ],
      "metadata": {
        "colab": {
          "base_uri": "https://localhost:8080/"
        },
        "id": "bC9AK5OZawE9",
        "outputId": "b719dd3b-beab-47d7-af6f-707ede712416"
      },
      "execution_count": 30,
      "outputs": [
        {
          "output_type": "execute_result",
          "data": {
            "text/plain": [
              "0.6044024229049683"
            ]
          },
          "metadata": {},
          "execution_count": 30
        }
      ]
    },
    {
      "cell_type": "code",
      "source": [
        "cpu_tensor = torch.rand(2) # тензоры находятся в центральном процессоре\n",
        "cpu_tensor.device"
      ],
      "metadata": {
        "colab": {
          "base_uri": "https://localhost:8080/"
        },
        "id": "Tdq6kJD5a-US",
        "outputId": "9719c65a-4471-427c-f006-3ddf29308663"
      },
      "execution_count": 11,
      "outputs": [
        {
          "output_type": "execute_result",
          "data": {
            "text/plain": [
              "device(type='cpu')"
            ]
          },
          "metadata": {},
          "execution_count": 11
        }
      ]
    },
    {
      "cell_type": "code",
      "source": [
        "gpu_tensor = cpu_tensor.to(\"cuda\") # не переносится в другой процессор. ошибка: Found no NVIDIA driver on your system.\n",
        "gpu_tensor.device"
      ],
      "metadata": {
        "colab": {
          "base_uri": "https://localhost:8080/",
          "height": 333
        },
        "id": "Tx9RMz8PcHxy",
        "outputId": "8a418725-897b-4311-8060-03793dcdb6fc"
      },
      "execution_count": 12,
      "outputs": [
        {
          "output_type": "error",
          "ename": "RuntimeError",
          "evalue": "ignored",
          "traceback": [
            "\u001b[0;31m---------------------------------------------------------------------------\u001b[0m",
            "\u001b[0;31mRuntimeError\u001b[0m                              Traceback (most recent call last)",
            "\u001b[0;32m<ipython-input-12-2e8963e21c2a>\u001b[0m in \u001b[0;36m<cell line: 1>\u001b[0;34m()\u001b[0m\n\u001b[0;32m----> 1\u001b[0;31m \u001b[0mgpu_tensor\u001b[0m \u001b[0;34m=\u001b[0m \u001b[0mcpu_tensor\u001b[0m\u001b[0;34m.\u001b[0m\u001b[0mto\u001b[0m\u001b[0;34m(\u001b[0m\u001b[0;34m\"cuda\"\u001b[0m\u001b[0;34m)\u001b[0m\u001b[0;34m\u001b[0m\u001b[0;34m\u001b[0m\u001b[0m\n\u001b[0m\u001b[1;32m      2\u001b[0m \u001b[0mgpu_tensor\u001b[0m\u001b[0;34m.\u001b[0m\u001b[0mdevice\u001b[0m\u001b[0;34m\u001b[0m\u001b[0;34m\u001b[0m\u001b[0m\n",
            "\u001b[0;32m/usr/local/lib/python3.10/dist-packages/torch/cuda/__init__.py\u001b[0m in \u001b[0;36m_lazy_init\u001b[0;34m()\u001b[0m\n\u001b[1;32m    296\u001b[0m         \u001b[0;32mif\u001b[0m \u001b[0;34m\"CUDA_MODULE_LOADING\"\u001b[0m \u001b[0;32mnot\u001b[0m \u001b[0;32min\u001b[0m \u001b[0mos\u001b[0m\u001b[0;34m.\u001b[0m\u001b[0menviron\u001b[0m\u001b[0;34m:\u001b[0m\u001b[0;34m\u001b[0m\u001b[0;34m\u001b[0m\u001b[0m\n\u001b[1;32m    297\u001b[0m             \u001b[0mos\u001b[0m\u001b[0;34m.\u001b[0m\u001b[0menviron\u001b[0m\u001b[0;34m[\u001b[0m\u001b[0;34m\"CUDA_MODULE_LOADING\"\u001b[0m\u001b[0;34m]\u001b[0m \u001b[0;34m=\u001b[0m \u001b[0;34m\"LAZY\"\u001b[0m\u001b[0;34m\u001b[0m\u001b[0;34m\u001b[0m\u001b[0m\n\u001b[0;32m--> 298\u001b[0;31m         \u001b[0mtorch\u001b[0m\u001b[0;34m.\u001b[0m\u001b[0m_C\u001b[0m\u001b[0;34m.\u001b[0m\u001b[0m_cuda_init\u001b[0m\u001b[0;34m(\u001b[0m\u001b[0;34m)\u001b[0m\u001b[0;34m\u001b[0m\u001b[0;34m\u001b[0m\u001b[0m\n\u001b[0m\u001b[1;32m    299\u001b[0m         \u001b[0;31m# Some of the queued calls may reentrantly call _lazy_init();\u001b[0m\u001b[0;34m\u001b[0m\u001b[0;34m\u001b[0m\u001b[0m\n\u001b[1;32m    300\u001b[0m         \u001b[0;31m# we need to just return without initializing in that case.\u001b[0m\u001b[0;34m\u001b[0m\u001b[0;34m\u001b[0m\u001b[0m\n",
            "\u001b[0;31mRuntimeError\u001b[0m: Found no NVIDIA driver on your system. Please check that you have an NVIDIA GPU and installed a driver from http://www.nvidia.com/Download/index.aspx"
          ]
        }
      ]
    },
    {
      "cell_type": "code",
      "source": [
        "torch.rand(2,2).max() # находим максимальный элемент в тензоре"
      ],
      "metadata": {
        "colab": {
          "base_uri": "https://localhost:8080/"
        },
        "id": "ctk0_HOqcsIC",
        "outputId": "7a5628a6-b558-4b07-e1ad-7c3539fd25d9"
      },
      "execution_count": 13,
      "outputs": [
        {
          "output_type": "execute_result",
          "data": {
            "text/plain": [
              "tensor(0.8205)"
            ]
          },
          "metadata": {},
          "execution_count": 13
        }
      ]
    },
    {
      "cell_type": "code",
      "source": [
        "torch.rand(2,2).max().item() # находим максимальный элемент в тензоре 1D"
      ],
      "metadata": {
        "colab": {
          "base_uri": "https://localhost:8080/"
        },
        "id": "CdmuKkFJc5U-",
        "outputId": "c883efad-7773-41dc-d833-db121ec279f9"
      },
      "execution_count": 14,
      "outputs": [
        {
          "output_type": "execute_result",
          "data": {
            "text/plain": [
              "0.880636990070343"
            ]
          },
          "metadata": {},
          "execution_count": 14
        }
      ]
    },
    {
      "cell_type": "code",
      "source": [
        "long_tensor = torch.tensor([[0,0,1],[1,1,1],[0,0,0]]) # находим тип тензора\n",
        "long_tensor.type()"
      ],
      "metadata": {
        "colab": {
          "base_uri": "https://localhost:8080/",
          "height": 37
        },
        "id": "mNAWtwujdIJu",
        "outputId": "0d1ca0cb-bc6e-4968-b36c-415b44128e8b"
      },
      "execution_count": 15,
      "outputs": [
        {
          "output_type": "execute_result",
          "data": {
            "text/plain": [
              "'torch.LongTensor'"
            ],
            "application/vnd.google.colaboratory.intrinsic+json": {
              "type": "string"
            }
          },
          "metadata": {},
          "execution_count": 15
        }
      ]
    },
    {
      "cell_type": "code",
      "source": [
        "# изменяем тип тензора\n",
        "float_tensor = torch.tensor([[0,0,1],[1,1,1],[0,0,0]]).to(dtype=torch.float32)\n",
        "float_tensor.type()\n"
      ],
      "metadata": {
        "colab": {
          "base_uri": "https://localhost:8080/",
          "height": 37
        },
        "id": "Kfj4ZEsddSft",
        "outputId": "f1e7de9f-b1db-4406-a47f-59fb906e4d42"
      },
      "execution_count": 17,
      "outputs": [
        {
          "output_type": "execute_result",
          "data": {
            "text/plain": [
              "'torch.FloatTensor'"
            ],
            "application/vnd.google.colaboratory.intrinsic+json": {
              "type": "string"
            }
          },
          "metadata": {},
          "execution_count": 17
        }
      ]
    },
    {
      "cell_type": "code",
      "source": [
        "flat_tensor = torch.rand(784) # с помощью reshape или view можно изменить сам тензор\n",
        "viewed_tensor = flat_tensor.view(1,28,28)\n",
        "viewed_tensor.shape"
      ],
      "metadata": {
        "colab": {
          "base_uri": "https://localhost:8080/"
        },
        "id": "N3vNaUYsdYzB",
        "outputId": "b4cf2a18-8b89-48d7-864d-1c2c7891c786"
      },
      "execution_count": 20,
      "outputs": [
        {
          "output_type": "execute_result",
          "data": {
            "text/plain": [
              "torch.Size([1, 28, 28])"
            ]
          },
          "metadata": {},
          "execution_count": 20
        }
      ]
    },
    {
      "cell_type": "code",
      "source": [
        "# форма изменённого тензора должна иметь то же количество элементов, что и оригинал\n",
        "# например, flat_tensor.reshape(3,28,28) вызовет ошибку\n",
        "reshaped_tensor = flat_tensor.reshape(1,28,28)\n",
        "reshaped_tensor.shape"
      ],
      "metadata": {
        "colab": {
          "base_uri": "https://localhost:8080/"
        },
        "id": "oi3oJ6a3dqRU",
        "outputId": "e80f940c-7c18-44f4-a5a8-af2308a5dff5"
      },
      "execution_count": 21,
      "outputs": [
        {
          "output_type": "execute_result",
          "data": {
            "text/plain": [
              "torch.Size([1, 28, 28])"
            ]
          },
          "metadata": {},
          "execution_count": 21
        }
      ]
    },
    {
      "cell_type": "code",
      "source": [
        "hwc_tensor = torch.rand(640, 480, 3)\n",
        "chw_tensor = hwc_tensor.permute(2,0,1) # изменяются размеры тензора\n",
        "chw_tensor.shape"
      ],
      "metadata": {
        "colab": {
          "base_uri": "https://localhost:8080/"
        },
        "id": "COxa8HiGemAL",
        "outputId": "6b56411e-ee47-44e1-9b1e-60e7bf78df87"
      },
      "execution_count": 22,
      "outputs": [
        {
          "output_type": "execute_result",
          "data": {
            "text/plain": [
              "torch.Size([3, 640, 480])"
            ]
          },
          "metadata": {},
          "execution_count": 22
        }
      ]
    },
    {
      "cell_type": "markdown",
      "source": [
        "# Пример"
      ],
      "metadata": {
        "id": "KFuM8AHlGpzQ"
      }
    },
    {
      "cell_type": "code",
      "execution_count": null,
      "metadata": {
        "id": "SKTGiGzfzTJx"
      },
      "outputs": [],
      "source": [
        "#conda install pytorch torchvision -c pytorch\n",
        "# или\n",
        "#pip install torch"
      ]
    },
    {
      "cell_type": "code",
      "execution_count": null,
      "metadata": {
        "id": "HGFI4iWdzTJ1"
      },
      "outputs": [],
      "source": [
        "import torch"
      ]
    },
    {
      "cell_type": "code",
      "execution_count": null,
      "metadata": {
        "id": "4punFf7zzTJ4",
        "outputId": "bfc042ac-e63e-4242-f697-0b86af7417a5",
        "colab": {
          "base_uri": "https://localhost:8080/"
        }
      },
      "outputs": [
        {
          "output_type": "execute_result",
          "data": {
            "text/plain": [
              "tensor([[0.5918, 0.2730, 0.3234],\n",
              "        [0.1913, 0.8521, 0.1116],\n",
              "        [0.9918, 0.6873, 0.8988],\n",
              "        [0.4777, 0.0850, 0.5035],\n",
              "        [0.5774, 0.5755, 0.4151]])"
            ]
          },
          "metadata": {},
          "execution_count": 2
        }
      ],
      "source": [
        "x = torch.rand(5, 3)\n",
        "x"
      ]
    },
    {
      "cell_type": "code",
      "execution_count": null,
      "metadata": {
        "id": "gIe8_dVhzTJ7",
        "outputId": "4cf67dc3-6d8f-4192-cc6f-0abf2e762705",
        "colab": {
          "base_uri": "https://localhost:8080/"
        }
      },
      "outputs": [
        {
          "output_type": "execute_result",
          "data": {
            "text/plain": [
              "torch.Size([5, 3])"
            ]
          },
          "metadata": {},
          "execution_count": 3
        }
      ],
      "source": [
        "x.shape"
      ]
    },
    {
      "cell_type": "code",
      "execution_count": null,
      "metadata": {
        "id": "E0t0GPpozTJ9",
        "outputId": "4cc3784e-5be0-49ca-a3d3-aafe2142c592",
        "colab": {
          "base_uri": "https://localhost:8080/"
        }
      },
      "outputs": [
        {
          "output_type": "stream",
          "name": "stdout",
          "text": [
            "tensor([0.0647], requires_grad=True) tensor([0.7182], requires_grad=True)\n"
          ]
        }
      ],
      "source": [
        "# Тензор способный хранить производные: requires_grad = True\n",
        "w = torch.rand(1, requires_grad = True)\n",
        "b = torch.rand(1, requires_grad = True)\n",
        "print(w, b)"
      ]
    },
    {
      "cell_type": "code",
      "execution_count": null,
      "metadata": {
        "id": "UIm3SBOBzTJ_",
        "outputId": "31fb5fc8-8a29-4f8d-9849-14bdb2723fec",
        "colab": {
          "base_uri": "https://localhost:8080/"
        }
      },
      "outputs": [
        {
          "output_type": "stream",
          "name": "stdout",
          "text": [
            "None\n"
          ]
        }
      ],
      "source": [
        "print(w.grad)"
      ]
    },
    {
      "cell_type": "code",
      "execution_count": null,
      "metadata": {
        "id": "99fZXuRVzTKC"
      },
      "outputs": [],
      "source": [
        "x = torch.tensor([2, 3, 4, -1, 0, -2], dtype=torch.float32)\n",
        "y = torch.tensor([1, 1, 1, -1, -1, -1], dtype=torch.float32)"
      ]
    },
    {
      "cell_type": "code",
      "execution_count": null,
      "metadata": {
        "id": "g7aI7rEtzTKD"
      },
      "outputs": [],
      "source": [
        "y_pred = w * x + b\n",
        "loss = torch.mean((y_pred - y) ** 2)\n",
        "loss.backward()"
      ]
    },
    {
      "cell_type": "code",
      "execution_count": null,
      "metadata": {
        "id": "SbzyUTHMzTKE",
        "outputId": "e0b6594d-7324-4507-a2fc-778416a75d36",
        "colab": {
          "base_uri": "https://localhost:8080/"
        }
      },
      "outputs": [
        {
          "output_type": "stream",
          "name": "stdout",
          "text": [
            "tensor([0.0647]) tensor([0.7182])\n",
            "tensor([-1.8305]) tensor([1.5658])\n"
          ]
        }
      ],
      "source": [
        "print(w.data, b.data)\n",
        "print(w.grad, b.grad)"
      ]
    },
    {
      "cell_type": "code",
      "execution_count": null,
      "metadata": {
        "id": "kZb8YErazTKH",
        "outputId": "e91354ba-f742-4202-e45f-dcb51930e4a5",
        "colab": {
          "base_uri": "https://localhost:8080/"
        }
      },
      "outputs": [
        {
          "output_type": "execute_result",
          "data": {
            "text/plain": [
              "tensor([0.8476, 0.9123, 0.9769, 0.6535, 0.7182, 0.5889])"
            ]
          },
          "metadata": {},
          "execution_count": 9
        }
      ],
      "source": [
        "y_pred.data"
      ]
    }
  ]
}