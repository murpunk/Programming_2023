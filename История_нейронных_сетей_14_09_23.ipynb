{
  "nbformat": 4,
  "nbformat_minor": 0,
  "metadata": {
    "colab": {
      "provenance": [],
      "authorship_tag": "ABX9TyM5WYt+xT799SYRCE1sLOuU",
      "include_colab_link": true
    },
    "kernelspec": {
      "name": "python3",
      "display_name": "Python 3"
    },
    "language_info": {
      "name": "python"
    }
  },
  "cells": [
    {
      "cell_type": "markdown",
      "metadata": {
        "id": "view-in-github",
        "colab_type": "text"
      },
      "source": [
        "<a href=\"https://colab.research.google.com/github/murpunk/Programming_2023/blob/main/%D0%98%D1%81%D1%82%D0%BE%D1%80%D0%B8%D1%8F_%D0%BD%D0%B5%D0%B9%D1%80%D0%BE%D0%BD%D0%BD%D1%8B%D1%85_%D1%81%D0%B5%D1%82%D0%B5%D0%B9_14_09_23.ipynb\" target=\"_parent\"><img src=\"https://colab.research.google.com/assets/colab-badge.svg\" alt=\"Open In Colab\"/></a>"
      ]
    },
    {
      "cell_type": "markdown",
      "source": [
        "# 1. Опишите кратко историю развития нейронных сетей"
      ],
      "metadata": {
        "id": "f_r_bZhh6fzG"
      }
    },
    {
      "cell_type": "markdown",
      "source": [
        "# 2. Что такое нейронная сеть? Что такое глубокое обучение?"
      ],
      "metadata": {
        "id": "Q5GEGEdw6qZv"
      }
    },
    {
      "cell_type": "markdown",
      "source": [
        "# 3. Приведите примеры задач, которые решались с помощью нейронных сетей. Какие типы задач можно решать с помощью нейронных сетей?"
      ],
      "metadata": {
        "id": "JrFT9Z1m6xOB"
      }
    },
    {
      "cell_type": "code",
      "execution_count": null,
      "metadata": {
        "id": "_pic_gXt6XG7"
      },
      "outputs": [],
      "source": []
    }
  ]
}