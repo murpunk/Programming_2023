{
  "nbformat": 4,
  "nbformat_minor": 0,
  "metadata": {
    "colab": {
      "provenance": [],
      "authorship_tag": "ABX9TyMgw1MURCgI21mhJBZrma3/",
      "include_colab_link": true
    },
    "kernelspec": {
      "name": "python3",
      "display_name": "Python 3"
    },
    "language_info": {
      "name": "python"
    }
  },
  "cells": [
    {
      "cell_type": "markdown",
      "metadata": {
        "id": "view-in-github",
        "colab_type": "text"
      },
      "source": [
        "<a href=\"https://colab.research.google.com/github/murpunk/Programming_2023/blob/main/1_%D0%90%D0%BB%D0%B3%D0%BE%D1%80%D0%B8%D1%82%D0%BC%D1%8B_%D0%BD%D0%B0_%D1%81%D1%82%D1%80%D0%BE%D0%BA%D0%B0%D1%85_%D0%B7%D0%B0%D0%B4%D0%B0%D1%87%D0%B0_%D0%BF%D0%BE%D0%B8%D1%81%D0%BA%D0%B0_%D0%9D%D0%B8%D0%BA%D0%B8%D1%82%D0%B0.ipynb\" target=\"_parent\"><img src=\"https://colab.research.google.com/assets/colab-badge.svg\" alt=\"Open In Colab\"/></a>"
      ]
    },
    {
      "cell_type": "code",
      "source": [
        "import re"
      ],
      "metadata": {
        "id": "p7-S76Pgruhx"
      },
      "execution_count": 1,
      "outputs": []
    },
    {
      "cell_type": "markdown",
      "source": [
        "## Проверка паттернов из статьи на Хабре: https://habr.com/ru/articles/349860/"
      ],
      "metadata": {
        "id": "2DBTxn0TLeFc"
      }
    },
    {
      "cell_type": "code",
      "execution_count": 19,
      "metadata": {
        "colab": {
          "base_uri": "https://localhost:8080/"
        },
        "id": "yk6nk8qtKFeE",
        "outputId": "241c64e5-af3e-4348-f1d0-603b7240d85a"
      },
      "outputs": [
        {
          "output_type": "stream",
          "name": "stdout",
          "text": [
            "23-12\n"
          ]
        }
      ],
      "source": [
        "for m in re.finditer(r'\\d\\d\\D\\d\\d', r'Телефон 123-12-12'):\n",
        "  print(m[0] if match else 'Not found')\n"
      ]
    },
    {
      "cell_type": "code",
      "source": [
        "for m in re.finditer(r'\\d\\d\\.\\d\\d\\.\\d{4}', r'Эта строка написана 19.01.2018, а могла бы и 01.09.2017'):\n",
        "    print('Дата', m[0], 'начинается с позиции', m.start())"
      ],
      "metadata": {
        "colab": {
          "base_uri": "https://localhost:8080/"
        },
        "id": "O2vEJ7tusaRd",
        "outputId": "c8e46f0a-5304-4522-d03e-c13c80b16b99"
      },
      "execution_count": 6,
      "outputs": [
        {
          "output_type": "stream",
          "name": "stdout",
          "text": [
            "Дата 19.01.2018 начинается с позиции 20\n",
            "Дата 01.09.2017 начинается с позиции 45\n"
          ]
        }
      ]
    },
    {
      "cell_type": "code",
      "source": [
        "re.findall(\"\\\\\\\\par\", \"\\par\")"
      ],
      "metadata": {
        "colab": {
          "base_uri": "https://localhost:8080/"
        },
        "id": "e467MRGPvjGK",
        "outputId": "0a37e6a3-8587-4133-96e0-7e507168a6bc"
      },
      "execution_count": 7,
      "outputs": [
        {
          "output_type": "execute_result",
          "data": {
            "text/plain": [
              "['\\\\par']"
            ]
          },
          "metadata": {},
          "execution_count": 7
        }
      ]
    },
    {
      "cell_type": "code",
      "source": [
        "slashes = re.compile(\"\\\\\\\\par\")\n",
        "print(slashes.findall(\"\\par\"))"
      ],
      "metadata": {
        "colab": {
          "base_uri": "https://localhost:8080/"
        },
        "id": "0RJ9_syWwWkA",
        "outputId": "6aaf9717-ccef-4ffd-9306-d95c2f49af72"
      },
      "execution_count": 8,
      "outputs": [
        {
          "output_type": "stream",
          "name": "stdout",
          "text": [
            "['\\\\par']\n"
          ]
        }
      ]
    },
    {
      "cell_type": "code",
      "source": [
        "print(re.findall(r'\\d+', '12 + ٦٧'))"
      ],
      "metadata": {
        "colab": {
          "base_uri": "https://localhost:8080/"
        },
        "id": "d0AP6xHhxZbM",
        "outputId": "9e7f89c1-708f-4b2d-c840-26fb241606b6"
      },
      "execution_count": 9,
      "outputs": [
        {
          "output_type": "stream",
          "name": "stdout",
          "text": [
            "['12', '٦٧']\n"
          ]
        }
      ]
    },
    {
      "cell_type": "code",
      "source": [
        "reg = re.compile(\"(?:\\w\\w\\d\\d)+\")\n",
        "print(reg.findall(\"Есть миг29а, ту154б. Некоторые делают даже миг29ту154ил86.\"))"
      ],
      "metadata": {
        "colab": {
          "base_uri": "https://localhost:8080/"
        },
        "id": "Xq13VjmgzkXl",
        "outputId": "30da16d5-dba8-43ae-829e-ec6ad091bbde"
      },
      "execution_count": 13,
      "outputs": [
        {
          "output_type": "stream",
          "name": "stdout",
          "text": [
            "['иг29', 'ту15', 'иг29ту15', 'ил86']\n"
          ]
        }
      ]
    },
    {
      "cell_type": "code",
      "source": [
        "pattern = r'\\s*([А-Яа-яЁё]+)(\\d+)\\s*'\n",
        "string = r'---   Опять45   ---'\n",
        "match = re.search(pattern, string)\n",
        "print(f'Найдена подстрока >{match[0]}< с позиции {match.start(0)} до {match.end(0)}')\n",
        "print(f'Группа букв >{match[1]}< с позиции {match.start(1)} до {match.end(1)}')\n",
        "print(f'Группа цифр >{match[2]}< с позиции {match.start(2)} до {match.end(2)}')"
      ],
      "metadata": {
        "colab": {
          "base_uri": "https://localhost:8080/"
        },
        "id": "_u8skIJU31_K",
        "outputId": "67a5f2ee-6190-4b5d-9e1e-b9ba9fd4060d"
      },
      "execution_count": 20,
      "outputs": [
        {
          "output_type": "stream",
          "name": "stdout",
          "text": [
            "Найдена подстрока >   Опять45   < с позиции 3 до 16\n",
            "Группа букв >Опять< с позиции 6 до 11\n",
            "Группа цифр >45< с позиции 11 до 13\n"
          ]
        }
      ]
    },
    {
      "cell_type": "code",
      "source": [
        "reg = re.compile(\"\\Bвал\\B\")\n",
        "print(reg.findall(\"23вал34\"))"
      ],
      "metadata": {
        "colab": {
          "base_uri": "https://localhost:8080/"
        },
        "id": "I-SeyYPoB33_",
        "outputId": "9bbba1bc-9c8f-4235-bd4a-4b159fc3c027"
      },
      "execution_count": 21,
      "outputs": [
        {
          "output_type": "stream",
          "name": "stdout",
          "text": [
            "['вал']\n"
          ]
        }
      ]
    },
    {
      "cell_type": "code",
      "source": [
        "reg = re.compile(\".*?\")\n",
        "print(reg.findall(\"Hello, world!\"))"
      ],
      "metadata": {
        "colab": {
          "base_uri": "https://localhost:8080/"
        },
        "id": "qAzfvaeVDPCW",
        "outputId": "23dcf867-29a4-400e-f079-633911977f7a"
      },
      "execution_count": 26,
      "outputs": [
        {
          "output_type": "stream",
          "name": "stdout",
          "text": [
            "['', 'H', '', 'e', '', 'l', '', 'l', '', 'o', '', ',', '', ' ', '', 'w', '', 'o', '', 'r', '', 'l', '', 'd', '', '!', '']\n"
          ]
        }
      ]
    },
    {
      "cell_type": "code",
      "source": [
        "reg = re.compile(\"(?<=#START#).*(?=#END#)\")\n",
        "print(reg.findall(\"text from #START# till #END# ghgjj\"))"
      ],
      "metadata": {
        "colab": {
          "base_uri": "https://localhost:8080/"
        },
        "id": "HzK0_pZGEQby",
        "outputId": "b121f2e6-14c8-405c-9a5b-586c9c0dce51"
      },
      "execution_count": 29,
      "outputs": [
        {
          "output_type": "stream",
          "name": "stdout",
          "text": [
            "[' till ']\n"
          ]
        }
      ]
    },
    {
      "cell_type": "markdown",
      "source": [
        "## Решение задач из статьи https://habr.com/ru/articles/349860/"
      ],
      "metadata": {
        "id": "8w2ZGUrFUOSL"
      }
    },
    {
      "cell_type": "markdown",
      "source": [
        "### 1. Регистрационные знаки транспортных средств"
      ],
      "metadata": {
        "id": "oPGSGT9QUhzk"
      }
    },
    {
      "cell_type": "markdown",
      "source": [
        "В России применяются регистрационные знаки нескольких видов.\n",
        "Общего в них то, что они состоят из цифр и букв. Причём используются только 12 букв кириллицы, имеющие графические аналоги в латинском алфавите, — А, В, Е, К, М, Н, О, Р, С, Т, У и Х.\n",
        "\n",
        "\n",
        "У частных легковых автомобилях номера — это буква, три цифры, две буквы, затем две или три цифры с кодом региона. У такси — две буквы, три цифры, затем две или три цифры с кодом региона. Есть также и другие виды, но в этой задаче они не понадобятся.\n",
        "\n",
        "\n",
        "Вам потребуется определить, является ли последовательность букв корректным номером указанных двух типов, и если является, то каким.\n",
        "\n",
        "\n",
        "На вход даются строки, которые претендуют на то, чтобы быть номером. Определите тип номера. Буквы в номерах — заглавные русские. Маленькие и английские для простоты можно игнорировать."
      ],
      "metadata": {
        "id": "CG9S-qAoUnxl"
      }
    },
    {
      "cell_type": "code",
      "source": [
        "numbers = [\"С227НА777\", \"КУ22777\", \"Т22В7477\", \"М227К19У9\", \" С227НА777\"]"
      ],
      "metadata": {
        "id": "FQjnibzTUWYC"
      },
      "execution_count": 12,
      "outputs": []
    },
    {
      "cell_type": "code",
      "source": [
        "def check_auto_number(number):\n",
        "  reg_private = re.compile(\"[АВЕКМНОРСТУХ]\\d{3}[АВЕКМНОРСТУХ]{2}\\d{2,3}\")\n",
        "  reg_taxi = re.compile(\"[АВЕКМНОРСТУХ]{2}\\d{3}\\d{2,3}\")\n",
        "  if re.fullmatch(reg_private, number):\n",
        "    return \"PRIVATE\"\n",
        "  elif re.fullmatch(reg_taxi, number):\n",
        "    return \"TAXI\"\n",
        "  else:\n",
        "    return \"FAIL\""
      ],
      "metadata": {
        "id": "ZrI7hGXdUyd7"
      },
      "execution_count": 16,
      "outputs": []
    },
    {
      "cell_type": "code",
      "source": [
        "for number in numbers:\n",
        "  print(f\"The type of a car number: {check_auto_number(number)}.\")"
      ],
      "metadata": {
        "colab": {
          "base_uri": "https://localhost:8080/"
        },
        "id": "w2dFNY-HdN5L",
        "outputId": "6e444c9d-243b-49d7-afd8-c2aed4d9893b"
      },
      "execution_count": 17,
      "outputs": [
        {
          "output_type": "stream",
          "name": "stdout",
          "text": [
            "The type of a car number: FAIL.\n",
            "The type of a car number: FAIL.\n",
            "The type of a car number: FAIL.\n",
            "The type of a car number: FAIL.\n",
            "The type of a car number: FAIL.\n"
          ]
        }
      ]
    },
    {
      "cell_type": "markdown",
      "source": [
        "### 2. Количество слов"
      ],
      "metadata": {
        "id": "OQijdL_vUzAY"
      }
    },
    {
      "cell_type": "markdown",
      "source": [
        "Слово — это последовательность из букв (русских или английских), внутри которой могут быть дефисы.\n",
        "На вход даётся текст, посчитайте, сколько в нём слов.\n",
        "PS. Задача решается в одну строчку. Никакие хитрые техники, не упомянутые выше, не требуются."
      ],
      "metadata": {
        "id": "-QXAq0ZaU4K-"
      }
    },
    {
      "cell_type": "code",
      "source": [
        "check_lines = \"\"\"\n",
        "Он --- серо-буро-малиновая редиска!!\n",
        ">>>:->\n",
        "А не кот. 122\n",
        "www.kot123.ru\n",
        "\"\"\""
      ],
      "metadata": {
        "id": "goLuevKie1mo"
      },
      "execution_count": 21,
      "outputs": []
    },
    {
      "cell_type": "markdown",
      "source": [
        "Закомментировала следующие две строчки кода, потому что решение не соответствует заданию: слово -- это последовательность только из букв русских или английских. В моём решении попадаются как знаки препинания, так и числа, а электронный адрес считается за одно слово."
      ],
      "metadata": {
        "id": "A1wHo_EfhMb-"
      }
    },
    {
      "cell_type": "code",
      "source": [
        "# Вариант 1 неправильный\n",
        "# print(f\"Количество слов в тексте: {len(check_lines.split())}.\")"
      ],
      "metadata": {
        "colab": {
          "base_uri": "https://localhost:8080/"
        },
        "id": "8Ovob7h3U3ju",
        "outputId": "aed1a4d7-15a4-4fc8-be0e-912d74717992"
      },
      "execution_count": 22,
      "outputs": [
        {
          "output_type": "stream",
          "name": "stdout",
          "text": [
            "Количество слов в тексте: 10.\n"
          ]
        }
      ]
    },
    {
      "cell_type": "code",
      "source": [
        "# print(check_lines.split()) # смотрим на список слов"
      ],
      "metadata": {
        "colab": {
          "base_uri": "https://localhost:8080/"
        },
        "id": "Y4TUU5wvhBUI",
        "outputId": "051943ba-61c8-4ecd-d82e-0b5e05eb28c4"
      },
      "execution_count": 23,
      "outputs": [
        {
          "output_type": "stream",
          "name": "stdout",
          "text": [
            "['Он', '---', 'серо-буро-малиновая', 'редиска!!', '>>>:->', 'А', 'не', 'кот.', '122', 'www.kot123.ru']\n"
          ]
        }
      ]
    },
    {
      "cell_type": "code",
      "source": [
        "word_count = re.compile(\"[a-zA-Zа-яА-ЯёЁ]+[a-zA-Zа-яА-ЯёЁ-]*\")"
      ],
      "metadata": {
        "id": "K6z_rx2kiO2l"
      },
      "execution_count": 29,
      "outputs": []
    },
    {
      "cell_type": "code",
      "source": [
        "print(f\"Количество слов в тексте: {len(word_count.findall(check_lines))}.\")"
      ],
      "metadata": {
        "colab": {
          "base_uri": "https://localhost:8080/"
        },
        "id": "1BF8jYYahzMQ",
        "outputId": "84dd3f8b-3d14-43ce-f2db-a3bd5c7ddfce"
      },
      "execution_count": 30,
      "outputs": [
        {
          "output_type": "stream",
          "name": "stdout",
          "text": [
            "Количество слов в тексте: 9.\n"
          ]
        }
      ]
    },
    {
      "cell_type": "code",
      "source": [
        "print(word_count.findall(check_lines)) # смотрим на список слов"
      ],
      "metadata": {
        "colab": {
          "base_uri": "https://localhost:8080/"
        },
        "id": "6hPrEyROi2OD",
        "outputId": "939f77ba-c9fe-4718-d425-abc78c4b65ad"
      },
      "execution_count": 31,
      "outputs": [
        {
          "output_type": "stream",
          "name": "stdout",
          "text": [
            "['Он', 'серо-буро-малиновая', 'редиска', 'А', 'не', 'кот', 'www', 'kot', 'ru']\n"
          ]
        }
      ]
    },
    {
      "cell_type": "markdown",
      "source": [
        "### 3. Поиск e-mailов"
      ],
      "metadata": {
        "id": "iPHgPZY5U_ki"
      }
    },
    {
      "cell_type": "markdown",
      "source": [
        "Допустимый формат e-mail адреса регулируется стандартом RFC 5322.\n",
        "Если говорить вкратце, то e-mail состоит из одного символа @ (at-символ или собака), текста до собаки (Local-part) и текста после собаки (Domain part). Вообще в адресе может быть всякий беспредел (вкратце можно прочитать о нём в википедии). Довольно странные штуки могут быть валидным адресом, например:\n",
        "\"very.(),:;<>[]\\\".VERY.\\\"very@\\\\ \\\"very\\\".unusual\"@[IPv6:2001:db8::1]\n",
        "\"()<>[]:,;@\\\\\\\"!#$%&'-/=?^_`{}| ~.a\"@(comment)example\n",
        "Но большинство почтовых сервисов такой ад и вакханалию не допускают. И мы тоже не будем :)\n",
        "\n",
        "\n",
        "Будем рассматривать только адреса, имя которых состоит из не более, чем 64 латинских букв, цифр и символов '._+-, а домен — из не более, чем 255 латинских букв, цифр и символов .-. Ни Local-part, ни Domain part не может начинаться или заканчиваться на .+-, а ещё в адресе не может быть более одной точки подряд.\n",
        "\n",
        "\n",
        "Кстати, полезно знать, что часть имени после символа + игнорируется, поэтому можно использовать синонимы своего адреса (например, shаshkоv+spam@179.ru и shаshkоv+vk@179.ru), для того, чтобы упростить себе сортировку почты. (Правда не все сайты позволяют использовать \"+\", увы.)\n",
        "\n",
        "\n",
        "На вход даётся текст. Необходимо вывести все e-mail адреса, которые в нём встречаются. В общем виде задача достаточно сложная, поэтому у нас будет 3 ограничения:\n",
        "две точки внутри адреса не встречаются;\n",
        "две собаки внутри адреса не встречаются;\n",
        "считаем, что e-mail может быть частью «слова», то есть в boo@ya_ru мы видим адрес boo@ya, а в foo№boo@ya.ru видим boo@ya.ru."
      ],
      "metadata": {
        "id": "6gaE2MYeVD23"
      }
    },
    {
      "cell_type": "code",
      "source": [
        "check_emails = \"\"\"Иван Иванович! Нужен ответ на письмо от ivanoff@ivan-chai.ru.\n",
        "                Не забудьте поставить в копию serge'o-lupin@mail.ru- это важно.\n",
        "                NO: foo.@ya.ru, foo@.ya.ru\n",
        "                PARTLY: boo@ya_ru, -boo@ya.ru-, foo№boo@ya.ru\"\"\""
      ],
      "metadata": {
        "id": "ew8Ufb1hVDeU"
      },
      "execution_count": 41,
      "outputs": []
    },
    {
      "cell_type": "code",
      "source": [
        "def emails_regex():\n",
        "\n",
        "    local_part = \"[a-zA-Z0-9]\\.?(?:[a-zA-Z0-9_+\\'-][\\.]?)*[a-zA-Z0-9]\"\n",
        "    domain_part = \"[a-zA-Z0-9]\\.?(?:[a-zA-Z0-9_+\\'-][\\.]?)*[a-zA-Z0-9_+'-]*\\.[a-zA-Z0-9]{2,}\"\n",
        "\n",
        "    regex_str = local_part + \"@\" + domain_part\n",
        "\n",
        "    return re.compile(regex_str)\n",
        "\n",
        "email = emails_regex()"
      ],
      "metadata": {
        "id": "hjEkRHvulyrr"
      },
      "execution_count": 84,
      "outputs": []
    },
    {
      "cell_type": "code",
      "source": [
        "re.findall(email, check_emails)"
      ],
      "metadata": {
        "colab": {
          "base_uri": "https://localhost:8080/"
        },
        "id": "A5CQqpV0l_i6",
        "outputId": "0228fc6c-526a-45b3-83a8-edb9dcd74e2d"
      },
      "execution_count": 85,
      "outputs": [
        {
          "output_type": "execute_result",
          "data": {
            "text/plain": [
              "['ivanoff@ivan-chai.ru', \"serge'o-lupin@mail.ru\", 'boo@ya.ru', 'boo@ya.ru']"
            ]
          },
          "metadata": {},
          "execution_count": 85
        }
      ]
    },
    {
      "cell_type": "markdown",
      "source": [
        "### 4. Замена времени"
      ],
      "metadata": {
        "id": "9bqQS9_1VPcI"
      }
    },
    {
      "cell_type": "markdown",
      "source": [
        "Вовочка подготовил одно очень важное письмо, но везде указал неправильное время. Поэтому нужно заменить все вхождения времени на строку (TBD). Время — это строка вида HH:MM:SS или HH:MM, в которой HH — число от 00 до 23, а MM и SS — число от 00 до 59."
      ],
      "metadata": {
        "id": "c51ECgb9VUtS"
      }
    },
    {
      "cell_type": "code",
      "source": [],
      "metadata": {
        "id": "-gMDxyyQVUR_"
      },
      "execution_count": null,
      "outputs": []
    },
    {
      "cell_type": "markdown",
      "source": [
        "### 5. Действительные числа в паскале"
      ],
      "metadata": {
        "id": "Khlgb7bDVY4F"
      }
    },
    {
      "cell_type": "markdown",
      "source": [
        "Pascal requires that real constants have either a decimal point, or an exponent (starting with the letter e or E, and officially called a scale factor), or both, in addition to the usual collection of decimal digits. If a decimal point is included it must have at least one decimal digit on each side of it. As expected, a sign (+ or -) may precede the entire number, or the exponent, or both. Exponents may not include fractional digits. Blanks may precede or follow the real constant, but they may not be embedded within it. Note that the Pascal syntax rules for real constants make no assumptions about the range of real values, and neither does this problem. Your task in this problem is to identify legal Pascal real constants."
      ],
      "metadata": {
        "id": "KtYYqc8bVdd8"
      }
    },
    {
      "cell_type": "code",
      "source": [],
      "metadata": {
        "id": "2lOW6KMMVc6H"
      },
      "execution_count": null,
      "outputs": []
    },
    {
      "cell_type": "markdown",
      "source": [
        "### 6. Аббревиатуры"
      ],
      "metadata": {
        "id": "lyNbySb7Vipz"
      }
    },
    {
      "cell_type": "markdown",
      "source": [
        "Владимир устроился на работу в одно очень важное место. И в первом же документе он ничего не понял,\n",
        "там были сплошные ФГУП НИЦ ГИДГЕО, ФГОУ ЧШУ АПК и т.п. Тогда он решил собрать все аббревиатуры, чтобы потом найти их расшифровки на http://sokr.ru/. Помогите ему.\n",
        "\n",
        "Будем считать аббревиатурой слова только лишь из заглавных букв (как минимум из двух). Если несколько таких слов разделены пробелами, то они считаются одной аббревиатурой."
      ],
      "metadata": {
        "id": "fDAU0BMEVkeA"
      }
    },
    {
      "cell_type": "code",
      "source": [],
      "metadata": {
        "id": "qyUWs3nmVj8l"
      },
      "execution_count": null,
      "outputs": []
    },
    {
      "cell_type": "markdown",
      "source": [
        "### 7. Шифровка"
      ],
      "metadata": {
        "id": "WZxrzbuXVypc"
      }
    },
    {
      "cell_type": "markdown",
      "source": [
        "Владимиру потребовалось срочно запутать финансовую документацию. Но так, чтобы это было обратимо.\n",
        "Он не придумал ничего лучше, чем заменить каждое целое число (последовательность цифр) на его куб. Помогите ему."
      ],
      "metadata": {
        "id": "kwUy3erCVrTK"
      }
    },
    {
      "cell_type": "code",
      "source": [],
      "metadata": {
        "id": "mZA0-0xJVyIT"
      },
      "execution_count": null,
      "outputs": []
    },
    {
      "cell_type": "markdown",
      "source": [
        "### 8. То ли акростих, то ли акроним, то ли апроним\n",
        "\n"
      ],
      "metadata": {
        "id": "iquY9f6uV1xJ"
      }
    },
    {
      "cell_type": "markdown",
      "source": [
        "Акростих — осмысленный текст, сложенный из начальных букв каждой строки стихотворения.\n",
        "Акроним — вид аббревиатуры, образованной начальными звуками (напр. НАТО, вуз, НАСА, ТАСС), которое можно произнести слитно (в отличие от аббревиатуры, которую произносят «по буквам», например: КГБ — «ка-гэ-бэ»).\n",
        "\n",
        "На вход даётся текст. Выведите слитно первые буквы каждого слова. Буквы необходимо выводить заглавными. Эту задачу можно решить в одну строчку."
      ],
      "metadata": {
        "id": "WYnOWrUzV-m6"
      }
    },
    {
      "cell_type": "code",
      "source": [],
      "metadata": {
        "id": "9CMLDol4V70G"
      },
      "execution_count": null,
      "outputs": []
    },
    {
      "cell_type": "markdown",
      "source": [
        "### 9. Хайку"
      ],
      "metadata": {
        "id": "F_D3juU-WDkv"
      }
    },
    {
      "cell_type": "markdown",
      "source": [
        "Хайку — жанр традиционной японской лирической поэзии века, известный с XIV века.\n",
        "Оригинальное японское хайку состоит из 17 слогов, составляющих один столбец иероглифов. Особыми разделительными словами — кирэдзи — текст хайку делится на части из 5, 7 и снова 5 слогов. При переводе хайку на западные языки традиционно вместо разделительного слова использую разрыв строки и, таким образом, хайку записываются как трёхстишия.\n",
        "\n",
        "\n",
        "Перед вами трёхстишия, которые претендуют на то, чтобы быть хайку. В качестве разделителя строк используются символы / . Если разделители делят текст на строки, в которых 5/7/5 слогов, то выведите «Хайку!». Если число строк не равно 3, то выведите строку «Не хайку. Должно быть 3 строки.» Иначе выведите строку вида «Не хайку. В i строке слогов не s, а j», где строка i — самая ранняя, в которой количество слогов неправильное.\n",
        "\n",
        "\n",
        "Для простоты будем считать, что слогов ровно столько же, сколько гласных, не задумываясь о тонкостях."
      ],
      "metadata": {
        "id": "TQBsYq2XWI20"
      }
    },
    {
      "cell_type": "code",
      "source": [],
      "metadata": {
        "id": "jO3EpzTAWIWE"
      },
      "execution_count": null,
      "outputs": []
    },
    {
      "cell_type": "markdown",
      "source": [
        "### 10. CamelCase -> under_score"
      ],
      "metadata": {
        "id": "tT8yGg4bWM3P"
      }
    },
    {
      "cell_type": "markdown",
      "source": [
        "Владимир написал свой открытый проект, именуя переменные в стиле «ВерблюжийРегистр».\n",
        "\n",
        "И только после того, как написал о нём статью, он узнал, что в питоне для имён переменных принято использовать подчёркивания для разделения слов (under_score). Нужно срочно всё исправить, пока его не «закидали тапками».\n",
        "\n",
        "Задача могла бы оказаться достаточно сложной, но, к счастью, Владимир совсем не использовал строковых констант и классов.\n",
        "Поэтому любая последовательность букв и цифр, внутри которой есть заглавные, — это имя переменной, которое нужно поправить."
      ],
      "metadata": {
        "id": "HMCVZ9fDWSoI"
      }
    },
    {
      "cell_type": "code",
      "source": [],
      "metadata": {
        "id": "aN6TnPEvWRw8"
      },
      "execution_count": null,
      "outputs": []
    },
    {
      "cell_type": "markdown",
      "source": [
        "### 11. Удаление повторов"
      ],
      "metadata": {
        "id": "sRY0j_sTWYMD"
      }
    },
    {
      "cell_type": "markdown",
      "source": [
        "Довольно распространённая ошибка ошибка — это повтор слова.\n",
        "Вот в предыдущем предложении такая допущена. Необходимо исправить каждый такой повтор (слово, один или несколько пробельных символов, и снова то же слово)."
      ],
      "metadata": {
        "id": "QK3BqFFVWeNa"
      }
    },
    {
      "cell_type": "code",
      "source": [],
      "metadata": {
        "id": "ya3d_QJnWb-a"
      },
      "execution_count": null,
      "outputs": []
    },
    {
      "cell_type": "markdown",
      "source": [
        "### 12. Близкие слова"
      ],
      "metadata": {
        "id": "UP7fZ4wMWhM1"
      }
    },
    {
      "cell_type": "markdown",
      "source": [
        "Для простоты будем считать словом любую последовательность букв, цифр и знаков _ (то есть символов \\w).\n",
        "\n",
        "Дан текст. Необходимо найти в нём любой фрагмент, где сначала идёт слово «олень», затем не более 5 слов, и после этого идёт слово «заяц»."
      ],
      "metadata": {
        "id": "pZvl-IsJWnCH"
      }
    },
    {
      "cell_type": "code",
      "source": [],
      "metadata": {
        "id": "WvgIaXaaWkwN"
      },
      "execution_count": null,
      "outputs": []
    },
    {
      "cell_type": "markdown",
      "source": [
        "### 13. Форматирование больших чисел"
      ],
      "metadata": {
        "id": "DlAgUEe2WrE2"
      }
    },
    {
      "cell_type": "markdown",
      "source": [
        "Большие целые числа удобно читать, когда цифры в них разделены на тройки запятыми.\n",
        "\n",
        "Переформатируйте целые числа в тексте."
      ],
      "metadata": {
        "id": "J9s3vhlsWwQH"
      }
    },
    {
      "cell_type": "code",
      "source": [],
      "metadata": {
        "id": "RKD37IQUWspy"
      },
      "execution_count": null,
      "outputs": []
    },
    {
      "cell_type": "markdown",
      "source": [
        "### 14. Разделить текст на предложения"
      ],
      "metadata": {
        "id": "O9_MzzklW0jZ"
      }
    },
    {
      "cell_type": "markdown",
      "source": [
        "Для простоты будем считать, что:\n",
        "* каждое предложение начинается с заглавной русской или латинской буквы;\n",
        "* каждое предложение заканчивается одним из знаков препинания .;!?;\n",
        "* между предложениями может быть любой непустой набор пробельных символов;\n",
        "* внутри предложений нет заглавных и точек (нет пакостей в духе «Мы любим творчество А. С. Пушкина)».\n",
        "\n",
        "\n",
        "\n",
        "Разделите текст на предложения так, чтобы каждое предложение занимало одну строку.\n",
        "\n",
        "Пустых строк в выводе быть не должно. Любые наборы из полее одного пробельного символа замените на один пробел."
      ],
      "metadata": {
        "id": "HxneAK4zW5V7"
      }
    },
    {
      "cell_type": "code",
      "source": [],
      "metadata": {
        "id": "wFelAWOYW2Xm"
      },
      "execution_count": null,
      "outputs": []
    },
    {
      "cell_type": "markdown",
      "source": [
        "### 15. Форматирование номера телефона"
      ],
      "metadata": {
        "id": "0xNLyBL5XO-V"
      }
    },
    {
      "cell_type": "markdown",
      "source": [
        " Если вы когда-нибудь пытались собирать номера мобильных телефонов, то наверняка знаете, что почти любые 10 человек используют как минимум пяток различных способов записать номер телефона. Кто-то начинает с +7, кто-то просто с 7 или 8, а некоторые вообще не пишут префикс. Трёхзначный код кто-то отделяет пробелами, кто-то при помощи дефиса, кто-то скобками (и после скобки ещё пробел некоторые добавляют). После следующих трёх цифр кто-то ставит пробел, кто-то дефис, кто-то ничего не ставит. И после следующих двух цифр — тоже. А некоторые начинают за здравие, а заканчивают… В общем очень неудобно!\n",
        "\n",
        "\n",
        "На вход даётся номер телефона, как его мог бы ввести человек. Необходимо его переформатировать в формат +7 123 456-78-90. Если с номером что-то не так, то нужно вывести строчку Fail!"
      ],
      "metadata": {
        "id": "yi3RYKwfXSG9"
      }
    },
    {
      "cell_type": "code",
      "source": [],
      "metadata": {
        "id": "ZQDNMFfsXP9A"
      },
      "execution_count": null,
      "outputs": []
    },
    {
      "cell_type": "markdown",
      "source": [
        "### 16. Поиск e-mail'ов — 2"
      ],
      "metadata": {
        "id": "g2XggkHFXWVo"
      }
    },
    {
      "cell_type": "markdown",
      "source": [
        "В предыдущей задаче мы немного схалтурили.\n",
        "Однако к этому моменту задача должна стать посильной!\n",
        "\n",
        "\n",
        "На вход даётся текст. Необходимо вывести все e-mail адреса, которые в нём встречаются. При этом e-mail не может быть частью слова, то есть слева и справа от e-mail'а должен быть либо конец строки, либо не-буква и при этом не один из символов '._+-, допустимых в адресе."
      ],
      "metadata": {
        "id": "YY5WztBnXZ-5"
      }
    },
    {
      "cell_type": "code",
      "source": [],
      "metadata": {
        "id": "5vwoZSd1XXgz"
      },
      "execution_count": null,
      "outputs": []
    }
  ]
}