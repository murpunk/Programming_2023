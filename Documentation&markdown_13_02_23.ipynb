{
  "cells": [
    {
      "cell_type": "markdown",
      "metadata": {
        "id": "view-in-github",
        "colab_type": "text"
      },
      "source": [
        "<a href=\"https://colab.research.google.com/github/murpunk/Programming_2023/blob/main/Documentation%26markdown_13_02_23.ipynb\" target=\"_parent\"><img src=\"https://colab.research.google.com/assets/colab-badge.svg\" alt=\"Open In Colab\"/></a>"
      ]
    },
    {
      "cell_type": "markdown",
      "metadata": {
        "id": "CKKGE1iZ7EpG"
      },
      "source": [
        "## 1. Вызов справки"
      ]
    },
    {
      "cell_type": "markdown",
      "metadata": {
        "id": "Pjbry6zz7EpK"
      },
      "source": [
        "### Функция **help()** выводит встроенную документацию по объектам"
      ]
    },
    {
      "cell_type": "code",
      "execution_count": null,
      "metadata": {
        "id": "2CpZC6FK7EpN",
        "outputId": "758b5e31-aef3-4948-d005-f111a03cf4c3"
      },
      "outputs": [
        {
          "name": "stdout",
          "output_type": "stream",
          "text": [
            "Help on built-in function len in module builtins:\n",
            "\n",
            "len(obj, /)\n",
            "    Return the number of items in a container.\n",
            "\n"
          ]
        }
      ],
      "source": [
        "help(len)"
      ]
    },
    {
      "cell_type": "markdown",
      "metadata": {
        "id": "if8hXiKK7EpR"
      },
      "source": [
        "### Вопросительный знак **?** после объекта выводит встроенную документацию даже для собственноручно созданных объектов"
      ]
    },
    {
      "cell_type": "code",
      "execution_count": null,
      "metadata": {
        "id": "-Rll0pLo7EpT"
      },
      "outputs": [],
      "source": [
        "def perimeter(a, b):\n",
        "    \"\"\"Получить периметр прямоугольника по формуле 2(a + b).\"\"\"\n",
        "    return 2 * (a + b)"
      ]
    },
    {
      "cell_type": "code",
      "execution_count": null,
      "metadata": {
        "id": "IbdKPjrw7EpW",
        "outputId": "c5d678b3-2ea0-453c-a139-a6fcfb545fbb"
      },
      "outputs": [
        {
          "data": {
            "text/plain": [
              "10"
            ]
          },
          "execution_count": 2,
          "metadata": {},
          "output_type": "execute_result"
        }
      ],
      "source": [
        "perimeter(2, 3)"
      ]
    },
    {
      "cell_type": "code",
      "execution_count": null,
      "metadata": {
        "id": "EsJWH2uL7EpY"
      },
      "outputs": [],
      "source": [
        "perimeter?"
      ]
    },
    {
      "cell_type": "markdown",
      "metadata": {
        "id": "nZf7G5RP7Epa"
      },
      "source": [
        "![%D0%A1%D0%BD%D0%B8%D0%BC%D0%BE%D0%BA%20%D0%B2%D0%B5%D0%B1-%D1%81%D1%82%D1%80%D0%B0%D0%BD%D0%B8%D1%86%D1%8B_13-2-2023_12558_localhost.jpeg](attachment:%D0%A1%D0%BD%D0%B8%D0%BC%D0%BE%D0%BA%20%D0%B2%D0%B5%D0%B1-%D1%81%D1%82%D1%80%D0%B0%D0%BD%D0%B8%D1%86%D1%8B_13-2-2023_12558_localhost.jpeg)"
      ]
    },
    {
      "cell_type": "markdown",
      "metadata": {
        "id": "ZNoJwxgO7Epc"
      },
      "source": [
        "### Двойной знак вопроса **??** после объекта выводит его исходный код"
      ]
    },
    {
      "cell_type": "code",
      "execution_count": null,
      "metadata": {
        "id": "fpCBfRBR7Eph"
      },
      "outputs": [],
      "source": [
        "perimeter??"
      ]
    },
    {
      "cell_type": "markdown",
      "metadata": {
        "id": "SzOzssZE7Epj"
      },
      "source": [
        "![%D0%A1%D0%BD%D0%B8%D0%BC%D0%BE%D0%BA%20%D0%B2%D0%B5%D0%B1-%D1%81%D1%82%D1%80%D0%B0%D0%BD%D0%B8%D1%86%D1%8B_13-2-2023_1231_localhost.jpeg](attachment:%D0%A1%D0%BD%D0%B8%D0%BC%D0%BE%D0%BA%20%D0%B2%D0%B5%D0%B1-%D1%81%D1%82%D1%80%D0%B0%D0%BD%D0%B8%D1%86%D1%8B_13-2-2023_1231_localhost.jpeg)"
      ]
    },
    {
      "cell_type": "markdown",
      "metadata": {
        "id": "mKdy85sY7Epl"
      },
      "source": [
        "### Клавиша Tab автодолняет названия"
      ]
    },
    {
      "cell_type": "code",
      "execution_count": null,
      "metadata": {
        "id": "kMQCkFYr7Epm"
      },
      "outputs": [],
      "source": [
        "android = 17"
      ]
    },
    {
      "cell_type": "code",
      "execution_count": null,
      "metadata": {
        "id": "JHZzhGBc7Epo"
      },
      "outputs": [],
      "source": [
        "an"
      ]
    },
    {
      "cell_type": "markdown",
      "metadata": {
        "id": "W14tgwrm7Epp"
      },
      "source": [
        "![%D0%A1%D0%BD%D0%B8%D0%BC%D0%BE%D0%BA%20%D0%B2%D0%B5%D0%B1-%D1%81%D1%82%D1%80%D0%B0%D0%BD%D0%B8%D1%86%D1%8B_13-2-2023_122145_localhost.jpeg](attachment:%D0%A1%D0%BD%D0%B8%D0%BC%D0%BE%D0%BA%20%D0%B2%D0%B5%D0%B1-%D1%81%D1%82%D1%80%D0%B0%D0%BD%D0%B8%D1%86%D1%8B_13-2-2023_122145_localhost.jpeg)"
      ]
    },
    {
      "cell_type": "code",
      "execution_count": null,
      "metadata": {
        "id": "piyJF0NP7Epq"
      },
      "outputs": [],
      "source": [
        "L = [1, 2, 3]"
      ]
    },
    {
      "cell_type": "markdown",
      "metadata": {
        "id": "4cI0jFIJ7Epr"
      },
      "source": [
        "Если ввести название объекта, поставить точку и потом нажать Tab, то можно вывести список всех атрибутов этого объекта"
      ]
    },
    {
      "cell_type": "code",
      "execution_count": null,
      "metadata": {
        "id": "Z4IVhUss7Epr"
      },
      "outputs": [],
      "source": [
        "L."
      ]
    },
    {
      "cell_type": "markdown",
      "metadata": {
        "id": "uoInJWVJ7Eps"
      },
      "source": [
        "![%D0%A1%D0%BD%D0%B8%D0%BC%D0%BE%D0%BA%20%D0%B2%D0%B5%D0%B1-%D1%81%D1%82%D1%80%D0%B0%D0%BD%D0%B8%D1%86%D1%8B_13-2-2023_122342_localhost.jpeg](attachment:%D0%A1%D0%BD%D0%B8%D0%BC%D0%BE%D0%BA%20%D0%B2%D0%B5%D0%B1-%D1%81%D1%82%D1%80%D0%B0%D0%BD%D0%B8%D1%86%D1%8B_13-2-2023_122342_localhost.jpeg)"
      ]
    },
    {
      "cell_type": "markdown",
      "metadata": {
        "id": "xNsl7-Us7Eps"
      },
      "source": [
        "### Знак звёздочки * можно использовать для гибкого поиска по строке"
      ]
    },
    {
      "cell_type": "code",
      "execution_count": null,
      "metadata": {
        "id": "w6N3iNQ87Ept"
      },
      "outputs": [],
      "source": [
        "*.find?"
      ]
    },
    {
      "cell_type": "markdown",
      "metadata": {
        "id": "75AG7pTo7Ept"
      },
      "source": [
        "![%D0%A1%D0%BD%D0%B8%D0%BC%D0%BE%D0%BA%20%D0%B2%D0%B5%D0%B1-%D1%81%D1%82%D1%80%D0%B0%D0%BD%D0%B8%D1%86%D1%8B_13-2-2023_122951_localhost.jpeg](attachment:%D0%A1%D0%BD%D0%B8%D0%BC%D0%BE%D0%BA%20%D0%B2%D0%B5%D0%B1-%D1%81%D1%82%D1%80%D0%B0%D0%BD%D0%B8%D1%86%D1%8B_13-2-2023_122951_localhost.jpeg)"
      ]
    },
    {
      "cell_type": "markdown",
      "metadata": {
        "id": "HYk_9g-47Epu"
      },
      "source": [
        "## 2. Магические команды IPython"
      ]
    },
    {
      "cell_type": "markdown",
      "metadata": {
        "id": "NzJlATfi7Epv"
      },
      "source": [
        "### %run Исполнение внешнего кода"
      ]
    },
    {
      "cell_type": "code",
      "execution_count": null,
      "metadata": {
        "id": "mVDfQTo07Epx",
        "outputId": "4886cce2-e747-4080-c5d1-9f5625b0a80a"
      },
      "outputs": [
        {
          "name": "stdout",
          "output_type": "stream",
          "text": [
            "x = 7\n",
            "y = 9\n",
            "x + y = 16\n",
            "x - y = -2\n",
            "x * y = 63\n",
            "x / y = 0.7777777777777778\n",
            "x ** y = 40353607\n",
            "x // y = 0\n",
            "x % y = 7\n",
            "x & y = 1\n",
            "\n",
            "\n"
          ]
        }
      ],
      "source": [
        "%run 1.py"
      ]
    },
    {
      "cell_type": "markdown",
      "metadata": {
        "id": "Rh5J2bBU7Epy"
      },
      "source": [
        "Можно обратиться к переменной этого файла"
      ]
    },
    {
      "cell_type": "code",
      "execution_count": null,
      "metadata": {
        "id": "S8_StN3m7Epz",
        "outputId": "111b2deb-3a88-4aa3-a559-90fc7da50a15"
      },
      "outputs": [
        {
          "data": {
            "text/plain": [
              "7"
            ]
          },
          "execution_count": 19,
          "metadata": {},
          "output_type": "execute_result"
        }
      ],
      "source": [
        "x"
      ]
    },
    {
      "cell_type": "markdown",
      "metadata": {
        "id": "OyO2UiNb7Ep0"
      },
      "source": [
        "###  %timeit, %%timeit Время выполнения кода"
      ]
    },
    {
      "cell_type": "markdown",
      "metadata": {
        "id": "JaLhf9NH7Ep1"
      },
      "source": [
        "**%timeit** применяется к текущей строке"
      ]
    },
    {
      "cell_type": "code",
      "execution_count": null,
      "metadata": {
        "id": "ykP-t4Wg7Ep1",
        "outputId": "2565882e-e6a2-43e3-ece9-e0feb7ad3b48"
      },
      "outputs": [
        {
          "name": "stdout",
          "output_type": "stream",
          "text": [
            "7.1 ns ± 0.0201 ns per loop (mean ± std. dev. of 7 runs, 100000000 loops each)\n"
          ]
        }
      ],
      "source": [
        " %timeit 1 + 3"
      ]
    },
    {
      "cell_type": "markdown",
      "metadata": {
        "id": "gT1ZmgYr7Ep2"
      },
      "source": [
        "**%%timeit** применяется к блоку кода -- ко всей ячейке"
      ]
    },
    {
      "cell_type": "code",
      "execution_count": null,
      "metadata": {
        "id": "YkcteanS7Ep2",
        "outputId": "b30b14e2-51f2-4c79-c2dd-11483470f2c1"
      },
      "outputs": [
        {
          "name": "stdout",
          "output_type": "stream",
          "text": [
            "7.08 ns ± 0.0318 ns per loop (mean ± std. dev. of 7 runs, 100000000 loops each)\n"
          ]
        }
      ],
      "source": [
        "%%timeit\n",
        "1 + 3\n",
        "4 / 2\n",
        "6 * 6\n",
        "9**3"
      ]
    },
    {
      "cell_type": "markdown",
      "metadata": {
        "id": "S1tg3k0k7Ep2"
      },
      "source": [
        "### История команд с помощью In и Out"
      ]
    },
    {
      "cell_type": "code",
      "execution_count": null,
      "metadata": {
        "id": "N_8tOy8Z7Ep4",
        "outputId": "c2aa60d5-8aaa-47ea-8155-5b0bf7935913"
      },
      "outputs": [
        {
          "data": {
            "text/plain": [
              "['',\n",
              " 'def perimeter(a, b):\\n    \"\"\"Получить периметр прямоугольника по формуле\"\"\"\\n    return 2 * (a + b)',\n",
              " 'perimeter(2, 3)',\n",
              " \"get_ipython().run_line_magic('pinfo', 'perimeter')\",\n",
              " 'help(len)',\n",
              " 'def perimeter(a, b):\\n    \"\"\"Получить периметр прямоугольника по формуле 2(a + b).\"\"\"\\n    return 2 * (a + b)',\n",
              " \"get_ipython().run_line_magic('pinfo', 'perimeter')\",\n",
              " \"get_ipython().run_line_magic('pinfo2', 'perimeter')\",\n",
              " \"get_ipython().run_line_magic('pinfo', 'perimeter')\",\n",
              " 'apple = 56',\n",
              " 'android = 17',\n",
              " 'L = [1, 2, 3]',\n",
              " '*find',\n",
              " '*find&',\n",
              " \"get_ipython().run_line_magic('psearch', '*find')\",\n",
              " \"get_ipython().run_line_magic('psearch', '*.find')\",\n",
              " '### %run',\n",
              " \"get_ipython().run_line_magic('run', '1.py')\",\n",
              " \"get_ipython().set_next_input('1.py');get_ipython().run_line_magic('pinfo2', 'py')\",\n",
              " 'x',\n",
              " \"get_ipython().run_line_magic('timeit', '1 + 3')\",\n",
              " \"get_ipython().run_cell_magic('timeit', 'применяется к блоку кода -- ко всей ячейке', '')\",\n",
              " \"get_ipython().run_cell_magic('timeit', '1 + 3', '4 / 2\\\\n6 * 6\\\\n9**3\\\\n')\",\n",
              " \"get_ipython().run_cell_magic('timeit', '', '1 + 3\\\\n4 / 2\\\\n6 * 6\\\\n9**3\\\\n')\",\n",
              " 'In']"
            ]
          },
          "execution_count": 24,
          "metadata": {},
          "output_type": "execute_result"
        }
      ],
      "source": [
        "In"
      ]
    },
    {
      "cell_type": "code",
      "execution_count": null,
      "metadata": {
        "id": "IfFr9o0O7Ep4",
        "outputId": "c721479a-dc68-478f-a90e-3f8bc88ba141"
      },
      "outputs": [
        {
          "data": {
            "text/plain": [
              "{2: 10,\n",
              " 19: 7,\n",
              " 24: ['',\n",
              "  'def perimeter(a, b):\\n    \"\"\"Получить периметр прямоугольника по формуле\"\"\"\\n    return 2 * (a + b)',\n",
              "  'perimeter(2, 3)',\n",
              "  \"get_ipython().run_line_magic('pinfo', 'perimeter')\",\n",
              "  'help(len)',\n",
              "  'def perimeter(a, b):\\n    \"\"\"Получить периметр прямоугольника по формуле 2(a + b).\"\"\"\\n    return 2 * (a + b)',\n",
              "  \"get_ipython().run_line_magic('pinfo', 'perimeter')\",\n",
              "  \"get_ipython().run_line_magic('pinfo2', 'perimeter')\",\n",
              "  \"get_ipython().run_line_magic('pinfo', 'perimeter')\",\n",
              "  'apple = 56',\n",
              "  'android = 17',\n",
              "  'L = [1, 2, 3]',\n",
              "  '*find',\n",
              "  '*find&',\n",
              "  \"get_ipython().run_line_magic('psearch', '*find')\",\n",
              "  \"get_ipython().run_line_magic('psearch', '*.find')\",\n",
              "  '### %run',\n",
              "  \"get_ipython().run_line_magic('run', '1.py')\",\n",
              "  \"get_ipython().set_next_input('1.py');get_ipython().run_line_magic('pinfo2', 'py')\",\n",
              "  'x',\n",
              "  \"get_ipython().run_line_magic('timeit', '1 + 3')\",\n",
              "  \"get_ipython().run_cell_magic('timeit', 'применяется к блоку кода -- ко всей ячейке', '')\",\n",
              "  \"get_ipython().run_cell_magic('timeit', '1 + 3', '4 / 2\\\\n6 * 6\\\\n9**3\\\\n')\",\n",
              "  \"get_ipython().run_cell_magic('timeit', '', '1 + 3\\\\n4 / 2\\\\n6 * 6\\\\n9**3\\\\n')\",\n",
              "  'In',\n",
              "  'Out']}"
            ]
          },
          "execution_count": 25,
          "metadata": {},
          "output_type": "execute_result"
        }
      ],
      "source": [
        "Out"
      ]
    },
    {
      "cell_type": "markdown",
      "metadata": {
        "id": "bO2XFhXW7Ep5"
      },
      "source": [
        "### Быстрый доступ к предыдущим выводам с помощью знака подчеркивания"
      ]
    },
    {
      "cell_type": "code",
      "execution_count": null,
      "metadata": {
        "id": "eW02W_gA7Ep5",
        "outputId": "c73e61f0-6566-4248-c00a-0202f4f21d7c"
      },
      "outputs": [
        {
          "name": "stdout",
          "output_type": "stream",
          "text": [
            "['', 'def perimeter(a, b):\\n    \"\"\"Получить периметр прямоугольника по формуле\"\"\"\\n    return 2 * (a + b)', 'perimeter(2, 3)', \"get_ipython().run_line_magic('pinfo', 'perimeter')\", 'help(len)', 'def perimeter(a, b):\\n    \"\"\"Получить периметр прямоугольника по формуле 2(a + b).\"\"\"\\n    return 2 * (a + b)', \"get_ipython().run_line_magic('pinfo', 'perimeter')\", \"get_ipython().run_line_magic('pinfo2', 'perimeter')\", \"get_ipython().run_line_magic('pinfo', 'perimeter')\", 'apple = 56', 'android = 17', 'L = [1, 2, 3]', '*find', '*find&', \"get_ipython().run_line_magic('psearch', '*find')\", \"get_ipython().run_line_magic('psearch', '*.find')\", '### %run', \"get_ipython().run_line_magic('run', '1.py')\", \"get_ipython().set_next_input('1.py');get_ipython().run_line_magic('pinfo2', 'py')\", 'x', \"get_ipython().run_line_magic('timeit', '1 + 3')\", \"get_ipython().run_cell_magic('timeit', 'применяется к блоку кода -- ко всей ячейке', '')\", \"get_ipython().run_cell_magic('timeit', '1 + 3', '4 / 2\\\\n6 * 6\\\\n9**3\\\\n')\", \"get_ipython().run_cell_magic('timeit', '', '1 + 3\\\\n4 / 2\\\\n6 * 6\\\\n9**3\\\\n')\", 'In', 'Out', 'print(_)']\n"
          ]
        }
      ],
      "source": [
        "print(_)"
      ]
    },
    {
      "cell_type": "code",
      "execution_count": null,
      "metadata": {
        "id": "peAAdP0z7Ep6",
        "outputId": "aa811876-528b-490d-9e27-6ed0ca28f12c"
      },
      "outputs": [
        {
          "name": "stdout",
          "output_type": "stream",
          "text": [
            "7\n"
          ]
        }
      ],
      "source": [
        "print(__)"
      ]
    },
    {
      "cell_type": "code",
      "execution_count": null,
      "metadata": {
        "id": "iI6yAVm_7Ep6",
        "outputId": "b014c89c-7623-4e3b-b4e4-cff00c69b9b1"
      },
      "outputs": [
        {
          "name": "stdout",
          "output_type": "stream",
          "text": [
            "10\n"
          ]
        }
      ],
      "source": [
        "print(___)"
      ]
    },
    {
      "cell_type": "code",
      "execution_count": null,
      "metadata": {
        "id": "AjwUmSso7Ep7",
        "outputId": "fe1c69ff-1020-4399-f394-5de8ed8259b7"
      },
      "outputs": [
        {
          "data": {
            "text/plain": [
              "'print(_1)'"
            ]
          },
          "execution_count": 33,
          "metadata": {},
          "output_type": "execute_result"
        }
      ],
      "source": [
        "_i"
      ]
    },
    {
      "cell_type": "code",
      "execution_count": null,
      "metadata": {
        "id": "PNjLEmGH7Ep8",
        "outputId": "b3eb3ad1-8bd7-4032-d8cc-e61ca88b74e1"
      },
      "outputs": [
        {
          "name": "stdout",
          "output_type": "stream",
          "text": [
            "print(___)\n"
          ]
        }
      ],
      "source": [
        "print(_ii)"
      ]
    },
    {
      "cell_type": "code",
      "execution_count": null,
      "metadata": {
        "id": "EyC3E3lr7Ep8",
        "outputId": "f1f73950-c635-4f86-eaaa-ffa7be7157a8"
      },
      "outputs": [
        {
          "name": "stdout",
          "output_type": "stream",
          "text": [
            "print(___)\n"
          ]
        }
      ],
      "source": [
        "print(_iii)"
      ]
    },
    {
      "cell_type": "code",
      "execution_count": null,
      "metadata": {
        "id": "k-tihChE7Ep9",
        "outputId": "9cb7979b-0e36-4dd2-fc3f-40fc11c438f8"
      },
      "outputs": [
        {
          "data": {
            "text/plain": [
              "10"
            ]
          },
          "execution_count": 34,
          "metadata": {},
          "output_type": "execute_result"
        }
      ],
      "source": [
        "_2"
      ]
    },
    {
      "cell_type": "code",
      "execution_count": null,
      "metadata": {
        "id": "uuWwEfA27Ep9"
      },
      "outputs": [],
      "source": []
    }
  ],
  "metadata": {
    "kernelspec": {
      "display_name": "Python 3",
      "language": "python",
      "name": "python3"
    },
    "language_info": {
      "codemirror_mode": {
        "name": "ipython",
        "version": 3
      },
      "file_extension": ".py",
      "mimetype": "text/x-python",
      "name": "python",
      "nbconvert_exporter": "python",
      "pygments_lexer": "ipython3",
      "version": "3.7.3"
    },
    "colab": {
      "provenance": [],
      "include_colab_link": true
    }
  },
  "nbformat": 4,
  "nbformat_minor": 0
}